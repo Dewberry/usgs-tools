{
 "cells": [
  {
   "cell_type": "markdown",
   "metadata": {},
   "source": [
    "# Development Notebooks\n",
    "\n",
    "## StreamStats API Scraper\n",
    "\n",
    "Usage Notes:\n",
    "\n",
    "1. Create a shapefile containing catchment outlets. Make sure you use the stream grid from: https://streamstatsags.cr.usgs.gov/StreamGrids/directoryBrowsing.asp and that your catchment outlets are located on the stream grid. Outlets should be three or more cells upstream of the confluence.\n",
    "2. Specify the state where the catchment outlets are located. To do this, add the state's abbreviation in the second cell below.\n",
    "3. Also, in the second cell, specifiy the location of the aforementioned shapefile. \n",
    "4. Run all cells\n",
    "\n",
    "Outputs:\n",
    "\n",
    "1. geojson file containing the delinated catchment boundary and flow frequency data for each catchment outlet.\n",
    "2. CSV file containing the flow frequency data for all catchment outlets.\n",
    "\n",
    "by slawler@dewberry.com & sputnam@dewberry.com"
   ]
  },
  {
   "cell_type": "code",
   "execution_count": 3,
   "metadata": {},
   "outputs": [],
   "source": [
    "import os\n",
    "from stream_stats import*\n",
    "import geopandas as gpd\n",
    "from geojson import dump"
   ]
  },
  {
   "cell_type": "markdown",
   "metadata": {},
   "source": [
    "### Specify the state abbreviation and location of the shapefile: "
   ]
  },
  {
   "cell_type": "code",
   "execution_count": 4,
   "metadata": {},
   "outputs": [],
   "source": [
    "state='MD' #The state abbreviation\n",
    "\n",
    "path=r'C:\\Users\\sputnam\\Documents\\FEMAFloodPlain\\ArcGIS\\Data\\Converted_Graphics_3.shp' #The location of the shapefile containing the lat/lon of the catchment outlets"
   ]
  },
  {
   "cell_type": "markdown",
   "metadata": {},
   "source": [
    "##### Load the shapefile:"
   ]
  },
  {
   "cell_type": "code",
   "execution_count": 5,
   "metadata": {},
   "outputs": [
    {
     "name": "stdout",
     "output_type": "stream",
     "text": [
      "0    POINT (-77.04582686669082 38.95039400462227)\n",
      "1    POINT (-77.05163009280658 38.98614966541195)\n",
      "Name: geometry, dtype: object\n"
     ]
    }
   ],
   "source": [
    "gdf=gpd.read_file(path) #Read the shapefile as a geopandas dataframe\n",
    "\n",
    "geom=gdf.geometry #Extract the shapley geometry for the outlets in the shapefile\n",
    "\n",
    "print(geom.head(2))"
   ]
  },
  {
   "cell_type": "markdown",
   "metadata": {},
   "source": [
    "### Run the API tool for each catchment outlet:"
   ]
  },
  {
   "cell_type": "code",
   "execution_count": null,
   "metadata": {},
   "outputs": [],
   "source": [
    "pp_dic = {} #Dictionary to store the outlet flow frequency data dictionaries\n",
    "\n",
    "watershed_poly_dic= {} #Dictionary to store the catchment polygons (catchment boundaries)\n",
    "\n",
    "pp_fail=[] #List to store outlet locations whose flow frequency/catchment polygons were not calculated\n",
    "\n",
    "pp_dic, watershed_poly_dic=snappoint_analysis(geom, state, status=False) #Run the snappoint function for all catchment outlets within the shapefile and for the specified state. Option: set status=False to hide print statements"
   ]
  },
  {
   "cell_type": "markdown",
   "metadata": {},
   "source": [
    "### Construct a summary table of the flow frequency data for each outlet:"
   ]
  },
  {
   "cell_type": "code",
   "execution_count": null,
   "metadata": {},
   "outputs": [],
   "source": [
    "ffdata=ff_summary(pp_dic) #Run this function to construct the summary table for all outlet locations\n",
    "\n",
    "ffdata.head()    "
   ]
  },
  {
   "cell_type": "markdown",
   "metadata": {},
   "source": [
    "###  Save the results:"
   ]
  },
  {
   "cell_type": "markdown",
   "metadata": {},
   "source": [
    "##### As a CSV:"
   ]
  },
  {
   "cell_type": "code",
   "execution_count": null,
   "metadata": {},
   "outputs": [],
   "source": [
    "cpath=os.path.join(os.getcwd(),'results') #Location to save the results\n",
    "\n",
    "if os.path.isdir(cpath)==False: #If the desired path does not exist, create it.\n",
    "    os.mkdir(cpath)    \n",
    "    \n",
    "ffdata.to_csv(os.path.join(cpath,'flow_frequency_data.csv')) #Save the results as a csv"
   ]
  },
  {
   "cell_type": "markdown",
   "metadata": {},
   "source": [
    "##### As a geojson:"
   ]
  },
  {
   "cell_type": "code",
   "execution_count": null,
   "metadata": {},
   "outputs": [],
   "source": [
    "for i in pp_dic.keys():\n",
    "    watershed_poly_dic[i]['features'][0]['ffcurve']=pp_dic[i]\n",
    "    \n",
    "with open('results\\catchment_poly.geojson', 'w') as f:\n",
    "   dump(watershed_poly_dic, f)        "
   ]
  },
  {
   "cell_type": "markdown",
   "metadata": {},
   "source": [
    "# END"
   ]
  }
 ],
 "metadata": {
  "kernelspec": {
   "display_name": "Python 3",
   "language": "python",
   "name": "python3"
  },
  "language_info": {
   "codemirror_mode": {
    "name": "ipython",
    "version": 3
   },
   "file_extension": ".py",
   "mimetype": "text/x-python",
   "name": "python",
   "nbconvert_exporter": "python",
   "pygments_lexer": "ipython3",
   "version": "3.7.1"
  }
 },
 "nbformat": 4,
 "nbformat_minor": 2
}
