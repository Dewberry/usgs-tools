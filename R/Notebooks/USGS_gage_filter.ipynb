{
 "cells": [
  {
   "cell_type": "markdown",
   "metadata": {},
   "source": [
    "# USGS Gages Filter\n",
    "### Overview: Filter USGS gages based on the record availability and drainage area similarity for a given USGS station.\n",
    "\n",
    "#### References:\n",
    "##### [USGS Package Overview](https://owi.usgs.gov/R/dataRetrieval.html)\n",
    "##### [GitHub Repo](https://github.com/USGS-R/dataRetrieval)\n",
    "##### [CRAN](https://cran.r-project.org/web/packages/dataRetrieval/dataRetrieval.pdf)\n",
    "##### [USGS Parameter Code](https://nwis.waterdata.usgs.gov/usa/nwis/pmcodes?radio_pm_search=param_group&pm_group=All+--+include+all+parameter+groups&pm_search=&casrn_search=&srsname_search=&format=html_table&show=parameter_group_nm&show=parameter_nm&show=casrn&show=srsname&show=parameter_units)"
   ]
  },
  {
   "cell_type": "markdown",
   "metadata": {},
   "source": [
    "### Install and load required R packages"
   ]
  },
  {
   "cell_type": "code",
   "execution_count": 1,
   "metadata": {},
   "outputs": [
    {
     "name": "stderr",
     "output_type": "stream",
     "text": [
      "Loading required package: dataRetrieval\n",
      "Loading required package: curl\n",
      "Loading required package: repr\n",
      "Loading required package: maps\n",
      "Loading required package: dplyr\n",
      "\n",
      "Attaching package: 'dplyr'\n",
      "\n",
      "The following objects are masked from 'package:stats':\n",
      "\n",
      "    filter, lag\n",
      "\n",
      "The following objects are masked from 'package:base':\n",
      "\n",
      "    intersect, setdiff, setequal, union\n",
      "\n",
      "Loading required package: ggplot2\n",
      "Loading required package: leaflet\n",
      "Loading required package: htmlwidgets\n"
     ]
    },
    {
     "data": {
      "text/html": [
       "<ol>\n",
       "\t<li>TRUE</li>\n",
       "\t<li>TRUE</li>\n",
       "\t<li>TRUE</li>\n",
       "\t<li>TRUE</li>\n",
       "\t<li>TRUE</li>\n",
       "\t<li>TRUE</li>\n",
       "\t<li>TRUE</li>\n",
       "\t<li>TRUE</li>\n",
       "</ol>\n"
      ],
      "text/latex": [
       "\\begin{enumerate}\n",
       "\\item TRUE\n",
       "\\item TRUE\n",
       "\\item TRUE\n",
       "\\item TRUE\n",
       "\\item TRUE\n",
       "\\item TRUE\n",
       "\\item TRUE\n",
       "\\item TRUE\n",
       "\\end{enumerate}\n"
      ],
      "text/markdown": [
       "1. TRUE\n",
       "2. TRUE\n",
       "3. TRUE\n",
       "4. TRUE\n",
       "5. TRUE\n",
       "6. TRUE\n",
       "7. TRUE\n",
       "8. TRUE\n",
       "\n",
       "\n"
      ],
      "text/plain": [
       "[[1]]\n",
       "[1] TRUE\n",
       "\n",
       "[[2]]\n",
       "[1] TRUE\n",
       "\n",
       "[[3]]\n",
       "[1] TRUE\n",
       "\n",
       "[[4]]\n",
       "[1] TRUE\n",
       "\n",
       "[[5]]\n",
       "[1] TRUE\n",
       "\n",
       "[[6]]\n",
       "[1] TRUE\n",
       "\n",
       "[[7]]\n",
       "[1] TRUE\n",
       "\n",
       "[[8]]\n",
       "[1] TRUE\n"
      ]
     },
     "metadata": {},
     "output_type": "display_data"
    }
   ],
   "source": [
    "# Remove all objectts from R memory\n",
    "rm(list=ls())\n",
    "\n",
    "# List all required packages\n",
    "list.of.packages <- c(\"dataRetrieval\",\n",
    "                      \"curl\",\n",
    "                      \"repr\",\n",
    "                      \"maps\",\n",
    "                      \"dplyr\",\n",
    "                      \"ggplot2\",\n",
    "                      \"leaflet\",\n",
    "                      \"htmlwidgets\")\n",
    "\n",
    "\n",
    "# Install any required pacakage\n",
    "new.packages <- list.of.packages[!(list.of.packages %in% installed.packages()[,\"Package\"])]\n",
    "if(length(new.packages)) install.packages(new.packages)\n",
    "lapply(list.of.packages, require, character.only = TRUE)\n",
    "options(repr.matrix.max.cols = 40)\n"
   ]
  },
  {
   "cell_type": "code",
   "execution_count": 2,
   "metadata": {},
   "outputs": [],
   "source": [
    "# Given station information to look around for similar USGS gages (based on drainge area) and with sufficient records\n",
    "site_no <- \"01651000\"\n",
    "paraCode <- \"00060\"\n",
    "years_of_records <- 20\n",
    "da_epsilon <- 0.25\n",
    "bbox_delta <- 1.0 # Degrees\n"
   ]
  },
  {
   "cell_type": "code",
   "execution_count": 3,
   "metadata": {},
   "outputs": [
    {
     "data": {
      "text/html": [
       "<table>\n",
       "<thead><tr><th scope=col>agency_cd</th><th scope=col>site_no</th><th scope=col>station_nm</th><th scope=col>site_tp_cd</th><th scope=col>dec_lat_va</th><th scope=col>dec_long_va</th><th scope=col>colocated</th><th scope=col>queryTime</th></tr></thead>\n",
       "<tbody>\n",
       "\t<tr><td>USGS                                           </td><td>01651000                                       </td><td>NORTHWEST BR ANACOSTIA RIVER NR HYATTSVILLE, MD</td><td>ST                                             </td><td>38.95233                                       </td><td>-76.96606                                      </td><td>FALSE                                          </td><td>2019-08-07 14:25:11                            </td></tr>\n",
       "</tbody>\n",
       "</table>\n"
      ],
      "text/latex": [
       "\\begin{tabular}{r|llllllll}\n",
       " agency\\_cd & site\\_no & station\\_nm & site\\_tp\\_cd & dec\\_lat\\_va & dec\\_long\\_va & colocated & queryTime\\\\\n",
       "\\hline\n",
       "\t USGS                                            & 01651000                                        & NORTHWEST BR ANACOSTIA RIVER NR HYATTSVILLE, MD & ST                                              & 38.95233                                        & -76.96606                                       & FALSE                                           & 2019-08-07 14:25:11                            \\\\\n",
       "\\end{tabular}\n"
      ],
      "text/markdown": [
       "\n",
       "| agency_cd | site_no | station_nm | site_tp_cd | dec_lat_va | dec_long_va | colocated | queryTime |\n",
       "|---|---|---|---|---|---|---|---|\n",
       "| USGS                                            | 01651000                                        | NORTHWEST BR ANACOSTIA RIVER NR HYATTSVILLE, MD | ST                                              | 38.95233                                        | -76.96606                                       | FALSE                                           | 2019-08-07 14:25:11                             |\n",
       "\n"
      ],
      "text/plain": [
       "  agency_cd site_no  station_nm                                      site_tp_cd\n",
       "1 USGS      01651000 NORTHWEST BR ANACOSTIA RIVER NR HYATTSVILLE, MD ST        \n",
       "  dec_lat_va dec_long_va colocated queryTime          \n",
       "1 38.95233   -76.96606   FALSE     2019-08-07 14:25:11"
      ]
     },
     "metadata": {},
     "output_type": "display_data"
    },
    {
     "data": {
      "text/html": [
       "<table>\n",
       "<thead><tr><th scope=col>agency_cd</th><th scope=col>site_no</th><th scope=col>station_nm</th><th scope=col>site_tp_cd</th><th scope=col>lat_va</th><th scope=col>long_va</th><th scope=col>dec_lat_va</th><th scope=col>dec_long_va</th><th scope=col>coord_meth_cd</th><th scope=col>coord_acy_cd</th><th scope=col>coord_datum_cd</th><th scope=col>dec_coord_datum_cd</th><th scope=col>district_cd</th><th scope=col>state_cd</th><th scope=col>county_cd</th><th scope=col>country_cd</th><th scope=col>land_net_ds</th><th scope=col>map_nm</th><th scope=col>map_scale_fc</th><th scope=col>alt_va</th><th scope=col>...</th><th scope=col>alt_datum_cd</th><th scope=col>huc_cd</th><th scope=col>basin_cd</th><th scope=col>topo_cd</th><th scope=col>instruments_cd</th><th scope=col>construction_dt</th><th scope=col>inventory_dt</th><th scope=col>drain_area_va</th><th scope=col>contrib_drain_area_va</th><th scope=col>tz_cd</th><th scope=col>local_time_fg</th><th scope=col>reliability_cd</th><th scope=col>gw_file_cd</th><th scope=col>nat_aqfr_cd</th><th scope=col>aqfr_cd</th><th scope=col>aqfr_type_cd</th><th scope=col>well_depth_va</th><th scope=col>hole_depth_va</th><th scope=col>depth_src_cd</th><th scope=col>project_no</th></tr></thead>\n",
       "<tbody>\n",
       "\t<tr><td>USGS                                           </td><td>01651000                                       </td><td>NORTHWEST BR ANACOSTIA RIVER NR HYATTSVILLE, MD</td><td>ST                                             </td><td>385708.4                                       </td><td>765757.8                                       </td><td>38.95233                                       </td><td>-76.96606                                      </td><td>M                                              </td><td>S                                              </td><td>NAD83                                          </td><td>NAD83                                          </td><td>24                                             </td><td>24                                             </td><td>033                                            </td><td>US                                             </td><td>NA                                             </td><td>NA                                             </td><td>NA                                             </td><td>16.35                                          </td><td>...                                            </td><td>NAVD88                                         </td><td>02070010                                       </td><td>NA                                             </td><td>NA                                             </td><td>YYNNYNYNNYNNNNNNNNNNNNNNNNNNNN                 </td><td>NA                                             </td><td>NA                                             </td><td>49.4                                           </td><td>NA                                             </td><td>EST                                            </td><td>Y                                              </td><td>NA                                             </td><td>NNNNNNNN                                       </td><td>NA                                             </td><td>NA                                             </td><td>NA                                             </td><td>NA                                             </td><td>NA                                             </td><td>NA                                             </td><td>NA                                             </td></tr>\n",
       "</tbody>\n",
       "</table>\n"
      ],
      "text/latex": [
       "\\begin{tabular}{r|llllllllllllllllllllllllllllllllllllllllll}\n",
       " agency\\_cd & site\\_no & station\\_nm & site\\_tp\\_cd & lat\\_va & long\\_va & dec\\_lat\\_va & dec\\_long\\_va & coord\\_meth\\_cd & coord\\_acy\\_cd & coord\\_datum\\_cd & dec\\_coord\\_datum\\_cd & district\\_cd & state\\_cd & county\\_cd & country\\_cd & land\\_net\\_ds & map\\_nm & map\\_scale\\_fc & alt\\_va & ... & alt\\_datum\\_cd & huc\\_cd & basin\\_cd & topo\\_cd & instruments\\_cd & construction\\_dt & inventory\\_dt & drain\\_area\\_va & contrib\\_drain\\_area\\_va & tz\\_cd & local\\_time\\_fg & reliability\\_cd & gw\\_file\\_cd & nat\\_aqfr\\_cd & aqfr\\_cd & aqfr\\_type\\_cd & well\\_depth\\_va & hole\\_depth\\_va & depth\\_src\\_cd & project\\_no\\\\\n",
       "\\hline\n",
       "\t USGS                                            & 01651000                                        & NORTHWEST BR ANACOSTIA RIVER NR HYATTSVILLE, MD & ST                                              & 385708.4                                        & 765757.8                                        & 38.95233                                        & -76.96606                                       & M                                               & S                                               & NAD83                                           & NAD83                                           & 24                                              & 24                                              & 033                                             & US                                              & NA                                              & NA                                              & NA                                              & 16.35                                           & ...                                             & NAVD88                                          & 02070010                                        & NA                                              & NA                                              & YYNNYNYNNYNNNNNNNNNNNNNNNNNNNN                  & NA                                              & NA                                              & 49.4                                            & NA                                              & EST                                             & Y                                               & NA                                              & NNNNNNNN                                        & NA                                              & NA                                              & NA                                              & NA                                              & NA                                              & NA                                              & NA                                             \\\\\n",
       "\\end{tabular}\n"
      ],
      "text/markdown": [
       "\n",
       "| agency_cd | site_no | station_nm | site_tp_cd | lat_va | long_va | dec_lat_va | dec_long_va | coord_meth_cd | coord_acy_cd | coord_datum_cd | dec_coord_datum_cd | district_cd | state_cd | county_cd | country_cd | land_net_ds | map_nm | map_scale_fc | alt_va | ... | alt_datum_cd | huc_cd | basin_cd | topo_cd | instruments_cd | construction_dt | inventory_dt | drain_area_va | contrib_drain_area_va | tz_cd | local_time_fg | reliability_cd | gw_file_cd | nat_aqfr_cd | aqfr_cd | aqfr_type_cd | well_depth_va | hole_depth_va | depth_src_cd | project_no |\n",
       "|---|---|---|---|---|---|---|---|---|---|---|---|---|---|---|---|---|---|---|---|---|---|---|---|---|---|---|---|---|---|---|---|---|---|---|---|---|---|---|---|---|\n",
       "| USGS                                            | 01651000                                        | NORTHWEST BR ANACOSTIA RIVER NR HYATTSVILLE, MD | ST                                              | 385708.4                                        | 765757.8                                        | 38.95233                                        | -76.96606                                       | M                                               | S                                               | NAD83                                           | NAD83                                           | 24                                              | 24                                              | 033                                             | US                                              | NA                                              | NA                                              | NA                                              | 16.35                                           | ...                                             | NAVD88                                          | 02070010                                        | NA                                              | NA                                              | YYNNYNYNNYNNNNNNNNNNNNNNNNNNNN                  | NA                                              | NA                                              | 49.4                                            | NA                                              | EST                                             | Y                                               | NA                                              | NNNNNNNN                                        | NA                                              | NA                                              | NA                                              | NA                                              | NA                                              | NA                                              | NA                                              |\n",
       "\n"
      ],
      "text/plain": [
       "  agency_cd site_no  station_nm                                      site_tp_cd\n",
       "1 USGS      01651000 NORTHWEST BR ANACOSTIA RIVER NR HYATTSVILLE, MD ST        \n",
       "  lat_va   long_va  dec_lat_va dec_long_va coord_meth_cd coord_acy_cd\n",
       "1 385708.4 765757.8 38.95233   -76.96606   M             S           \n",
       "  coord_datum_cd dec_coord_datum_cd district_cd state_cd county_cd country_cd\n",
       "1 NAD83          NAD83              24          24       033       US        \n",
       "  land_net_ds map_nm map_scale_fc alt_va ... alt_datum_cd huc_cd   basin_cd\n",
       "1 NA          NA     NA           16.35  ... NAVD88       02070010 NA      \n",
       "  topo_cd instruments_cd                 construction_dt inventory_dt\n",
       "1 NA      YYNNYNYNNYNNNNNNNNNNNNNNNNNNNN NA              NA          \n",
       "  drain_area_va contrib_drain_area_va tz_cd local_time_fg reliability_cd\n",
       "1 49.4          NA                    EST   Y             NA            \n",
       "  gw_file_cd nat_aqfr_cd aqfr_cd aqfr_type_cd well_depth_va hole_depth_va\n",
       "1 NNNNNNNN   NA          NA      NA           NA            NA           \n",
       "  depth_src_cd project_no\n",
       "1 NA           NA        "
      ]
     },
     "metadata": {},
     "output_type": "display_data"
    }
   ],
   "source": [
    "# Get site coordinates to build Bbox\n",
    "site_data <- whatNWISsites(siteNumber=site_no, parameterCd=paraCode)\n",
    "site_lat <- site_data$dec_lat_va\n",
    "site_long <- site_data$dec_long_va\n",
    "\n",
    "# Get site drainage area\n",
    "site_summary <- readNWISsite(siteNumber=site_no)\n",
    "site_da <- site_summary$drain_area_va\n",
    "\n",
    "site_data\n",
    "\n",
    "site_summary"
   ]
  },
  {
   "cell_type": "code",
   "execution_count": 4,
   "metadata": {},
   "outputs": [
    {
     "data": {
      "text/html": [
       "<table>\n",
       "<thead><tr><th scope=col>agency_cd</th><th scope=col>site_no</th><th scope=col>station_nm</th><th scope=col>site_tp_cd</th><th scope=col>dec_lat_va</th><th scope=col>dec_long_va</th><th scope=col>colocated</th><th scope=col>queryTime</th><th scope=col>gtype</th></tr></thead>\n",
       "<tbody>\n",
       "\t<tr><td>USGS                                         </td><td>01663500                                     </td><td>HAZEL RIVER AT RIXEYVILLE, VA                </td><td>ST                                           </td><td>38.59179                                     </td><td>-77.96500                                    </td><td>FALSE                                        </td><td>2019-08-07 14:25:14                          </td><td>00060                                        </td></tr>\n",
       "\t<tr><td>USGS                                         </td><td>01616500                                     </td><td>OPEQUON CREEK NEAR MARTINSBURG, WV           </td><td>ST                                           </td><td>39.42371                                     </td><td>-77.93861                                    </td><td>FALSE                                        </td><td>2019-08-07 14:25:14                          </td><td>00060                                        </td></tr>\n",
       "\t<tr><td>USGS                                         </td><td>01616425                                     </td><td>HOPEWELL RUN AT LEETOWN, WV                  </td><td>ST                                           </td><td>39.35464                                     </td><td>-77.93361                                    </td><td>FALSE                                        </td><td>2019-08-07 14:25:14                          </td><td>00060                                        </td></tr>\n",
       "\t<tr><td>USGS                                         </td><td>01643643                                     </td><td>GOOSE CREEK AT DELAPLANE, VA                 </td><td>ST                                           </td><td>38.91428                                     </td><td>-77.92194                                    </td><td>FALSE                                        </td><td>2019-08-07 14:25:14                          </td><td>00060                                        </td></tr>\n",
       "\t<tr><td>USGS                                         </td><td>391805077550701                              </td><td> Jef-0528(Aldridge Spring)                   </td><td>SP                                           </td><td>39.30149                                     </td><td>-77.91833                                    </td><td>FALSE                                        </td><td>2019-08-07 14:25:14                          </td><td>00060                                        </td></tr>\n",
       "\t<tr><td>USGS                                         </td><td>01661977                                     </td><td>CARTER RUN AT ROUTE 681 NEAR JEFFERSONTON, VA</td><td>ST                                           </td><td>38.72447                                     </td><td>-77.91053                                    </td><td>FALSE                                        </td><td>2019-08-07 14:25:14                          </td><td>00060                                        </td></tr>\n",
       "</tbody>\n",
       "</table>\n"
      ],
      "text/latex": [
       "\\begin{tabular}{r|lllllllll}\n",
       " agency\\_cd & site\\_no & station\\_nm & site\\_tp\\_cd & dec\\_lat\\_va & dec\\_long\\_va & colocated & queryTime & gtype\\\\\n",
       "\\hline\n",
       "\t USGS                                          & 01663500                                      & HAZEL RIVER AT RIXEYVILLE, VA                 & ST                                            & 38.59179                                      & -77.96500                                     & FALSE                                         & 2019-08-07 14:25:14                           & 00060                                        \\\\\n",
       "\t USGS                                          & 01616500                                      & OPEQUON CREEK NEAR MARTINSBURG, WV            & ST                                            & 39.42371                                      & -77.93861                                     & FALSE                                         & 2019-08-07 14:25:14                           & 00060                                        \\\\\n",
       "\t USGS                                          & 01616425                                      & HOPEWELL RUN AT LEETOWN, WV                   & ST                                            & 39.35464                                      & -77.93361                                     & FALSE                                         & 2019-08-07 14:25:14                           & 00060                                        \\\\\n",
       "\t USGS                                          & 01643643                                      & GOOSE CREEK AT DELAPLANE, VA                  & ST                                            & 38.91428                                      & -77.92194                                     & FALSE                                         & 2019-08-07 14:25:14                           & 00060                                        \\\\\n",
       "\t USGS                                          & 391805077550701                               &  Jef-0528(Aldridge Spring)                    & SP                                            & 39.30149                                      & -77.91833                                     & FALSE                                         & 2019-08-07 14:25:14                           & 00060                                        \\\\\n",
       "\t USGS                                          & 01661977                                      & CARTER RUN AT ROUTE 681 NEAR JEFFERSONTON, VA & ST                                            & 38.72447                                      & -77.91053                                     & FALSE                                         & 2019-08-07 14:25:14                           & 00060                                        \\\\\n",
       "\\end{tabular}\n"
      ],
      "text/markdown": [
       "\n",
       "| agency_cd | site_no | station_nm | site_tp_cd | dec_lat_va | dec_long_va | colocated | queryTime | gtype |\n",
       "|---|---|---|---|---|---|---|---|---|\n",
       "| USGS                                          | 01663500                                      | HAZEL RIVER AT RIXEYVILLE, VA                 | ST                                            | 38.59179                                      | -77.96500                                     | FALSE                                         | 2019-08-07 14:25:14                           | 00060                                         |\n",
       "| USGS                                          | 01616500                                      | OPEQUON CREEK NEAR MARTINSBURG, WV            | ST                                            | 39.42371                                      | -77.93861                                     | FALSE                                         | 2019-08-07 14:25:14                           | 00060                                         |\n",
       "| USGS                                          | 01616425                                      | HOPEWELL RUN AT LEETOWN, WV                   | ST                                            | 39.35464                                      | -77.93361                                     | FALSE                                         | 2019-08-07 14:25:14                           | 00060                                         |\n",
       "| USGS                                          | 01643643                                      | GOOSE CREEK AT DELAPLANE, VA                  | ST                                            | 38.91428                                      | -77.92194                                     | FALSE                                         | 2019-08-07 14:25:14                           | 00060                                         |\n",
       "| USGS                                          | 391805077550701                               |  Jef-0528(Aldridge Spring)                    | SP                                            | 39.30149                                      | -77.91833                                     | FALSE                                         | 2019-08-07 14:25:14                           | 00060                                         |\n",
       "| USGS                                          | 01661977                                      | CARTER RUN AT ROUTE 681 NEAR JEFFERSONTON, VA | ST                                            | 38.72447                                      | -77.91053                                     | FALSE                                         | 2019-08-07 14:25:14                           | 00060                                         |\n",
       "\n"
      ],
      "text/plain": [
       "  agency_cd site_no         station_nm                                   \n",
       "1 USGS      01663500        HAZEL RIVER AT RIXEYVILLE, VA                \n",
       "2 USGS      01616500        OPEQUON CREEK NEAR MARTINSBURG, WV           \n",
       "3 USGS      01616425        HOPEWELL RUN AT LEETOWN, WV                  \n",
       "4 USGS      01643643        GOOSE CREEK AT DELAPLANE, VA                 \n",
       "5 USGS      391805077550701  Jef-0528(Aldridge Spring)                   \n",
       "6 USGS      01661977        CARTER RUN AT ROUTE 681 NEAR JEFFERSONTON, VA\n",
       "  site_tp_cd dec_lat_va dec_long_va colocated queryTime           gtype\n",
       "1 ST         38.59179   -77.96500   FALSE     2019-08-07 14:25:14 00060\n",
       "2 ST         39.42371   -77.93861   FALSE     2019-08-07 14:25:14 00060\n",
       "3 ST         39.35464   -77.93361   FALSE     2019-08-07 14:25:14 00060\n",
       "4 ST         38.91428   -77.92194   FALSE     2019-08-07 14:25:14 00060\n",
       "5 SP         39.30149   -77.91833   FALSE     2019-08-07 14:25:14 00060\n",
       "6 ST         38.72447   -77.91053   FALSE     2019-08-07 14:25:14 00060"
      ]
     },
     "metadata": {},
     "output_type": "display_data"
    }
   ],
   "source": [
    "para_sites <- data.frame()\n",
    "\n",
    "bbox <- c(site_long - bbox_delta, \n",
    "          site_lat - bbox_delta, \n",
    "          site_long + bbox_delta, \n",
    "          site_lat + bbox_delta)\n",
    "\n",
    "# Get site metadata for the Bbox\n",
    "para_sites <- whatNWISsites(bBox= bbox, parameterCd=paraCode)\n",
    "para_sites$gtype = paraCode #gtype: gage type (stage, flow, ...etc)\n",
    "\n",
    "head(para_sites)"
   ]
  },
  {
   "cell_type": "code",
   "execution_count": 5,
   "metadata": {},
   "outputs": [
    {
     "data": {
      "image/png": "[encoded data removed]",
      "text/plain": [
       "Plot with title \"USGS Gauges found in the NWIS\""
      ]
     },
     "metadata": {},
     "output_type": "display_data"
    }
   ],
   "source": [
    "map('state', region = c('maryland','virginia', 'washingtondc'))\n",
    "#map('state', region = c('mississippi'))\n",
    "title(main=\"USGS Gauges found in the NWIS\")\n",
    "points(x=para_sites$dec_long_va, \n",
    "       y=para_sites$dec_lat_va,\n",
    "      col='blue')\n",
    "points(x=site_long,\n",
    "       y=site_lat,\n",
    "       lwd=5,\n",
    "       col='red')\n",
    "legend( x=\"topleft\", \n",
    "        legend=c(\"Given Station\",\"Selected Stations\"),\n",
    "        col=c(\"red\",\"blue\"), lwd=1, lty=c(0,0), \n",
    "        pch=c(1,1) )"
   ]
  },
  {
   "cell_type": "code",
   "execution_count": 6,
   "metadata": {},
   "outputs": [
    {
     "data": {
      "text/html": [
       "<table>\n",
       "<thead><tr><th></th><th scope=col>site_no</th><th scope=col>station_nm</th><th scope=col>lat_va</th><th scope=col>long_va</th><th scope=col>drain_area_va</th></tr></thead>\n",
       "<tbody>\n",
       "\t<tr><th scope=row>16</th><td>01582000                                       </td><td>LITTLE FALLS AT BLUE MOUNT, MD                 </td><td>393614.7                                       </td><td>763713.7                                       </td><td>52.9                                           </td></tr>\n",
       "\t<tr><th scope=row>20</th><td>01583500                                       </td><td>WESTERN RUN AT WESTERN RUN, MD                 </td><td>393038.8                                       </td><td>764035.4                                       </td><td>59.8                                           </td></tr>\n",
       "\t<tr><th scope=row>34</th><td>01586000                                       </td><td>NORTH BRANCH PATAPSCO RIVER AT CEDARHURST, MD  </td><td>393010.8                                       </td><td>765303.8                                       </td><td>56.6                                           </td></tr>\n",
       "\t<tr><th scope=row>49</th><td>01589478                                       </td><td>JONES FALLS AT MARYLAND AVE AT BALTIMORE, MD   </td><td>391833.5                                       </td><td>763709.9                                       </td><td>54.9                                           </td></tr>\n",
       "\t<tr><th scope=row>60</th><td>01593500                                       </td><td>LITTLE PATUXENT RIVER AT GUILFORD, MD          </td><td>391003.9                                       </td><td>765104.5                                       </td><td>38.0                                           </td></tr>\n",
       "\t<tr><th scope=row>92</th><td>01646000                                       </td><td>DIFFICULT RUN NEAR GREAT FALLS, VA             </td><td>385833.0                                       </td><td>771446.0                                       </td><td>57.8                                           </td></tr>\n",
       "\t<tr><th scope=row>101</th><td>01651000                                       </td><td>NORTHWEST BR ANACOSTIA RIVER NR HYATTSVILLE, MD</td><td>385708.4                                       </td><td>765757.8                                       </td><td>49.4                                           </td></tr>\n",
       "\t<tr><th scope=row>106</th><td>01653600                                       </td><td>PISCATAWAY CREEK AT PISCATAWAY, MD             </td><td>384220.8                                       </td><td>765758.3                                       </td><td>39.5                                           </td></tr>\n",
       "\t<tr><th scope=row>112</th><td>01656500                                       </td><td>BROAD RUN AT BUCKLAND, VA                      </td><td>384650.0                                       </td><td>774022.0                                       </td><td>50.2                                           </td></tr>\n",
       "\t<tr><th scope=row>115</th><td>01658000                                       </td><td>MATTAWOMAN CREEK NEAR POMONKEY, MD             </td><td>383546.1                                       </td><td>770321.7                                       </td><td>54.8                                           </td></tr>\n",
       "\t<tr><th scope=row>131</th><td>01668500                                       </td><td>CAT POINT CREEK NEAR MONTROSS, VA              </td><td>380223.0                                       </td><td>764938.0                                       </td><td>45.6                                           </td></tr>\n",
       "</tbody>\n",
       "</table>\n"
      ],
      "text/latex": [
       "\\begin{tabular}{r|lllll}\n",
       "  & site\\_no & station\\_nm & lat\\_va & long\\_va & drain\\_area\\_va\\\\\n",
       "\\hline\n",
       "\t16 & 01582000                                        & LITTLE FALLS AT BLUE MOUNT, MD                  & 393614.7                                        & 763713.7                                        & 52.9                                           \\\\\n",
       "\t20 & 01583500                                        & WESTERN RUN AT WESTERN RUN, MD                  & 393038.8                                        & 764035.4                                        & 59.8                                           \\\\\n",
       "\t34 & 01586000                                        & NORTH BRANCH PATAPSCO RIVER AT CEDARHURST, MD   & 393010.8                                        & 765303.8                                        & 56.6                                           \\\\\n",
       "\t49 & 01589478                                        & JONES FALLS AT MARYLAND AVE AT BALTIMORE, MD    & 391833.5                                        & 763709.9                                        & 54.9                                           \\\\\n",
       "\t60 & 01593500                                        & LITTLE PATUXENT RIVER AT GUILFORD, MD           & 391003.9                                        & 765104.5                                        & 38.0                                           \\\\\n",
       "\t92 & 01646000                                        & DIFFICULT RUN NEAR GREAT FALLS, VA              & 385833.0                                        & 771446.0                                        & 57.8                                           \\\\\n",
       "\t101 & 01651000                                        & NORTHWEST BR ANACOSTIA RIVER NR HYATTSVILLE, MD & 385708.4                                        & 765757.8                                        & 49.4                                           \\\\\n",
       "\t106 & 01653600                                        & PISCATAWAY CREEK AT PISCATAWAY, MD              & 384220.8                                        & 765758.3                                        & 39.5                                           \\\\\n",
       "\t112 & 01656500                                        & BROAD RUN AT BUCKLAND, VA                       & 384650.0                                        & 774022.0                                        & 50.2                                           \\\\\n",
       "\t115 & 01658000                                        & MATTAWOMAN CREEK NEAR POMONKEY, MD              & 383546.1                                        & 770321.7                                        & 54.8                                           \\\\\n",
       "\t131 & 01668500                                        & CAT POINT CREEK NEAR MONTROSS, VA               & 380223.0                                        & 764938.0                                        & 45.6                                           \\\\\n",
       "\\end{tabular}\n"
      ],
      "text/markdown": [
       "\n",
       "| <!--/--> | site_no | station_nm | lat_va | long_va | drain_area_va |\n",
       "|---|---|---|---|---|---|\n",
       "| 16 | 01582000                                        | LITTLE FALLS AT BLUE MOUNT, MD                  | 393614.7                                        | 763713.7                                        | 52.9                                            |\n",
       "| 20 | 01583500                                        | WESTERN RUN AT WESTERN RUN, MD                  | 393038.8                                        | 764035.4                                        | 59.8                                            |\n",
       "| 34 | 01586000                                        | NORTH BRANCH PATAPSCO RIVER AT CEDARHURST, MD   | 393010.8                                        | 765303.8                                        | 56.6                                            |\n",
       "| 49 | 01589478                                        | JONES FALLS AT MARYLAND AVE AT BALTIMORE, MD    | 391833.5                                        | 763709.9                                        | 54.9                                            |\n",
       "| 60 | 01593500                                        | LITTLE PATUXENT RIVER AT GUILFORD, MD           | 391003.9                                        | 765104.5                                        | 38.0                                            |\n",
       "| 92 | 01646000                                        | DIFFICULT RUN NEAR GREAT FALLS, VA              | 385833.0                                        | 771446.0                                        | 57.8                                            |\n",
       "| 101 | 01651000                                        | NORTHWEST BR ANACOSTIA RIVER NR HYATTSVILLE, MD | 385708.4                                        | 765757.8                                        | 49.4                                            |\n",
       "| 106 | 01653600                                        | PISCATAWAY CREEK AT PISCATAWAY, MD              | 384220.8                                        | 765758.3                                        | 39.5                                            |\n",
       "| 112 | 01656500                                        | BROAD RUN AT BUCKLAND, VA                       | 384650.0                                        | 774022.0                                        | 50.2                                            |\n",
       "| 115 | 01658000                                        | MATTAWOMAN CREEK NEAR POMONKEY, MD              | 383546.1                                        | 770321.7                                        | 54.8                                            |\n",
       "| 131 | 01668500                                        | CAT POINT CREEK NEAR MONTROSS, VA               | 380223.0                                        | 764938.0                                        | 45.6                                            |\n",
       "\n"
      ],
      "text/plain": [
       "    site_no  station_nm                                      lat_va   long_va \n",
       "16  01582000 LITTLE FALLS AT BLUE MOUNT, MD                  393614.7 763713.7\n",
       "20  01583500 WESTERN RUN AT WESTERN RUN, MD                  393038.8 764035.4\n",
       "34  01586000 NORTH BRANCH PATAPSCO RIVER AT CEDARHURST, MD   393010.8 765303.8\n",
       "49  01589478 JONES FALLS AT MARYLAND AVE AT BALTIMORE, MD    391833.5 763709.9\n",
       "60  01593500 LITTLE PATUXENT RIVER AT GUILFORD, MD           391003.9 765104.5\n",
       "92  01646000 DIFFICULT RUN NEAR GREAT FALLS, VA              385833.0 771446.0\n",
       "101 01651000 NORTHWEST BR ANACOSTIA RIVER NR HYATTSVILLE, MD 385708.4 765757.8\n",
       "106 01653600 PISCATAWAY CREEK AT PISCATAWAY, MD              384220.8 765758.3\n",
       "112 01656500 BROAD RUN AT BUCKLAND, VA                       384650.0 774022.0\n",
       "115 01658000 MATTAWOMAN CREEK NEAR POMONKEY, MD              383546.1 770321.7\n",
       "131 01668500 CAT POINT CREEK NEAR MONTROSS, VA               380223.0 764938.0\n",
       "    drain_area_va\n",
       "16  52.9         \n",
       "20  59.8         \n",
       "34  56.6         \n",
       "49  54.9         \n",
       "60  38.0         \n",
       "92  57.8         \n",
       "101 49.4         \n",
       "106 39.5         \n",
       "112 50.2         \n",
       "115 54.8         \n",
       "131 45.6         "
      ]
     },
     "metadata": {},
     "output_type": "display_data"
    }
   ],
   "source": [
    "# Filter the retrieved USGS gages based on the defined criteria\n",
    "sites_meta <- whatNWISdata(siteNumber=para_sites$site_no, parameterCd=paraCode)\n",
    "sites_meta_years <- sites_meta[(sites_meta['end_date'] - sites_meta['begin_date']) > (years_of_records * 365.0),]\n",
    "sites_summary <- readNWISsite(siteNumber=sites_meta_years$site_no)\n",
    "sites_selected <- sites_summary[((1-da_epsilon)* site_da) <= sites_summary['drain_area_va'] & sites_summary['drain_area_va'] <= ((1+da_epsilon)* site_da), ]\n",
    "\n",
    "select(sites_selected, site_no, station_nm, lat_va, long_va, drain_area_va)"
   ]
  },
  {
   "cell_type": "code",
   "execution_count": 7,
   "metadata": {},
   "outputs": [
    {
     "data": {
      "image/png": "[encoded data removed]",
      "text/plain": [
       "Plot with title \"USGS Gauges found in the NWIS\""
      ]
     },
     "metadata": {},
     "output_type": "display_data"
    }
   ],
   "source": [
    "map('state', region = c('maryland','virginia', 'washingtondc'))\n",
    "#map('state', region = c('mississippi'))\n",
    "title(main=\"USGS Gauges found in the NWIS\")\n",
    "points(x=sites_selected$dec_long_va, \n",
    "       y=sites_selected$dec_lat_va,\n",
    "      col='blue')\n",
    "points(x=site_long,\n",
    "       y=site_lat,\n",
    "       lwd=5,\n",
    "       col='red')\n",
    "legend( x=\"topleft\", \n",
    "        legend=c(\"Given Station\",\"Final Selected Stations\"),\n",
    "        col=c(\"red\",\"blue\"), lwd=1, lty=c(0,0), \n",
    "        pch=c(1,1) )"
   ]
  }
 ],
 "metadata": {
  "kernelspec": {
   "display_name": "R",
   "language": "R",
   "name": "ir"
  },
  "language_info": {
   "codemirror_mode": "r",
   "file_extension": ".r",
   "mimetype": "text/x-r-source",
   "name": "R",
   "pygments_lexer": "r",
   "version": "3.5.3"
  }
 },
 "nbformat": 4,
 "nbformat_minor": 2
}
