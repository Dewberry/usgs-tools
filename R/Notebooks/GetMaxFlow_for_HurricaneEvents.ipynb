{
 "cells": [
  {
   "cell_type": "markdown",
   "metadata": {},
   "source": [
    "# Load libraries"
   ]
  },
  {
   "cell_type": "code",
   "execution_count": 35,
   "metadata": {},
   "outputs": [],
   "source": [
    "library(\"jsonlite\")\n",
    "library(\"knitr\")\n",
    "library(\"dataRetrieval\")\n",
    "# Adjust dsn to local directory\n",
    "dsn = \"C:\\\\Users\\\\jmatney\\\\Documents\\\\R2_RII\"\n",
    "options(warn=-1)"
   ]
  },
  {
   "cell_type": "markdown",
   "metadata": {},
   "source": [
    "### Read json data: gagues + events"
   ]
  },
  {
   "cell_type": "code",
   "execution_count": 27,
   "metadata": {},
   "outputs": [],
   "source": [
    "river_gauges <- fromJSON(paste0(dsn,\"\\\\json\\\\riv_gauges_parsed.json\"), flatten=TRUE)\n",
    "tidal_gauges <- fromJSON(paste0(dsn,\"\\\\json\\\\tidal_gauges_parsed.json\"), flatten=TRUE)\n",
    "events <- fromJSON(paste0(dsn,\"\\\\data\\\\events.json\"), flatten=TRUE)$ListEvents"
   ]
  },
  {
   "cell_type": "markdown",
   "metadata": {},
   "source": [
    "### Clean up events data "
   ]
  },
  {
   "cell_type": "code",
   "execution_count": null,
   "metadata": {},
   "outputs": [],
   "source": [
    "# Remove wrapping text (i.e., \\Data())\n",
    "events$StartLST <- gsub(\"[^0-9.-]\", \"\", events$StartLST)\n",
    "events$EndLST <- gsub(\"[^0-9.-]\", \"\", events$EndLST)\n",
    "# Remove everything after the dash\n",
    "events$StartLST <- gsub(\"\\\\-\",\"\", events$StartLST)\n",
    "events$EndLST <- gsub(\"\\\\-\",\"\", events$EndLST)\n",
    "# Convert epoch time to human + dataRetrieval readable format \n",
    "events$StartDate <- as.POSIXct(as.numeric(as.character(events$StartLST))/10000000, origin = \"1970-01-01\", tz = \"GMT\")\n",
    "events$EndDate <- as.POSIXct(as.numeric(as.character(events$EndLST))/10000000, origin = \"1970-01-01\", tz = \"GMT\")\n",
    "# Drop epoch time columns\n",
    "events <- events[, !(colnames(events) %in% c(\"StartLST\",\"EndLST\"))]"
   ]
  },
  {
   "cell_type": "markdown",
   "metadata": {},
   "source": [
    "### Get list of river gauges "
   ]
  },
  {
   "cell_type": "code",
   "execution_count": null,
   "metadata": {},
   "outputs": [],
   "source": [
    "rg_site_no <- river_gauges$features$properties.Gauge_No"
   ]
  },
  {
   "cell_type": "markdown",
   "metadata": {},
   "source": [
    "### For g in gauges, for e in events, get max Q \n",
    "Max daily flow across duration of event at a particular gauge"
   ]
  },
  {
   "cell_type": "code",
   "execution_count": 36,
   "metadata": {},
   "outputs": [],
   "source": [
    "k = length(rg_site_no) #10\n",
    "n = nrow(events) #10\n",
    "\n",
    "x = matrix(data=NA, nrow=n, ncol=k)\n",
    "\n",
    "for (g in 1:k){ #length(rg_site_no)\n",
    "  for (e in 1:n){ #nrow(events)\n",
    "    siteNumber <- rg_site_no[g]\n",
    "    parameterCd <- \"00060\"  # Discharge\n",
    "    startDate <- events[e,]$StartDate\n",
    "    endDate <- events[e,]$EndDate\n",
    "    statCd <- c(\"00003\")  # Maximum\n",
    "    \n",
    "    results <- readNWISdv(siteNumber, parameterCd, startDate, endDate, statCd=statCd)\n",
    "    x[e,g] <- invisible(max(results$X_00060_00003))\n",
    "  }\n",
    "}"
   ]
  },
  {
   "cell_type": "markdown",
   "metadata": {},
   "source": [
    "### Write output to CSV"
   ]
  },
  {
   "cell_type": "code",
   "execution_count": null,
   "metadata": {},
   "outputs": [],
   "source": [
    "write.csv(x, \"river_gauges.csv\")"
   ]
  },
  {
   "cell_type": "markdown",
   "metadata": {},
   "source": [
    "## Perform Sanity check"
   ]
  },
  {
   "cell_type": "code",
   "execution_count": 17,
   "metadata": {},
   "outputs": [],
   "source": [
    "row.names(x) <- events[1:10,\"FullEventName\"]\n",
    "colnames(x) <- rg_site_no[1:10]"
   ]
  },
  {
   "cell_type": "code",
   "execution_count": 19,
   "metadata": {},
   "outputs": [
    {
     "data": {
      "text/html": [
       "<table>\n",
       "<thead><tr><th></th><th scope=col>01482500</th><th scope=col>01412800</th><th scope=col>01503000</th><th scope=col>04263000</th><th scope=col>04249200</th><th scope=col>04242500</th><th scope=col>04242640</th><th scope=col>04243783</th><th scope=col>01505000</th><th scope=col>01510000</th></tr></thead>\n",
       "<tbody>\n",
       "\t<tr><th scope=row>NJ Cindy 2005</th><td>  78.6</td><td>  89.9</td><td> 2810 </td><td>1200  </td><td>  -Inf</td><td>  -Inf</td><td>-Inf  </td><td>-Inf  </td><td>194.0 </td><td>115.0 </td></tr>\n",
       "\t<tr><th scope=row>NJ Gordon 2000</th><td>  -Inf</td><td>  -Inf</td><td> 2240 </td><td> 847  </td><td>  -Inf</td><td>  -Inf</td><td>-Inf  </td><td>-Inf  </td><td> -Inf </td><td>162.0 </td></tr>\n",
       "\t<tr><th scope=row>NJ Hanna 2008</th><td>  30.0</td><td>  56.9</td><td>  753 </td><td>1030  </td><td>  -Inf</td><td>  -Inf</td><td>-Inf  </td><td>-Inf  </td><td> 80.8 </td><td> 48.3 </td></tr>\n",
       "\t<tr><th scope=row>NJ Irene 2011</th><td>2630.0</td><td>1650.0</td><td>24400 </td><td>2040  </td><td>  -Inf</td><td> 737.0</td><td>-Inf  </td><td>-Inf  </td><td>686.0 </td><td>237.0 </td></tr>\n",
       "\t<tr><th scope=row>NJ Rainfall Jul 2016</th><td>  12.4</td><td>  39.7</td><td> 6960 </td><td> 299  </td><td>  10.8</td><td>  57.2</td><td> 155  </td><td>17.0  </td><td>143.0 </td><td> 89.9 </td></tr>\n",
       "\t<tr><th scope=row>NJ Rainfall Jul 2017</th><td>  27.8</td><td>  75.7</td><td> 2950 </td><td>2390  </td><td> 157.0</td><td> 248.0</td><td> 661  </td><td>43.8  </td><td>376.0 </td><td>177.0 </td></tr>\n",
       "\t<tr><th scope=row>NJ Riverine Apr 2007</th><td> 577.0</td><td> 496.0</td><td>12200 </td><td>3620  </td><td>  -Inf</td><td>  -Inf</td><td>-Inf  </td><td>-Inf  </td><td>801.0 </td><td>540.0 </td></tr>\n",
       "\t<tr><th scope=row>NJ Riverine Aug 2011</th><td>1370.0</td><td>2710.0</td><td>  850 </td><td> 949  </td><td>  -Inf</td><td>  65.3</td><td>-Inf  </td><td>-Inf  </td><td> 47.5 </td><td> 26.3 </td></tr>\n",
       "\t<tr><th scope=row>NJ Riverine Jul 2004</th><td>  31.7</td><td> 171.0</td><td> 1110 </td><td>1240  </td><td>  -Inf</td><td>  -Inf</td><td>-Inf  </td><td>-Inf  </td><td>240.0 </td><td>171.0 </td></tr>\n",
       "\t<tr><th scope=row>NJ Riverine May 2014</th><td> 280.0</td><td> 366.0</td><td> 5300 </td><td>5440  </td><td>1970.0</td><td>2450.0</td><td>-Inf  </td><td>-Inf  </td><td>601.0 </td><td>430.0 </td></tr>\n",
       "</tbody>\n",
       "</table>\n"
      ],
      "text/latex": [
       "\\begin{tabular}{r|llllllllll}\n",
       "  & 01482500 & 01412800 & 01503000 & 04263000 & 04249200 & 04242500 & 04242640 & 04243783 & 01505000 & 01510000\\\\\n",
       "\\hline\n",
       "\tNJ Cindy 2005 &   78.6 &   89.9 &  2810  & 1200   &   -Inf &   -Inf & -Inf   & -Inf   & 194.0  & 115.0 \\\\\n",
       "\tNJ Gordon 2000 &   -Inf &   -Inf &  2240  &  847   &   -Inf &   -Inf & -Inf   & -Inf   &  -Inf  & 162.0 \\\\\n",
       "\tNJ Hanna 2008 &   30.0 &   56.9 &   753  & 1030   &   -Inf &   -Inf & -Inf   & -Inf   &  80.8  &  48.3 \\\\\n",
       "\tNJ Irene 2011 & 2630.0 & 1650.0 & 24400  & 2040   &   -Inf &  737.0 & -Inf   & -Inf   & 686.0  & 237.0 \\\\\n",
       "\tNJ Rainfall Jul 2016 &   12.4 &   39.7 &  6960  &  299   &   10.8 &   57.2 &  155   & 17.0   & 143.0  &  89.9 \\\\\n",
       "\tNJ Rainfall Jul 2017 &   27.8 &   75.7 &  2950  & 2390   &  157.0 &  248.0 &  661   & 43.8   & 376.0  & 177.0 \\\\\n",
       "\tNJ Riverine Apr 2007 &  577.0 &  496.0 & 12200  & 3620   &   -Inf &   -Inf & -Inf   & -Inf   & 801.0  & 540.0 \\\\\n",
       "\tNJ Riverine Aug 2011 & 1370.0 & 2710.0 &   850  &  949   &   -Inf &   65.3 & -Inf   & -Inf   &  47.5  &  26.3 \\\\\n",
       "\tNJ Riverine Jul 2004 &   31.7 &  171.0 &  1110  & 1240   &   -Inf &   -Inf & -Inf   & -Inf   & 240.0  & 171.0 \\\\\n",
       "\tNJ Riverine May 2014 &  280.0 &  366.0 &  5300  & 5440   & 1970.0 & 2450.0 & -Inf   & -Inf   & 601.0  & 430.0 \\\\\n",
       "\\end{tabular}\n"
      ],
      "text/markdown": [
       "\n",
       "| <!--/--> | 01482500 | 01412800 | 01503000 | 04263000 | 04249200 | 04242500 | 04242640 | 04243783 | 01505000 | 01510000 |\n",
       "|---|---|---|---|---|---|---|---|---|---|---|\n",
       "| NJ Cindy 2005 |   78.6 |   89.9 |  2810  | 1200   |   -Inf |   -Inf | -Inf   | -Inf   | 194.0  | 115.0  |\n",
       "| NJ Gordon 2000 |   -Inf |   -Inf |  2240  |  847   |   -Inf |   -Inf | -Inf   | -Inf   |  -Inf  | 162.0  |\n",
       "| NJ Hanna 2008 |   30.0 |   56.9 |   753  | 1030   |   -Inf |   -Inf | -Inf   | -Inf   |  80.8  |  48.3  |\n",
       "| NJ Irene 2011 | 2630.0 | 1650.0 | 24400  | 2040   |   -Inf |  737.0 | -Inf   | -Inf   | 686.0  | 237.0  |\n",
       "| NJ Rainfall Jul 2016 |   12.4 |   39.7 |  6960  |  299   |   10.8 |   57.2 |  155   | 17.0   | 143.0  |  89.9  |\n",
       "| NJ Rainfall Jul 2017 |   27.8 |   75.7 |  2950  | 2390   |  157.0 |  248.0 |  661   | 43.8   | 376.0  | 177.0  |\n",
       "| NJ Riverine Apr 2007 |  577.0 |  496.0 | 12200  | 3620   |   -Inf |   -Inf | -Inf   | -Inf   | 801.0  | 540.0  |\n",
       "| NJ Riverine Aug 2011 | 1370.0 | 2710.0 |   850  |  949   |   -Inf |   65.3 | -Inf   | -Inf   |  47.5  |  26.3  |\n",
       "| NJ Riverine Jul 2004 |   31.7 |  171.0 |  1110  | 1240   |   -Inf |   -Inf | -Inf   | -Inf   | 240.0  | 171.0  |\n",
       "| NJ Riverine May 2014 |  280.0 |  366.0 |  5300  | 5440   | 1970.0 | 2450.0 | -Inf   | -Inf   | 601.0  | 430.0  |\n",
       "\n"
      ],
      "text/plain": [
       "                     01482500 01412800 01503000 04263000 04249200 04242500\n",
       "NJ Cindy 2005          78.6     89.9    2810    1200       -Inf     -Inf  \n",
       "NJ Gordon 2000         -Inf     -Inf    2240     847       -Inf     -Inf  \n",
       "NJ Hanna 2008          30.0     56.9     753    1030       -Inf     -Inf  \n",
       "NJ Irene 2011        2630.0   1650.0   24400    2040       -Inf    737.0  \n",
       "NJ Rainfall Jul 2016   12.4     39.7    6960     299       10.8     57.2  \n",
       "NJ Rainfall Jul 2017   27.8     75.7    2950    2390      157.0    248.0  \n",
       "NJ Riverine Apr 2007  577.0    496.0   12200    3620       -Inf     -Inf  \n",
       "NJ Riverine Aug 2011 1370.0   2710.0     850     949       -Inf     65.3  \n",
       "NJ Riverine Jul 2004   31.7    171.0    1110    1240       -Inf     -Inf  \n",
       "NJ Riverine May 2014  280.0    366.0    5300    5440     1970.0   2450.0  \n",
       "                     04242640 04243783 01505000 01510000\n",
       "NJ Cindy 2005        -Inf     -Inf     194.0    115.0   \n",
       "NJ Gordon 2000       -Inf     -Inf      -Inf    162.0   \n",
       "NJ Hanna 2008        -Inf     -Inf      80.8     48.3   \n",
       "NJ Irene 2011        -Inf     -Inf     686.0    237.0   \n",
       "NJ Rainfall Jul 2016  155     17.0     143.0     89.9   \n",
       "NJ Rainfall Jul 2017  661     43.8     376.0    177.0   \n",
       "NJ Riverine Apr 2007 -Inf     -Inf     801.0    540.0   \n",
       "NJ Riverine Aug 2011 -Inf     -Inf      47.5     26.3   \n",
       "NJ Riverine Jul 2004 -Inf     -Inf     240.0    171.0   \n",
       "NJ Riverine May 2014 -Inf     -Inf     601.0    430.0   "
      ]
     },
     "metadata": {},
     "output_type": "display_data"
    }
   ],
   "source": [
    "x"
   ]
  },
  {
   "cell_type": "code",
   "execution_count": 20,
   "metadata": {},
   "outputs": [
    {
     "data": {
      "text/html": [
       "<table>\n",
       "<thead><tr><th scope=col>agency_cd</th><th scope=col>site_no</th><th scope=col>Date</th><th scope=col>X_00060_00003</th><th scope=col>X_00060_00003_cd</th></tr></thead>\n",
       "<tbody>\n",
       "\t<tr><td>USGS      </td><td>01510000  </td><td>2014-05-01</td><td>430       </td><td>A         </td></tr>\n",
       "</tbody>\n",
       "</table>\n"
      ],
      "text/latex": [
       "\\begin{tabular}{r|lllll}\n",
       " agency\\_cd & site\\_no & Date & X\\_00060\\_00003 & X\\_00060\\_00003\\_cd\\\\\n",
       "\\hline\n",
       "\t USGS       & 01510000   & 2014-05-01 & 430        & A         \\\\\n",
       "\\end{tabular}\n"
      ],
      "text/markdown": [
       "\n",
       "| agency_cd | site_no | Date | X_00060_00003 | X_00060_00003_cd |\n",
       "|---|---|---|---|---|\n",
       "| USGS       | 01510000   | 2014-05-01 | 430        | A          |\n",
       "\n"
      ],
      "text/plain": [
       "  agency_cd site_no  Date       X_00060_00003 X_00060_00003_cd\n",
       "1 USGS      01510000 2014-05-01 430           A               "
      ]
     },
     "metadata": {},
     "output_type": "display_data"
    }
   ],
   "source": [
    "readNWISdv(siteNumber, parameterCd, startDate, endDate, statCd=statCd)"
   ]
  },
  {
   "cell_type": "code",
   "execution_count": 28,
   "metadata": {},
   "outputs": [
    {
     "data": {
      "text/html": [
       "<table>\n",
       "<thead><tr><th scope=col>EventID</th><th scope=col>State</th><th scope=col>FullEventName</th><th scope=col>EventTypes</th><th scope=col>Days</th><th scope=col>StartDate</th><th scope=col>EndDate</th></tr></thead>\n",
       "<tbody>\n",
       "\t<tr><td> 1                       </td><td>NJ                       </td><td>NJ Cindy 2005            </td><td>Tropical or Extratropical</td><td> 8                       </td><td>2005-07-01               </td><td>2005-07-13               </td></tr>\n",
       "\t<tr><td> 2                       </td><td>NJ                       </td><td>NJ Gordon 2000           </td><td>Tropical or Extratropical</td><td> 7                       </td><td>2000-09-12               </td><td>2000-09-23               </td></tr>\n",
       "\t<tr><td> 3                       </td><td>NJ                       </td><td>NJ Hanna 2008            </td><td>Tropical or Extratropical</td><td>11                       </td><td>2008-08-26               </td><td>2008-09-10               </td></tr>\n",
       "\t<tr><td> 4                       </td><td>NJ                       </td><td>NJ Irene 2011            </td><td>Tropical or Extratropical</td><td> 9                       </td><td>2011-08-19               </td><td>2011-09-01               </td></tr>\n",
       "\t<tr><td> 5                       </td><td>NJ                       </td><td>NJ Rainfall Jul 2016     </td><td>Rainfall                 </td><td> 4                       </td><td>2016-07-31               </td><td>2016-08-03               </td></tr>\n",
       "\t<tr><td> 6                       </td><td>NJ                       </td><td>NJ Rainfall Jul 2017     </td><td>Rainfall                 </td><td> 2                       </td><td>2017-07-29               </td><td>2017-07-30               </td></tr>\n",
       "\t<tr><td> 7                       </td><td>NJ                       </td><td>NJ Riverine Apr 2007     </td><td>Riverine                 </td><td> 1                       </td><td>2007-04-16               </td><td>2007-04-16               </td></tr>\n",
       "\t<tr><td> 8                       </td><td>NJ                       </td><td>NJ Riverine Aug 2011     </td><td>Riverine                 </td><td> 1                       </td><td>2011-08-14               </td><td>2011-08-14               </td></tr>\n",
       "\t<tr><td> 9                       </td><td>NJ                       </td><td>NJ Riverine Jul 2004     </td><td>Riverine                 </td><td> 2                       </td><td>2004-07-13               </td><td>2004-07-14               </td></tr>\n",
       "\t<tr><td>10                       </td><td>NJ                       </td><td>NJ Riverine May 2014     </td><td>Riverine                 </td><td> 1                       </td><td>2014-05-01               </td><td>2014-05-01               </td></tr>\n",
       "</tbody>\n",
       "</table>\n"
      ],
      "text/latex": [
       "\\begin{tabular}{r|lllllll}\n",
       " EventID & State & FullEventName & EventTypes & Days & StartDate & EndDate\\\\\n",
       "\\hline\n",
       "\t  1                        & NJ                        & NJ Cindy 2005             & Tropical or Extratropical &  8                        & 2005-07-01                & 2005-07-13               \\\\\n",
       "\t  2                        & NJ                        & NJ Gordon 2000            & Tropical or Extratropical &  7                        & 2000-09-12                & 2000-09-23               \\\\\n",
       "\t  3                        & NJ                        & NJ Hanna 2008             & Tropical or Extratropical & 11                        & 2008-08-26                & 2008-09-10               \\\\\n",
       "\t  4                        & NJ                        & NJ Irene 2011             & Tropical or Extratropical &  9                        & 2011-08-19                & 2011-09-01               \\\\\n",
       "\t  5                        & NJ                        & NJ Rainfall Jul 2016      & Rainfall                  &  4                        & 2016-07-31                & 2016-08-03               \\\\\n",
       "\t  6                        & NJ                        & NJ Rainfall Jul 2017      & Rainfall                  &  2                        & 2017-07-29                & 2017-07-30               \\\\\n",
       "\t  7                        & NJ                        & NJ Riverine Apr 2007      & Riverine                  &  1                        & 2007-04-16                & 2007-04-16               \\\\\n",
       "\t  8                        & NJ                        & NJ Riverine Aug 2011      & Riverine                  &  1                        & 2011-08-14                & 2011-08-14               \\\\\n",
       "\t  9                        & NJ                        & NJ Riverine Jul 2004      & Riverine                  &  2                        & 2004-07-13                & 2004-07-14               \\\\\n",
       "\t 10                        & NJ                        & NJ Riverine May 2014      & Riverine                  &  1                        & 2014-05-01                & 2014-05-01               \\\\\n",
       "\\end{tabular}\n"
      ],
      "text/markdown": [
       "\n",
       "| EventID | State | FullEventName | EventTypes | Days | StartDate | EndDate |\n",
       "|---|---|---|---|---|---|---|\n",
       "|  1                        | NJ                        | NJ Cindy 2005             | Tropical or Extratropical |  8                        | 2005-07-01                | 2005-07-13                |\n",
       "|  2                        | NJ                        | NJ Gordon 2000            | Tropical or Extratropical |  7                        | 2000-09-12                | 2000-09-23                |\n",
       "|  3                        | NJ                        | NJ Hanna 2008             | Tropical or Extratropical | 11                        | 2008-08-26                | 2008-09-10                |\n",
       "|  4                        | NJ                        | NJ Irene 2011             | Tropical or Extratropical |  9                        | 2011-08-19                | 2011-09-01                |\n",
       "|  5                        | NJ                        | NJ Rainfall Jul 2016      | Rainfall                  |  4                        | 2016-07-31                | 2016-08-03                |\n",
       "|  6                        | NJ                        | NJ Rainfall Jul 2017      | Rainfall                  |  2                        | 2017-07-29                | 2017-07-30                |\n",
       "|  7                        | NJ                        | NJ Riverine Apr 2007      | Riverine                  |  1                        | 2007-04-16                | 2007-04-16                |\n",
       "|  8                        | NJ                        | NJ Riverine Aug 2011      | Riverine                  |  1                        | 2011-08-14                | 2011-08-14                |\n",
       "|  9                        | NJ                        | NJ Riverine Jul 2004      | Riverine                  |  2                        | 2004-07-13                | 2004-07-14                |\n",
       "| 10                        | NJ                        | NJ Riverine May 2014      | Riverine                  |  1                        | 2014-05-01                | 2014-05-01                |\n",
       "\n"
      ],
      "text/plain": [
       "   EventID State FullEventName        EventTypes                Days StartDate \n",
       "1   1      NJ    NJ Cindy 2005        Tropical or Extratropical  8   2005-07-01\n",
       "2   2      NJ    NJ Gordon 2000       Tropical or Extratropical  7   2000-09-12\n",
       "3   3      NJ    NJ Hanna 2008        Tropical or Extratropical 11   2008-08-26\n",
       "4   4      NJ    NJ Irene 2011        Tropical or Extratropical  9   2011-08-19\n",
       "5   5      NJ    NJ Rainfall Jul 2016 Rainfall                   4   2016-07-31\n",
       "6   6      NJ    NJ Rainfall Jul 2017 Rainfall                   2   2017-07-29\n",
       "7   7      NJ    NJ Riverine Apr 2007 Riverine                   1   2007-04-16\n",
       "8   8      NJ    NJ Riverine Aug 2011 Riverine                   1   2011-08-14\n",
       "9   9      NJ    NJ Riverine Jul 2004 Riverine                   2   2004-07-13\n",
       "10 10      NJ    NJ Riverine May 2014 Riverine                   1   2014-05-01\n",
       "   EndDate   \n",
       "1  2005-07-13\n",
       "2  2000-09-23\n",
       "3  2008-09-10\n",
       "4  2011-09-01\n",
       "5  2016-08-03\n",
       "6  2017-07-30\n",
       "7  2007-04-16\n",
       "8  2011-08-14\n",
       "9  2004-07-14\n",
       "10 2014-05-01"
      ]
     },
     "metadata": {},
     "output_type": "display_data"
    }
   ],
   "source": [
    "head(events,10)"
   ]
  }
 ],
 "metadata": {
  "kernelspec": {
   "display_name": "R",
   "language": "R",
   "name": "ir"
  },
  "language_info": {
   "codemirror_mode": "r",
   "file_extension": ".r",
   "mimetype": "text/x-r-source",
   "name": "R",
   "pygments_lexer": "r",
   "version": "3.6.1"
  }
 },
 "nbformat": 4,
 "nbformat_minor": 2
}
