{
 "cells": [
  {
   "cell_type": "markdown",
   "metadata": {},
   "source": [
    "## Identify Points for StreamStats\n",
    "\n",
    "__Description__: Tool to identify confluence pair points for tributaries of a specific length, add points to the main stem of a stream network at a specific distance interval, and export a shapefile of the points.\n",
    "\n",
    "__Input__: Stream grid from the [SteamStats Repository](https://streamstatsags.cr.usgs.gov/StreamGrids/directoryBrowsing.asp), masked using `ClipRaster_withMask.ipynb` and the latitude and longitude of the catchment outlet.\n",
    "\n",
    "__Output__: A shapefile containing the latitude and longitude of points on the stream grid (confluence and main stem locations).\n",
    "\n",
    "\n",
    "*Authors*: sputnam@Dewberry.com & slawler@Dewberry.com"
   ]
  },
  {
   "cell_type": "markdown",
   "metadata": {},
   "source": [
    "### Load libraries and Python options:"
   ]
  },
  {
   "cell_type": "code",
   "execution_count": 115,
   "metadata": {},
   "outputs": [],
   "source": [
    "import os\n",
    "import sys\n",
    "sys.path.append(r'../Core')\n",
    "from StreamStats_ID_Points import *\n",
    "import ID_Confluences\n",
    "import Calc_Distance"
   ]
  },
  {
   "cell_type": "markdown",
   "metadata": {},
   "source": [
    "### Load the clipped stream grid, specify the catchment outlet, and the tributary exclusion distance:"
   ]
  },
  {
   "cell_type": "markdown",
   "metadata": {},
   "source": [
    "##### Specify:"
   ]
  },
  {
   "cell_type": "code",
   "execution_count": 116,
   "metadata": {},
   "outputs": [],
   "source": [
    "# Specify the location of the stream grid raster which was masked by the\n",
    "# catchment polygon\n",
    "path = r'P:\\02\\NY\\R2_BLE_Discovery\\TECHNICAL\\Niagara\\HYDROLOGY\\streamstats'\n",
    "# The name of the stream grid raster\n",
    "name = 'str900_Niagara_buffer.tif'\n",
    "# The name of the desired output point shapefile\n",
    "out_shp_name = 'point9'\n",
    "\n",
    "# latitude of the catchment outlet\n",
    "lat = 4732395.01795 # [m]\n",
    "# longitude of the catchment outlet\n",
    "lon = 227884.624697 # [m]\n",
    "\n",
    "# Tributary exclusion distance\n",
    "# disexl = (5280 / 2.0) * (0.3048) # [m] (0.5 miles)\n",
    "disexl = 30 # [m]"
   ]
  },
  {
   "cell_type": "markdown",
   "metadata": {},
   "source": [
    "##### Load the stream grid:"
   ]
  },
  {
   "cell_type": "code",
   "execution_count": 117,
   "metadata": {},
   "outputs": [
    {
     "name": "stdout",
     "output_type": "stream",
     "text": [
      "epsg: 26918\n"
     ]
    },
    {
     "data": {
      "text/html": [
       "<div>\n",
       "<style scoped>\n",
       "    .dataframe tbody tr th:only-of-type {\n",
       "        vertical-align: middle;\n",
       "    }\n",
       "\n",
       "    .dataframe tbody tr th {\n",
       "        vertical-align: top;\n",
       "    }\n",
       "\n",
       "    .dataframe thead th {\n",
       "        text-align: right;\n",
       "    }\n",
       "</style>\n",
       "<table border=\"1\" class=\"dataframe\">\n",
       "  <thead>\n",
       "    <tr style=\"text-align: right;\">\n",
       "      <th></th>\n",
       "      <th>0</th>\n",
       "      <th>1</th>\n",
       "      <th>2</th>\n",
       "      <th>3</th>\n",
       "      <th>4</th>\n",
       "      <th>5</th>\n",
       "      <th>6</th>\n",
       "      <th>7</th>\n",
       "      <th>8</th>\n",
       "      <th>9</th>\n",
       "      <th>...</th>\n",
       "      <th>2521</th>\n",
       "      <th>2522</th>\n",
       "      <th>2523</th>\n",
       "      <th>2524</th>\n",
       "      <th>2525</th>\n",
       "      <th>2526</th>\n",
       "      <th>2527</th>\n",
       "      <th>2528</th>\n",
       "      <th>2529</th>\n",
       "      <th>2530</th>\n",
       "    </tr>\n",
       "  </thead>\n",
       "  <tbody>\n",
       "    <tr>\n",
       "      <th>0</th>\n",
       "      <td>-128</td>\n",
       "      <td>-128</td>\n",
       "      <td>-128</td>\n",
       "      <td>-128</td>\n",
       "      <td>-128</td>\n",
       "      <td>-128</td>\n",
       "      <td>-128</td>\n",
       "      <td>-128</td>\n",
       "      <td>-128</td>\n",
       "      <td>-128</td>\n",
       "      <td>...</td>\n",
       "      <td>-128</td>\n",
       "      <td>-128</td>\n",
       "      <td>-128</td>\n",
       "      <td>-128</td>\n",
       "      <td>-128</td>\n",
       "      <td>-128</td>\n",
       "      <td>-128</td>\n",
       "      <td>-128</td>\n",
       "      <td>-128</td>\n",
       "      <td>-128</td>\n",
       "    </tr>\n",
       "    <tr>\n",
       "      <th>1</th>\n",
       "      <td>-128</td>\n",
       "      <td>-128</td>\n",
       "      <td>-128</td>\n",
       "      <td>-128</td>\n",
       "      <td>-128</td>\n",
       "      <td>-128</td>\n",
       "      <td>-128</td>\n",
       "      <td>-128</td>\n",
       "      <td>-128</td>\n",
       "      <td>-128</td>\n",
       "      <td>...</td>\n",
       "      <td>-128</td>\n",
       "      <td>-128</td>\n",
       "      <td>-128</td>\n",
       "      <td>-128</td>\n",
       "      <td>-128</td>\n",
       "      <td>-128</td>\n",
       "      <td>-128</td>\n",
       "      <td>-128</td>\n",
       "      <td>-128</td>\n",
       "      <td>-128</td>\n",
       "    </tr>\n",
       "  </tbody>\n",
       "</table>\n",
       "<p>2 rows × 2531 columns</p>\n",
       "</div>"
      ],
      "text/plain": [
       "   0     1     2     3     4     5     6     7     8     9     ...  2521  \\\n",
       "0  -128  -128  -128  -128  -128  -128  -128  -128  -128  -128  ...  -128   \n",
       "1  -128  -128  -128  -128  -128  -128  -128  -128  -128  -128  ...  -128   \n",
       "\n",
       "   2522  2523  2524  2525  2526  2527  2528  2529  2530  \n",
       "0  -128  -128  -128  -128  -128  -128  -128  -128  -128  \n",
       "1  -128  -128  -128  -128  -128  -128  -128  -128  -128  \n",
       "\n",
       "[2 rows x 2531 columns]"
      ]
     },
     "execution_count": 117,
     "metadata": {},
     "output_type": "execute_result"
    }
   ],
   "source": [
    "# Open the stream grid raster and create an object\n",
    "sg = StreamGrid(os.path.join(path, name))\n",
    "\n",
    "# Extract the coordinate reference system value (epsg) for the raster\n",
    "crs = sg.crs_value()\n",
    "print(\"epsg:\", crs)\n",
    "\n",
    "# Create a dataframe from the stream grid data\n",
    "df = sg.dataframe()\n",
    "\n",
    "# Potential Issue: Replace 255 with 0, where 255 corresponds to the\n",
    "# non-stream cells\n",
    "df.replace(255, 0, inplace=True)\n",
    "df.head(n=2)"
   ]
  },
  {
   "cell_type": "markdown",
   "metadata": {},
   "source": [
    "##### Convert the catchment outlet's lat/lon to row/column in the stream grid dataframe and extract the cell size:"
   ]
  },
  {
   "cell_type": "code",
   "execution_count": 118,
   "metadata": {},
   "outputs": [
    {
     "name": "stdout",
     "output_type": "stream",
     "text": [
      "Pourpoint XY: [(748, 2009)]\n",
      "The Cell Size: 10.0\n"
     ]
    }
   ],
   "source": [
    "# Transform the lat and lon values to the row/column location with the stream\n",
    "# grid dataframe\n",
    "pix_x, pix_y = coord2index(sg, lat, lon)\n",
    "# Add these values to a list as a touple\n",
    "pourpoint=[(pix_x, pix_y)]\n",
    "print(\"Pourpoint XY:\", pourpoint)\n",
    "\n",
    "# Raster cell size\n",
    "cellsize=sg.cell_size() # [m]\n",
    "print(\"The Cell Size:\", cellsize)"
   ]
  },
  {
   "cell_type": "markdown",
   "metadata": {},
   "source": [
    "### Move up the stream and identify the confluences:"
   ]
  },
  {
   "cell_type": "code",
   "execution_count": 119,
   "metadata": {},
   "outputs": [
    {
     "name": "stdout",
     "output_type": "stream",
     "text": [
      "Number of points identified: 5\n"
     ]
    }
   ],
   "source": [
    "# Function that moves up a stream network from the pourpoint and identifies\n",
    "# the confluence pairs\n",
    "save_confluence, confluence_pairs_orig, nogo = ID_Confluences.main(pourpoint,\n",
    "                                                                   df,\n",
    "                                                                   display=True)\n",
    "\n",
    "print(\"Number of points identified:\", len(save_confluence))"
   ]
  },
  {
   "cell_type": "markdown",
   "metadata": {},
   "source": [
    "### Remove superflous confluences:"
   ]
  },
  {
   "cell_type": "code",
   "execution_count": 120,
   "metadata": {},
   "outputs": [
    {
     "name": "stdout",
     "output_type": "stream",
     "text": [
      "Number of true confluence points: 5\n"
     ]
    }
   ],
   "source": [
    "# A false confluence is where there are not two points with the same\n",
    "# confluence number\n",
    "true_confluence, false_confluence = Remove_False_Confluence(save_confluence)\n",
    "print(\"Number of true confluence points:\", len(true_confluence))"
   ]
  },
  {
   "cell_type": "markdown",
   "metadata": {},
   "source": [
    "##### Identify all stream cells associated with the false confluences:"
   ]
  },
  {
   "cell_type": "code",
   "execution_count": 121,
   "metadata": {},
   "outputs": [],
   "source": [
    "false_points = ID_False_ConfluenceLocs(false_confluence, nogo)"
   ]
  },
  {
   "cell_type": "markdown",
   "metadata": {},
   "source": [
    "##### Remove any original confluences associated with the false confluences:"
   ]
  },
  {
   "cell_type": "code",
   "execution_count": 122,
   "metadata": {},
   "outputs": [],
   "source": [
    "confluence_pairs_orig = Remove_False_From_Orig(false_confluence, confluence_pairs_orig)"
   ]
  },
  {
   "cell_type": "markdown",
   "metadata": {},
   "source": [
    "### Calculate the tributary length:"
   ]
  },
  {
   "cell_type": "code",
   "execution_count": 123,
   "metadata": {},
   "outputs": [
    {
     "name": "stdout",
     "output_type": "stream",
     "text": [
      "Total Confluence Points: 5 Main Stem Points: 1\n"
     ]
    }
   ],
   "source": [
    "tributary, mainstem, nogoabs = Calc_Distance.main(df, cellsize,\n",
    "                                                  true_confluence,\n",
    "                                                  false_points,\n",
    "                                                  confluence_pairs_orig) \n",
    "\n",
    "print(\"Total Confluence Points:\", (len(mainstem) + len(tributary)), \"Main Stem Points:\", len(mainstem))"
   ]
  },
  {
   "cell_type": "markdown",
   "metadata": {},
   "source": [
    "##### Remove confluences with tributaries or intervals less than a specific length:"
   ]
  },
  {
   "cell_type": "code",
   "execution_count": 124,
   "metadata": {},
   "outputs": [
    {
     "name": "stdout",
     "output_type": "stream",
     "text": [
      "# of Tributary Points: 4\n",
      "# of Main Stem Points: 2\n"
     ]
    }
   ],
   "source": [
    "incl_tribs = Exclude_Confls(tributary, disexl) \n",
    "\n",
    "print(\"# of Tributary Points:\", len(incl_tribs)) \n",
    "\n",
    "# Note that this is a temporary fix until the distance calculation is fixed so\n",
    "# that it adds up excluded tribs.\n",
    "incl_mainstem=Exclude_Confls(mainstem, disexl/2.) \n",
    "# Add in the original catchment outlet\n",
    "incl_mainstem.append((pourpoint[0] + (0, 0,)))\n",
    "\n",
    "print(\"# of Main Stem Points:\", len(incl_mainstem))   "
   ]
  },
  {
   "cell_type": "markdown",
   "metadata": {},
   "source": [
    "##### Add labels to differentiate between the mainstem and the tributaries and combine:"
   ]
  },
  {
   "cell_type": "code",
   "execution_count": 125,
   "metadata": {},
   "outputs": [],
   "source": [
    "# Empty list to store the labeled main stem points\n",
    "mainstem_withlabel=[]\n",
    "# Empty list to store the labeled tributary points \n",
    "tributary_withlabel=[]\n",
    "\n",
    "# Add a \"M\" to the tuple to indicate that the cell is a main stem location\n",
    "for cell in incl_mainstem:\n",
    "    mainstem_withlabel.append(cell+('M',))\n",
    "\n",
    "# Add a \"T\" to the tuple to indicate that the cell is a tributary location\n",
    "for cell in incl_tribs:\n",
    "    tributary_withlabel.append(cell+('T',))\n",
    "\n",
    "# Combine the main stem and tributary lists into a singe list\n",
    "export_confluences=mainstem_withlabel+tributary_withlabel"
   ]
  },
  {
   "cell_type": "markdown",
   "metadata": {},
   "source": [
    "### Save the results:"
   ]
  },
  {
   "cell_type": "markdown",
   "metadata": {},
   "source": [
    "##### Extract the confluence number, distance, and type of confluence:"
   ]
  },
  {
   "cell_type": "code",
   "execution_count": 126,
   "metadata": {},
   "outputs": [],
   "source": [
    "# Empty list to store the confluence number\n",
    "export_cnum=[]\n",
    "# Empty list to store the distance\n",
    "export_dis=[]\n",
    "# Empty list to store the point type\n",
    "export_type=[]\n",
    "\n",
    "# Store the confluence number, distance, and point type.\n",
    "for cell in export_confluences:\n",
    "    export_cnum.append(cell[2])\n",
    "    export_dis.append(cell[3])    \n",
    "    export_type.append(cell[4])"
   ]
  },
  {
   "cell_type": "markdown",
   "metadata": {},
   "source": [
    "##### Transform and save as a shapefile:"
   ]
  },
  {
   "cell_type": "code",
   "execution_count": 127,
   "metadata": {},
   "outputs": [],
   "source": [
    "# Transform the row/column value to latitude/longitude for each confluence\n",
    "longitude, latitude=index2coord(sg, export_confluences)\n",
    "\n",
    "# Store the longitude/latitude, confluence number, distance, and type for each\n",
    "# confluence in a geodataframe\n",
    "gdf=geodataframe(longitude, latitude, crs, export_cnum, export_dis, export_type)\n",
    "\n",
    "# Export the geodataframe as a shapefule\n",
    "gdf.to_file(filename = os.path.join(path, f'{out_shp_name}.shp'))"
   ]
  },
  {
   "cell_type": "markdown",
   "metadata": {},
   "source": [
    "# End"
   ]
  },
  {
   "cell_type": "code",
   "execution_count": null,
   "metadata": {},
   "outputs": [],
   "source": []
  }
 ],
 "metadata": {
  "kernelspec": {
   "display_name": "BLEtools",
   "language": "python",
   "name": "bletools"
  },
  "language_info": {
   "codemirror_mode": {
    "name": "ipython",
    "version": 3
   },
   "file_extension": ".py",
   "mimetype": "text/x-python",
   "name": "python",
   "nbconvert_exporter": "python",
   "pygments_lexer": "ipython3",
   "version": "3.7.3"
  }
 },
 "nbformat": 4,
 "nbformat_minor": 4
}
