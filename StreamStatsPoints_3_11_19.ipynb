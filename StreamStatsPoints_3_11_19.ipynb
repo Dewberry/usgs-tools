{
 "cells": [
  {
   "cell_type": "markdown",
   "metadata": {},
   "source": [
    "## Create Points for StreamStats\n",
    "\n",
    "__Description__:\n",
    "\n",
    "__Input__:\n",
    "\n",
    "__Output__:\n",
    "\n",
    "\n",
    "*Authors*: sputnam@Dewberry.com & slawler@Dewberry.com"
   ]
  },
  {
   "cell_type": "markdown",
   "metadata": {},
   "source": [
    "#### Load libraries and Python options:"
   ]
  },
  {
   "cell_type": "code",
   "execution_count": 1,
   "metadata": {},
   "outputs": [],
   "source": [
    "import os\n",
    "import collections \n",
    "import pandas as pd\n",
    "import numpy as np\n",
    "import geopandas as gpd\n",
    "from osgeo import gdal, ogr,osr\n",
    "from shapely.geometry import Point\n",
    "from StreamStats_Points import*"
   ]
  },
  {
   "cell_type": "markdown",
   "metadata": {},
   "source": [
    "### Load the masked stream grid:"
   ]
  },
  {
   "cell_type": "markdown",
   "metadata": {},
   "source": [
    "##### Specify:"
   ]
  },
  {
   "cell_type": "code",
   "execution_count": 2,
   "metadata": {},
   "outputs": [],
   "source": [
    "path=r'C:\\Users\\sputnam\\Documents\\GitHub\\usgs-tools\\results\\rock_creek_clip.tif' #Load the stream grid raster which was masked by the catchment polygon"
   ]
  },
  {
   "cell_type": "markdown",
   "metadata": {},
   "source": [
    "##### Load:"
   ]
  },
  {
   "cell_type": "code",
   "execution_count": 3,
   "metadata": {},
   "outputs": [
    {
     "name": "stdout",
     "output_type": "stream",
     "text": [
      "epsg: 5070\n"
     ]
    },
    {
     "data": {
      "text/html": [
       "<div>\n",
       "<style scoped>\n",
       "    .dataframe tbody tr th:only-of-type {\n",
       "        vertical-align: middle;\n",
       "    }\n",
       "\n",
       "    .dataframe tbody tr th {\n",
       "        vertical-align: top;\n",
       "    }\n",
       "\n",
       "    .dataframe thead th {\n",
       "        text-align: right;\n",
       "    }\n",
       "</style>\n",
       "<table border=\"1\" class=\"dataframe\">\n",
       "  <thead>\n",
       "    <tr style=\"text-align: right;\">\n",
       "      <th></th>\n",
       "      <th>0</th>\n",
       "      <th>1</th>\n",
       "      <th>2</th>\n",
       "      <th>3</th>\n",
       "      <th>4</th>\n",
       "      <th>5</th>\n",
       "      <th>6</th>\n",
       "      <th>7</th>\n",
       "      <th>8</th>\n",
       "      <th>9</th>\n",
       "      <th>...</th>\n",
       "      <th>1205</th>\n",
       "      <th>1206</th>\n",
       "      <th>1207</th>\n",
       "      <th>1208</th>\n",
       "      <th>1209</th>\n",
       "      <th>1210</th>\n",
       "      <th>1211</th>\n",
       "      <th>1212</th>\n",
       "      <th>1213</th>\n",
       "      <th>1214</th>\n",
       "    </tr>\n",
       "  </thead>\n",
       "  <tbody>\n",
       "    <tr>\n",
       "      <th>0</th>\n",
       "      <td>0</td>\n",
       "      <td>0</td>\n",
       "      <td>0</td>\n",
       "      <td>0</td>\n",
       "      <td>0</td>\n",
       "      <td>0</td>\n",
       "      <td>0</td>\n",
       "      <td>0</td>\n",
       "      <td>0</td>\n",
       "      <td>0</td>\n",
       "      <td>...</td>\n",
       "      <td>0</td>\n",
       "      <td>0</td>\n",
       "      <td>0</td>\n",
       "      <td>0</td>\n",
       "      <td>0</td>\n",
       "      <td>0</td>\n",
       "      <td>0</td>\n",
       "      <td>0</td>\n",
       "      <td>0</td>\n",
       "      <td>0</td>\n",
       "    </tr>\n",
       "    <tr>\n",
       "      <th>1</th>\n",
       "      <td>0</td>\n",
       "      <td>0</td>\n",
       "      <td>0</td>\n",
       "      <td>0</td>\n",
       "      <td>0</td>\n",
       "      <td>0</td>\n",
       "      <td>0</td>\n",
       "      <td>0</td>\n",
       "      <td>0</td>\n",
       "      <td>0</td>\n",
       "      <td>...</td>\n",
       "      <td>0</td>\n",
       "      <td>0</td>\n",
       "      <td>0</td>\n",
       "      <td>0</td>\n",
       "      <td>0</td>\n",
       "      <td>0</td>\n",
       "      <td>0</td>\n",
       "      <td>0</td>\n",
       "      <td>0</td>\n",
       "      <td>0</td>\n",
       "    </tr>\n",
       "  </tbody>\n",
       "</table>\n",
       "<p>2 rows × 1215 columns</p>\n",
       "</div>"
      ],
      "text/plain": [
       "   0     1     2     3     4     5     6     7     8     9     ...   1205  \\\n",
       "0     0     0     0     0     0     0     0     0     0     0  ...      0   \n",
       "1     0     0     0     0     0     0     0     0     0     0  ...      0   \n",
       "\n",
       "   1206  1207  1208  1209  1210  1211  1212  1213  1214  \n",
       "0     0     0     0     0     0     0     0     0     0  \n",
       "1     0     0     0     0     0     0     0     0     0  \n",
       "\n",
       "[2 rows x 1215 columns]"
      ]
     },
     "execution_count": 3,
     "metadata": {},
     "output_type": "execute_result"
    }
   ],
   "source": [
    "sg = StreamGrid(path) #Open the stream grid raster and create an object\n",
    "\n",
    "crs=sg.crs_value() #Extract the coordinate reference system value (epsg) for the raster\n",
    "print(\"epsg:\",crs) #Print the value\n",
    "\n",
    "df = sg.dataframe() #Create a dataframe from the stream grid data\n",
    "df.replace(255, 0, inplace=True) #Replace 255 with 0, where 255 corresponds to the non-stream cells\n",
    "df.head(n=2) "
   ]
  },
  {
   "cell_type": "markdown",
   "metadata": {},
   "source": [
    "### Specify the pour point to set the start location of the search:"
   ]
  },
  {
   "cell_type": "markdown",
   "metadata": {},
   "source": [
    "##### Specify:"
   ]
  },
  {
   "cell_type": "code",
   "execution_count": 4,
   "metadata": {},
   "outputs": [],
   "source": [
    "lat=1925315.186 #latitude of the pourpoint at the catchment outlet\n",
    "lon=1616784.964 #longitude of the pourpoint"
   ]
  },
  {
   "cell_type": "markdown",
   "metadata": {},
   "source": [
    "##### Convert the lat/lon to row/column in the stream grid dataframe and extract the cell size:"
   ]
  },
  {
   "cell_type": "code",
   "execution_count": 5,
   "metadata": {},
   "outputs": [
    {
     "name": "stdout",
     "output_type": "stream",
     "text": [
      "Pourpoint XY: [(877, 1848)]\n",
      "The Cell Size: 10.0\n"
     ]
    }
   ],
   "source": [
    "pix_x, pix_y =coord2index(sg, lat, lon) #Transform the lat and lon values to the row/column location with the stream grid dataframe\n",
    "pourpoint=[(pix_x, pix_y)] #Add these values to a list as a touple\n",
    "print(\"Pourpoint XY:\", pourpoint)\n",
    "\n",
    "cellsize=sg.cell_size() #Raster cell size in meters\n",
    "print(\"The Cell Size:\", cellsize)"
   ]
  },
  {
   "cell_type": "markdown",
   "metadata": {},
   "source": [
    "### Move up the stream and identify the confluences:"
   ]
  },
  {
   "cell_type": "markdown",
   "metadata": {},
   "source": [
    "##### Specify parameters and intalize objects:"
   ]
  },
  {
   "cell_type": "code",
   "execution_count": 6,
   "metadata": {},
   "outputs": [],
   "source": [
    "nogo=[] #Empty list to store the stream cells that we do not want to return to since we have already searched them\n",
    "confluence_pairs=[] #Empty list to store the identified confluence pairs\n",
    "save_confluence=[] #Empty list to store the location of confluences that are three cells away from the original confluence location\n",
    "cnum=0\n",
    "count=0\n",
    "\n",
    "starting_point=pourpoint[0]+(cnum,) #The starting point of the stream network where we want to start searching for confluences\n",
    "\n",
    "nogo.append(pourpoint[0]) #Add the starting point to the no go list"
   ]
  },
  {
   "cell_type": "markdown",
   "metadata": {},
   "source": [
    "##### Identify confluences:"
   ]
  },
  {
   "cell_type": "code",
   "execution_count": 7,
   "metadata": {},
   "outputs": [],
   "source": [
    "while len(starting_point)>0:\n",
    "    count+=1\n",
    "    cnum=count\n",
    "    \n",
    "    next_cell, nogo=MoveUpstream(df, starting_point, nogo, cnum)  \n",
    "    \n",
    "    if len(next_cell) == 1:\n",
    "        nogo=nogo+[next_cell[0][:2]]\n",
    "        starting_point = next_cell[0]\n",
    "        \n",
    "    else:\n",
    "        if len(next_cell)>1:\n",
    "            next_cellwocnum=remove_cnum(next_cell)\n",
    "            nogo=nogo+next_cellwocnum\n",
    "            confluence_pairs=confluence_pairs+next_cell\n",
    "        if len(confluence_pairs)>0:\n",
    "            starting_point=confluence_pairs[0]\n",
    "            confluence_pairs.remove(starting_point)\n",
    "            cnum=starting_point[2]\n",
    "            \n",
    "            i=0\n",
    "            while i<2:\n",
    "                next_cell, nogo=MoveUpstream(df, starting_point, nogo, cnum)\n",
    "                \n",
    "                if len(next_cell) == 1:\n",
    "                    nogo=nogo+[next_cell[0][:2]]\n",
    "                    starting_point = next_cell[0]\n",
    "                    i+=1\n",
    "                    continue\n",
    "                elif len(next_cell)>1:\n",
    "                    confluence_pairs=confluence_pairs+next_cell\n",
    "                    i=2\n",
    "                else:\n",
    "                    i=2\n",
    "                \n",
    "            if len(next_cell) == 1:\n",
    "                save_confluence.append(starting_point)\n",
    "        else:\n",
    "            starting_point=[]"
   ]
  },
  {
   "cell_type": "markdown",
   "metadata": {},
   "source": [
    "### Remove superflous confluences:"
   ]
  },
  {
   "cell_type": "markdown",
   "metadata": {},
   "source": [
    "##### Remove points where two stream cells were adjacent:"
   ]
  },
  {
   "cell_type": "code",
   "execution_count": 23,
   "metadata": {},
   "outputs": [
    {
     "name": "stdout",
     "output_type": "stream",
     "text": [
      "All Points: 614 True Confluences: 475\n"
     ]
    }
   ],
   "source": [
    "true_confluence=[]\n",
    "confl_num=[]\n",
    "\n",
    "for cell in save_confluence:\n",
    "    confl_num.append(cell[2])\n",
    "\n",
    "for cell in save_confluence:\n",
    "    if confl_num.count(cell[2])>=2:\n",
    "        true_confluence.append(cell)\n",
    "        \n",
    "false_confluence=list(set(save_confluence)-set(true_confluence))\n",
    "\n",
    "print(\"All Points:\", len(save_confluence), \"True Confluences:\", len(true_confluence))    "
   ]
  },
  {
   "cell_type": "markdown",
   "metadata": {},
   "source": [
    "### Calculate the distance:"
   ]
  },
  {
   "cell_type": "code",
   "execution_count": 27,
   "metadata": {},
   "outputs": [],
   "source": [
    "nogo=[]\n",
    "dis_confluence=[]\n",
    "\n",
    "walk_confluence=true_confluence.copy()\n",
    "starting_point=walk_confluence[0]\n",
    "\n",
    "walk_conflwocnum=[starting_point[:2]]\n",
    "nogo=nogo+walk_conflwocnum\n",
    "\n",
    "false_confluence=remove_cnum(false_confluence) #Remove the confluence numbers from the false confluence list"
   ]
  },
  {
   "cell_type": "code",
   "execution_count": null,
   "metadata": {},
   "outputs": [],
   "source": [
    "while len(walk_confluence)>0:\n",
    "        next_cell, nogo=MoveUpstream(df, starting_point, nogo)\n",
    "        \n",
    "        if len(next_cell)==1:\n",
    "            step_dis=TrueDistance(starting_point[0], next_cell[0], cellsize)\n",
    "            total_dis=step_dis+total_dis\n",
    "            nogo=nogo+[next_cell[0][:2]]\n",
    "            starting_point = next_cell[0]\n",
    "            continue\n",
    "            \n",
    "        elif len(next_cell)==0:\n",
    "            dis_confluence(walk_confluence[0]+(total_dis,)+('T',))\n",
    "            walk_confluence.remove(walk_confluence[0])\n",
    "            starting_point=walk_confluence[0]\n",
    "            continue\n",
    "            \n",
    "        elif len(next_cell)>1:\n",
    "            next_cellwocnum=remove_cnum(next_cell)\n",
    "            if any(x in next_cellwocnum for x in false_confluence):\n",
    "                for cell in next_cellwocnum:\n",
    "                    if cell in false_confluence:\n",
    "                        next_cell=[cell]\n",
    "                step_dis=TrueDistance(starting_point[0], next_cell[0], cellsize)\n",
    "                total_dis=step_dis+total_dis\n",
    "                nogo=nogo+[next_cell[0][:2]]\n",
    "                \n",
    "                ####come back to this part of the code\n",
    "            dis_confluence(walk_confluence[0]+(total_dis,)+('M',))\n",
    "            walk_confluence.remove(walk_confluence[0])\n",
    "            starting_point=walk_confluence[0]\n",
    "            continue"
   ]
  },
  {
   "cell_type": "code",
   "execution_count": 29,
   "metadata": {},
   "outputs": [],
   "source": [
    "any(x in next_cellwocnum for x in false_confluence)"
   ]
  },
  {
   "cell_type": "code",
   "execution_count": 36,
   "metadata": {},
   "outputs": [
    {
     "data": {
      "text/plain": [
       "False"
      ]
     },
     "execution_count": 36,
     "metadata": {},
     "output_type": "execute_result"
    }
   ],
   "source": [
    "b=[false_confluence[2],(44,33)]\n",
    "b==false_confluence"
   ]
  },
  {
   "cell_type": "code",
   "execution_count": 43,
   "metadata": {},
   "outputs": [
    {
     "data": {
      "text/plain": [
       "True"
      ]
     },
     "execution_count": 43,
     "metadata": {},
     "output_type": "execute_result"
    }
   ],
   "source": []
  },
  {
   "cell_type": "markdown",
   "metadata": {},
   "source": [
    "### Save the results:"
   ]
  },
  {
   "cell_type": "code",
   "execution_count": null,
   "metadata": {},
   "outputs": [],
   "source": [
    "lists=[save_confluence, true_confluence]\n",
    "names=['save_confluence', 'true_confluence']\n",
    "\n",
    "for i in range(len(lists)):\n",
    "    longitude, latitude=index2coord(sg, lists[i])  #Transform the row/column value from the stream grid dataframe to latitude/longitude for each confluence\n",
    "    gdf=geodataframe(longitude, latitude, crs) #Store the longitude/latitude for each confluence in a geodataframe\n",
    "    gdf.to_file(filename = r'C:\\Users\\sputnam\\Documents\\GitHub\\usgs-tools\\results\\{}.shp'.format(names[i])) #Export the geodataframe as a shapefule"
   ]
  },
  {
   "cell_type": "markdown",
   "metadata": {},
   "source": [
    "# End"
   ]
  }
 ],
 "metadata": {
  "kernelspec": {
   "display_name": "Python 3",
   "language": "python",
   "name": "python3"
  },
  "language_info": {
   "codemirror_mode": {
    "name": "ipython",
    "version": 3
   },
   "file_extension": ".py",
   "mimetype": "text/x-python",
   "name": "python",
   "nbconvert_exporter": "python",
   "pygments_lexer": "ipython3",
   "version": "3.7.1"
  }
 },
 "nbformat": 4,
 "nbformat_minor": 2
}
