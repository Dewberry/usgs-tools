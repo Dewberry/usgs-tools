{
 "cells": [
  {
   "cell_type": "markdown",
   "metadata": {},
   "source": [
    "# StreamStats API Scraper\n",
    "\n",
    "#### Development Notebook"
   ]
  },
  {
   "cell_type": "code",
   "execution_count": 1,
   "metadata": {},
   "outputs": [],
   "source": [
    "import json\n",
    "import requests"
   ]
  },
  {
   "cell_type": "code",
   "execution_count": 2,
   "metadata": {},
   "outputs": [],
   "source": [
    "rcode='MD'\n",
    "xlocation= -76.93629\n",
    "ylocation=  38.94793\n",
    "crs=4326\n",
    "stats_group=2\n",
    "configs=2"
   ]
  },
  {
   "cell_type": "markdown",
   "metadata": {},
   "source": [
    "#### Assign Location & Stats Group (2=Peakflow)"
   ]
  },
  {
   "cell_type": "markdown",
   "metadata": {},
   "source": [
    "#### URL Strings"
   ]
  },
  {
   "cell_type": "code",
   "execution_count": 3,
   "metadata": {},
   "outputs": [],
   "source": [
    "waterhsed_url = 'https://streamstats.usgs.gov/streamstatsservices/watershed.geojson?'\n",
    "PercentOverlay_url = 'https://gis.streamstats.usgs.gov/arcgis/rest/services/nss/regions/MapServer/exts/PercentOverlayRESTSOE/PercentOverlay'\n",
    "stats_groups_url= f\"https://streamstats.usgs.gov/nssservices/statisticgroups/{stats_group}.json?\"\n",
    "scenarios_url = \"https://streamstats.usgs.gov/nssservices/scenarios.json?\"\n",
    "parameters_url = r'https://streamstats.usgs.gov/streamstatsservices/parameters.json?'\n",
    "estimate_url = 'https://streamstats.usgs.gov/nssservices/scenarios/estimate.json?'\n",
    "Href_url = f\"https://streamstats.usgs.gov/nssservices/statisticgroups/{stats_group}\""
   ]
  },
  {
   "cell_type": "code",
   "execution_count": 4,
   "metadata": {},
   "outputs": [
    {
     "data": {
      "text/plain": [
       "dict_keys(['workspaceID', 'featurecollection', 'parameters', 'messages'])"
      ]
     },
     "execution_count": 4,
     "metadata": {},
     "output_type": "execute_result"
    }
   ],
   "source": [
    "watershed_params = {'rcode':rcode, 'xlocation': xlocation,'ylocation':ylocation, \n",
    "          'crs':crs, 'includeparameters':'true', 'includefeatures':'true', 'simplify':'true'}\n",
    "\n",
    "r = requests.get(waterhsed_url, watershed_params)\n",
    "watershed_data = json.loads(r.content.decode())\n",
    "watershed_data.keys()"
   ]
  },
  {
   "cell_type": "code",
   "execution_count": 5,
   "metadata": {},
   "outputs": [
    {
     "name": "stdout",
     "output_type": "stream",
     "text": [
      "MD20190125231921461000\n"
     ]
    }
   ],
   "source": [
    "workspaceID = watershed_data['workspaceID']\n",
    "print(workspaceID)"
   ]
  },
  {
   "cell_type": "markdown",
   "metadata": {},
   "source": [
    "### Featureclass From API"
   ]
  },
  {
   "cell_type": "code",
   "execution_count": 6,
   "metadata": {},
   "outputs": [],
   "source": [
    "featurecollection = watershed_data['featurecollection']\n",
    "watershed_poly = featurecollection[1]['feature']"
   ]
  },
  {
   "cell_type": "markdown",
   "metadata": {},
   "source": [
    "#### Percent Overlay Test"
   ]
  },
  {
   "cell_type": "code",
   "execution_count": 7,
   "metadata": {},
   "outputs": [],
   "source": [
    "PercentOverlay_params = {'geometry': json.dumps(watershed_poly), 'f': 'json'}\n",
    "r = requests.post(PercentOverlay_url, PercentOverlay_params)\n",
    "PercentOverlay = r.json()"
   ]
  },
  {
   "cell_type": "markdown",
   "metadata": {},
   "source": [
    "### Quick Fix, requires testing/refinement\n",
    "\n",
    "Select group codes by keyowrd, revisit to verify. This method may provide inaccurate results"
   ]
  },
  {
   "cell_type": "code",
   "execution_count": 8,
   "metadata": {},
   "outputs": [
    {
     "data": {
      "text/plain": [
       "'gc1479,gc1480'"
      ]
     },
     "execution_count": 8,
     "metadata": {},
     "output_type": "execute_result"
    }
   ],
   "source": [
    "regressionregion_codes = []\n",
    "for group in PercentOverlay:\n",
    "    group_name = group['name']\n",
    "    if 'Peak' in group_name and 'Urban' not in group_name:\n",
    "        regressionregion_codes.append(group['code'])\n",
    "        \n",
    "regressionregion_codes\n",
    "reg_codes = ','.join(regressionregion_codes)\n",
    "reg_codes"
   ]
  },
  {
   "cell_type": "code",
   "execution_count": 9,
   "metadata": {},
   "outputs": [
    {
     "data": {
      "text/plain": [
       "{'gc1479': 71.15778149903338, 'gc1480': 28.842218502961664}"
      ]
     },
     "execution_count": 9,
     "metadata": {},
     "output_type": "execute_result"
    }
   ],
   "source": [
    "rr_weight={}\n",
    "for rr in  PercentOverlay:\n",
    "    rr_code = rr['code'] \n",
    "    if rr_code in regressionregion_codes:\n",
    "        rr_weight[rr_code] = rr['percent']\n",
    "        \n",
    "rr_weight"
   ]
  },
  {
   "cell_type": "code",
   "execution_count": 10,
   "metadata": {},
   "outputs": [
    {
     "data": {
      "text/plain": [
       "{'ID': 2, 'Name': 'Peak-Flow Statistics', 'Code': 'PFS'}"
      ]
     },
     "execution_count": 10,
     "metadata": {},
     "output_type": "execute_result"
    }
   ],
   "source": [
    "stats_groups_url_params = {'region':rcode,'regressionregions':reg_codes}\n",
    "r = requests.get(stats_groups_url, json=stats_groups_url_params)\n",
    "stats_groups = r.json() \n",
    "stats_groups"
   ]
  },
  {
   "cell_type": "code",
   "execution_count": 11,
   "metadata": {},
   "outputs": [],
   "source": [
    "scenarios_url_params = {'region': rcode ,'statisticgroups': stats_group, 'regressionregions':reg_codes, 'configs': 2}\n",
    "r = requests.get(scenarios_url, data=scenarios_url_params)\n",
    "scenarios = r.json()"
   ]
  },
  {
   "cell_type": "code",
   "execution_count": 12,
   "metadata": {},
   "outputs": [
    {
     "data": {
      "text/plain": [
       "'IMPERV,FOREST_MD,LIME,DRNAREA,SOILCorD'"
      ]
     },
     "execution_count": 12,
     "metadata": {},
     "output_type": "execute_result"
    }
   ],
   "source": [
    "rr_parameter_codes=[]\n",
    "for rr in scenarios[0]['RegressionRegions']:\n",
    "    reg_code = rr['Code']\n",
    "    if reg_code.lower() in reg_codes:\n",
    "        parameters = rr['Parameters']\n",
    "        for pp in parameters:\n",
    "            for k,v in pp.items():\n",
    "                if k == 'Code':\n",
    "                    rr_parameter_codes.append(v)\n",
    "                \n",
    "rr_parameter_codes = ','.join(list(set(rr_parameter_codes)))\n",
    "rr_parameter_codes"
   ]
  },
  {
   "cell_type": "code",
   "execution_count": 13,
   "metadata": {},
   "outputs": [
    {
     "data": {
      "text/plain": [
       "'https://streamstats.usgs.gov/streamstatsservices/parameters.json?'"
      ]
     },
     "execution_count": 13,
     "metadata": {},
     "output_type": "execute_result"
    }
   ],
   "source": [
    "parameters_url"
   ]
  },
  {
   "cell_type": "code",
   "execution_count": 19,
   "metadata": {},
   "outputs": [
    {
     "data": {
      "text/plain": [
       "{'parameters': [{'ID': 0,\n",
       "   'name': 'Drainage Area',\n",
       "   'description': 'Area that drains to a point on a stream',\n",
       "   'code': 'DRNAREA',\n",
       "   'unit': 'square miles',\n",
       "   'value': 73.9},\n",
       "  {'ID': 0,\n",
       "   'name': 'Percent forest from MD 2010 land use',\n",
       "   'description': 'Percent forest from Maryland 2010 land-use data',\n",
       "   'code': 'FOREST_MD',\n",
       "   'unit': 'percent',\n",
       "   'value': 28.6},\n",
       "  {'ID': 0,\n",
       "   'name': 'Percent Impervious',\n",
       "   'description': 'Percentage of impervious area',\n",
       "   'code': 'IMPERV',\n",
       "   'unit': 'percent',\n",
       "   'value': 28.6},\n",
       "  {'ID': 0,\n",
       "   'name': 'Percent Limestone',\n",
       "   'description': 'Percentage of area of limestone geology',\n",
       "   'code': 'LIME',\n",
       "   'unit': 'percent',\n",
       "   'value': 0.0},\n",
       "  {'ID': 0,\n",
       "   'name': 'Percent SSURGO Soil Type C or D',\n",
       "   'description': 'Percentage of area of Hydrologic Soil Type C or D from SSURGO',\n",
       "   'code': 'SOILCorD',\n",
       "   'unit': 'percent',\n",
       "   'value': 65.9}],\n",
       " 'messages': ['xmlcount:14',\n",
       "  'From ApFields',\n",
       "  'count: 14',\n",
       "  'DB return count: 14',\n",
       "  'Start Time: Fri Jan 25 23:20:24 2019 Performing global parameters computation... after GetZonalTable ptable False  after GetZonalTable ptable False  after GetZonalTable ptable False  after GetZonalTable ptable False  Succeeded at Fri Jan 25 23:20:27 2019 (Elapsed Time: 2.22 seconds)']}"
      ]
     },
     "execution_count": 19,
     "metadata": {},
     "output_type": "execute_result"
    }
   ],
   "source": [
    "parameters_params = json.dumps({'rcode': rcode, 'workspaceID':workspaceID, 'includeparameters': rr_parameter_codes})\n",
    "r = requests.get(parameters_url, json.loads(parameters_params))\n",
    "pdata = r.json()\n",
    "pdata"
   ]
  },
  {
   "cell_type": "markdown",
   "metadata": {},
   "source": [
    "*__Include error check for above cell output__*"
   ]
  },
  {
   "cell_type": "code",
   "execution_count": 20,
   "metadata": {},
   "outputs": [],
   "source": [
    "use_codes={}\n",
    "for p in pdata['parameters']:\n",
    "    #print(p['code'], p['value'])\n",
    "    use_codes[p['code']] = p['value']"
   ]
  },
  {
   "cell_type": "code",
   "execution_count": 21,
   "metadata": {},
   "outputs": [],
   "source": [
    "estimate_params =  {'region': rcode,'statisticgroups':2,'regressionregions':reg_codes,'configs':2}\n",
    "r = requests.get(estimate_url, data =estimate_params)\n",
    "estimate = r.json()\n",
    "#estimate"
   ]
  },
  {
   "cell_type": "code",
   "execution_count": null,
   "metadata": {},
   "outputs": [],
   "source": [
    "#use_codes.keys()"
   ]
  },
  {
   "cell_type": "code",
   "execution_count": 22,
   "metadata": {},
   "outputs": [],
   "source": [
    "est = json.loads(r.content.decode())\n",
    "for regregion in est[0]['RegressionRegions']:\n",
    "    for p in regregion['Parameters']:\n",
    "        if p['Code'] in use_codes.keys():\n",
    "            p['Value'] = use_codes[p['Code']]\n",
    "            #print(p['Code'], p['Value'], use_codes[p['Code']] )\n",
    "#print(\"updated est\")"
   ]
  },
  {
   "cell_type": "code",
   "execution_count": 23,
   "metadata": {},
   "outputs": [],
   "source": [
    "payload = dict()\n",
    "payload[\"Links\"] = [{\"rel\": \"self\",\n",
    "        \"Href\": Href_url,\n",
    "        \"method\": \"GET\"}] \n",
    "\n",
    "#payload"
   ]
  },
  {
   "cell_type": "code",
   "execution_count": 24,
   "metadata": {},
   "outputs": [],
   "source": [
    "for k, v in stats_groups.items():\n",
    "    payload[k] = v\n",
    "    \n",
    "payload['StatisticGroupID'] = stats_group\n",
    "#payload"
   ]
  },
  {
   "cell_type": "code",
   "execution_count": 25,
   "metadata": {},
   "outputs": [],
   "source": [
    "rr_list=[]\n",
    "for rr in est[0]['RegressionRegions']:\n",
    "    reg_code = rr['Code']\n",
    "    if reg_code.lower() in reg_codes:\n",
    "        #print(rr['Code'])\n",
    "        rr_list.append(rr)\n",
    "        rr['PercentWeight']=rr_weight[reg_code.lower()]\n",
    "        \n",
    "payload['RegressionRegions'] = rr_list"
   ]
  },
  {
   "cell_type": "code",
   "execution_count": 26,
   "metadata": {},
   "outputs": [
    {
     "data": {
      "text/plain": [
       "[{'StatisticGroupID': 2,\n",
       "  'RegressionRegions': [{'ID': 256,\n",
       "    'Name': 'Peak_Western_Coastal_Plain_2010_AHMMD',\n",
       "    'Code': 'GC1479',\n",
       "    'PercentWeight': 71.15778149903338,\n",
       "    'Parameters': [{'ID': 5396,\n",
       "      'Name': 'Drainage Area',\n",
       "      'Description': 'Area that drains to a point on a stream',\n",
       "      'Code': 'DRNAREA',\n",
       "      'UnitType': {'ID': 0, 'Unit': 'square miles', 'Abbr': 'mi^2'},\n",
       "      'Value': 73.9,\n",
       "      'Limits': {'Max': 349.6, 'Min': 0.41}},\n",
       "     {'ID': 5397,\n",
       "      'Name': 'Percent SSURGO Soil Type C or D',\n",
       "      'Description': 'Percentage of area of Hydrologic Soil Type C or D from SSURGO',\n",
       "      'Code': 'SOILCorD',\n",
       "      'UnitType': {'ID': 0, 'Unit': 'percent', 'Abbr': '%'},\n",
       "      'Value': 65.9,\n",
       "      'Limits': {'Max': 74.7, 'Min': 13.0}},\n",
       "     {'ID': 5398,\n",
       "      'Name': 'Percent Impervious',\n",
       "      'Description': 'Percentage of impervious area',\n",
       "      'Code': 'IMPERV',\n",
       "      'UnitType': {'ID': 0, 'Unit': 'percent', 'Abbr': '%'},\n",
       "      'Value': 28.6,\n",
       "      'Limits': {'Max': 36.8, 'Min': 0.0}}],\n",
       "    'Results': [{'EquivalentYears': 3.6,\n",
       "      'Name': '1.25 Year Peak Flood',\n",
       "      'code': 'PK1_25',\n",
       "      'Description': 'Maximum instantaneous flow that occurs on average once in 1.25 years',\n",
       "      'Value': 2132.69546948812,\n",
       "      'Errors': [],\n",
       "      'Unit': {'ID': 0, 'Unit': 'cubic feet per second', 'Abbr': 'ft^3/s'},\n",
       "      'Equation': '5.18*DRNAREA^0.694*(IMPERV+1)^(0.382)*(SOILCorD+1)^(0.414)'},\n",
       "     {'EquivalentYears': 3.6,\n",
       "      'Name': '1.5 Year Peak Flood',\n",
       "      'code': 'PK1_5',\n",
       "      'Description': 'Maximum instantaneous flow that occurs on average once in 1.5 years',\n",
       "      'Value': 2727.73059983133,\n",
       "      'Errors': [],\n",
       "      'Unit': {'ID': 0, 'Unit': 'cubic feet per second', 'Abbr': 'ft^3/s'},\n",
       "      'Equation': '6.73*DRNAREA^0.682*(IMPERV+1)^(0.374)*(SOILCorD+1)^(0.429)'},\n",
       "     {'EquivalentYears': 4.6,\n",
       "      'Name': '2 Year Peak Flood',\n",
       "      'code': 'PK2',\n",
       "      'Description': 'Maximum instantaneous flow that occurs on average once in 2 years',\n",
       "      'Value': 3531.917831423,\n",
       "      'Errors': [],\n",
       "      'Unit': {'ID': 0, 'Unit': 'cubic feet per second', 'Abbr': 'ft^3/s'},\n",
       "      'Equation': '7.61*DRNAREA^0.678*(IMPERV+1)^(0.362)*(SOILCorD+1)^(0.475)'},\n",
       "     {'EquivalentYears': 6.7,\n",
       "      'Name': '5 Year Peak Flood',\n",
       "      'code': 'PK5',\n",
       "      'Description': 'Maximum instantaneous flow that occurs on average once in 5 years',\n",
       "      'Value': 6422.04332151542,\n",
       "      'Errors': [],\n",
       "      'Unit': {'ID': 0, 'Unit': 'cubic feet per second', 'Abbr': 'ft^3/s'},\n",
       "      'Equation': '10.5*DRNAREA^0.665*(IMPERV+1)^(0.290)*(SOILCorD+1)^(0.612)'},\n",
       "     {'EquivalentYears': 8.2,\n",
       "      'Name': '10 Year Peak Flood',\n",
       "      'code': 'PK10',\n",
       "      'Description': 'Maximum instantaneous flow that occurs on average once in 10 years',\n",
       "      'Value': 9035.55739001725,\n",
       "      'Errors': [],\n",
       "      'Unit': {'ID': 0, 'Unit': 'cubic feet per second', 'Abbr': 'ft^3/s'},\n",
       "      'Equation': '13.1*DRNAREA^0.653*(IMPERV+1)^(0.270)*(SOILCorD+1)^(0.669)'},\n",
       "     {'EquivalentYears': 10.0,\n",
       "      'Name': '25 Year Peak Flood',\n",
       "      'code': 'PK25',\n",
       "      'Description': 'Maximum instantaneous flow that occurs on average once in 25 years',\n",
       "      'Value': 13448.1025753414,\n",
       "      'Errors': [],\n",
       "      'Unit': {'ID': 0, 'Unit': 'cubic feet per second', 'Abbr': 'ft^3/s'},\n",
       "      'Equation': '17.5*DRNAREA^0.634*(IMPERV+1)^(0.264)*(SOILCorD+1)^(0.719)'},\n",
       "     {'EquivalentYears': 11.0,\n",
       "      'Name': '50 Year Peak Flood',\n",
       "      'code': 'PK50',\n",
       "      'Description': 'Maximum instantaneous flow that occurs on average once in 50 years',\n",
       "      'Value': 17563.4080593256,\n",
       "      'Errors': [],\n",
       "      'Unit': {'ID': 0, 'Unit': 'cubic feet per second', 'Abbr': 'ft^3/s'},\n",
       "      'Equation': '21.2*DRNAREA^0.621*(IMPERV+1)^(0.263)*(SOILCorD+1)^(0.751)'},\n",
       "     {'EquivalentYears': 11.0,\n",
       "      'Name': '100 Year Peak Flood',\n",
       "      'code': 'PK100',\n",
       "      'Description': 'Maximum instantaneous flow that occurs on average once in 100 years',\n",
       "      'Value': 22673.1577741396,\n",
       "      'Errors': [],\n",
       "      'Unit': {'ID': 0, 'Unit': 'cubic feet per second', 'Abbr': 'ft^3/s'},\n",
       "      'Equation': '25.6*DRNAREA^0.608*(IMPERV+1)^(0.262)*(SOILCorD+1)^(0.781)'},\n",
       "     {'EquivalentYears': 10.0,\n",
       "      'Name': '200 Year Peak Flood',\n",
       "      'code': 'PK200',\n",
       "      'Description': 'Maximum instantaneous flow that occurs on average once in 200 years',\n",
       "      'Value': 29124.9419779938,\n",
       "      'Errors': [],\n",
       "      'Unit': {'ID': 0, 'Unit': 'cubic feet per second', 'Abbr': 'ft^3/s'},\n",
       "      'Equation': '30.5*DRNAREA^0.596*(IMPERV+1)^(0.261)*(SOILCorD+1)^(0.812)'},\n",
       "     {'EquivalentYears': 10.0,\n",
       "      'Name': '500 Year Peak Flood',\n",
       "      'code': 'PK500',\n",
       "      'Description': 'Maximum instantaneous flow that occurs on average once in 500 years',\n",
       "      'Value': 39298.7059910114,\n",
       "      'Errors': [],\n",
       "      'Unit': {'ID': 0, 'Unit': 'cubic feet per second', 'Abbr': 'ft^3/s'},\n",
       "      'Equation': '37.9*DRNAREA^0.579*(IMPERV+1)^(0.261)*(SOILCorD+1)^(0.849)'}],\n",
       "    'Extensions': []},\n",
       "   {'ID': 257,\n",
       "    'Name': 'Peak_Piedmont_and_BlueRidge_Rural_2010_AHMMD',\n",
       "    'Code': 'GC1480',\n",
       "    'PercentWeight': 28.842218502961664,\n",
       "    'Parameters': [{'ID': 5426,\n",
       "      'Name': 'Drainage Area',\n",
       "      'Description': 'Area that drains to a point on a stream',\n",
       "      'Code': 'DRNAREA',\n",
       "      'UnitType': {'ID': 0, 'Unit': 'square miles', 'Abbr': 'mi^2'},\n",
       "      'Value': 73.9,\n",
       "      'Limits': {'Max': 820.0, 'Min': 0.11}},\n",
       "     {'ID': 5427,\n",
       "      'Name': 'Percent Limestone',\n",
       "      'Description': 'Percentage of area of limestone geology',\n",
       "      'Code': 'LIME',\n",
       "      'UnitType': {'ID': 0, 'Unit': 'percent', 'Abbr': '%'},\n",
       "      'Value': 0.0,\n",
       "      'Limits': {'Max': 81.7, 'Min': 0.0}},\n",
       "     {'ID': 5428,\n",
       "      'Name': 'Percent forest from MD 2010 land use',\n",
       "      'Description': 'Percent forest from Maryland 2010 land-use data',\n",
       "      'Code': 'FOREST_MD',\n",
       "      'UnitType': {'ID': 0, 'Unit': 'percent', 'Abbr': '%'},\n",
       "      'Value': 28.6,\n",
       "      'Limits': {'Max': 100.0, 'Min': 2.7}}],\n",
       "    'Results': [{'EquivalentYears': 2.8,\n",
       "      'Name': '1.25 Year Peak Flood',\n",
       "      'code': 'PK1_25',\n",
       "      'Description': 'Maximum instantaneous flow that occurs on average once in 1.25 years',\n",
       "      'Value': 1946.99148686896,\n",
       "      'Errors': [],\n",
       "      'Unit': {'ID': 0, 'Unit': 'cubic feet per second', 'Abbr': 'ft^3/s'},\n",
       "      'Equation': '287.1*DRNAREA^0.774*(LIME+1)^(-0.118)*(FOREST_MD+1)^(-0.418)'},\n",
       "     {'EquivalentYears': 3.1,\n",
       "      'Name': '1.5 Year Peak Flood',\n",
       "      'code': 'PK1_5',\n",
       "      'Description': 'Maximum instantaneous flow that occurs on average once in 1.5 years',\n",
       "      'Value': 2538.96115876539,\n",
       "      'Errors': [],\n",
       "      'Unit': {'ID': 0, 'Unit': 'cubic feet per second', 'Abbr': 'ft^3/s'},\n",
       "      'Equation': '327.3*DRNAREA^0.758*(LIME+1)^(-0.121)*(FOREST_MD+1)^(-0.358)'},\n",
       "     {'EquivalentYears': 3.7,\n",
       "      'Name': '2 Year Peak Flood',\n",
       "      'code': 'PK2',\n",
       "      'Description': 'Maximum instantaneous flow that occurs on average once in 2 years',\n",
       "      'Value': 3152.20946372542,\n",
       "      'Errors': [],\n",
       "      'Unit': {'ID': 0, 'Unit': 'cubic feet per second', 'Abbr': 'ft^3/s'},\n",
       "      'Equation': '396.9*DRNAREA^0.743*(LIME+1)^(-0.124)*(FOREST_MD+1)^(-0.332)'},\n",
       "     {'EquivalentYears': 9.0,\n",
       "      'Name': '5 Year Peak Flood',\n",
       "      'code': 'PK5',\n",
       "      'Description': 'Maximum instantaneous flow that occurs on average once in 5 years',\n",
       "      'Value': 5512.98166650528,\n",
       "      'Errors': [],\n",
       "      'Unit': {'ID': 0, 'Unit': 'cubic feet per second', 'Abbr': 'ft^3/s'},\n",
       "      'Equation': '592.5*DRNAREA^0.705*(LIME+1)^(-0.133)*(FOREST_MD+1)^(-0.237)'},\n",
       "     {'EquivalentYears': 14.0,\n",
       "      'Name': '10 Year Peak Flood',\n",
       "      'code': 'PK10',\n",
       "      'Description': 'Maximum instantaneous flow that occurs on average once in 10 years',\n",
       "      'Value': 7600.93267571208,\n",
       "      'Errors': [],\n",
       "      'Unit': {'ID': 0, 'Unit': 'cubic feet per second', 'Abbr': 'ft^3/s'},\n",
       "      'Equation': '751.1*DRNAREA^0.682*(LIME+1)^(-0.138)*(FOREST_MD+1)^(-0.183)'},\n",
       "     {'EquivalentYears': 20.0,\n",
       "      'Name': '25 Year Peak Flood',\n",
       "      'code': 'PK25',\n",
       "      'Description': 'Maximum instantaneous flow that occurs on average once in 25 years',\n",
       "      'Value': 11033.768222009,\n",
       "      'Errors': [],\n",
       "      'Unit': {'ID': 0, 'Unit': 'cubic feet per second', 'Abbr': 'ft^3/s'},\n",
       "      'Equation': '996*DRNAREA^0.655*(LIME+1)^(-0.145)*(FOREST_MD+1)^(-0.122)'},\n",
       "     {'EquivalentYears': 23.0,\n",
       "      'Name': '50 Year Peak Flood',\n",
       "      'code': 'PK50',\n",
       "      'Description': 'Maximum instantaneous flow that occurs on average once in 50 years',\n",
       "      'Value': 14186.5157197186,\n",
       "      'Errors': [],\n",
       "      'Unit': {'ID': 0, 'Unit': 'cubic feet per second', 'Abbr': 'ft^3/s'},\n",
       "      'Equation': '1218.8*DRNAREA^0.635*(LIME+1)^(-0.150)*(FOREST_MD+1)^(-0.082)'},\n",
       "     {'EquivalentYears': 24.0,\n",
       "      'Name': '100 Year Peak Flood',\n",
       "      'code': 'PK100',\n",
       "      'Description': 'Maximum instantaneous flow that occurs on average once in 100 years',\n",
       "      'Value': 17963.3646898787,\n",
       "      'Errors': [],\n",
       "      'Unit': {'ID': 0, 'Unit': 'cubic feet per second', 'Abbr': 'ft^3/s'},\n",
       "      'Equation': '1471.1*DRNAREA^0.617*(LIME+1)^(-0.154)*(FOREST_MD+1)^(-0.045)'},\n",
       "     {'EquivalentYears': 25.0,\n",
       "      'Name': '200 Year Peak Flood',\n",
       "      'code': 'PK200',\n",
       "      'Description': 'Maximum instantaneous flow that occurs on average once in 200 years',\n",
       "      'Value': 22575.1373798522,\n",
       "      'Errors': [],\n",
       "      'Unit': {'ID': 0, 'Unit': 'cubic feet per second', 'Abbr': 'ft^3/s'},\n",
       "      'Equation': '1760.7*DRNAREA^0.600*(LIME+1)^(-0.159)*(FOREST_MD+1)^(-0.009)'},\n",
       "     {'EquivalentYears': 25.0,\n",
       "      'Name': '500 Year Peak Flood',\n",
       "      'code': 'PK500',\n",
       "      'Description': 'Maximum instantaneous flow that occurs on average once in 500 years',\n",
       "      'Value': 29864.4968474546,\n",
       "      'Errors': [],\n",
       "      'Unit': {'ID': 0, 'Unit': 'cubic feet per second', 'Abbr': 'ft^3/s'},\n",
       "      'Equation': '2215.4*DRNAREA^0.577*(LIME+1)^(-0.165)*(FOREST_MD+1)^(0.035)'}],\n",
       "    'Extensions': []},\n",
       "   {'ID': 0,\n",
       "    'Name': 'Area-Averaged',\n",
       "    'Code': 'areaave',\n",
       "    'Results': [{'EquivalentYears': 6.4,\n",
       "      'Name': '1.25 Year Peak Flood',\n",
       "      'code': 'PK1_25',\n",
       "      'Description': 'Maximum instantaneous flow that occurs on average once in 1.25 years',\n",
       "      'Value': 2079.134321094948,\n",
       "      'Unit': {'ID': 0, 'Unit': 'cubic feet per second', 'Abbr': 'ft^3/s'},\n",
       "      'Equation': 'Weighted Average'},\n",
       "     {'EquivalentYears': 6.7,\n",
       "      'Name': '1.5 Year Peak Flood',\n",
       "      'code': 'PK1_5',\n",
       "      'Description': 'Maximum instantaneous flow that occurs on average once in 1.5 years',\n",
       "      'Value': 2673.2853052266914,\n",
       "      'Unit': {'ID': 0, 'Unit': 'cubic feet per second', 'Abbr': 'ft^3/s'},\n",
       "      'Equation': 'Weighted Average'},\n",
       "     {'EquivalentYears': 8.3,\n",
       "      'Name': '2 Year Peak Flood',\n",
       "      'code': 'PK2',\n",
       "      'Description': 'Maximum instantaneous flow that occurs on average once in 2 years',\n",
       "      'Value': 3422.4015144080977,\n",
       "      'Unit': {'ID': 0, 'Unit': 'cubic feet per second', 'Abbr': 'ft^3/s'},\n",
       "      'Equation': 'Weighted Average'},\n",
       "     {'EquivalentYears': 15.7,\n",
       "      'Name': '5 Year Peak Flood',\n",
       "      'code': 'PK5',\n",
       "      'Description': 'Maximum instantaneous flow that occurs on average once in 5 years',\n",
       "      'Value': 6159.849772778878,\n",
       "      'Unit': {'ID': 0, 'Unit': 'cubic feet per second', 'Abbr': 'ft^3/s'},\n",
       "      'Equation': 'Weighted Average'},\n",
       "     {'EquivalentYears': 22.2,\n",
       "      'Name': '10 Year Peak Flood',\n",
       "      'code': 'PK10',\n",
       "      'Description': 'Maximum instantaneous flow that occurs on average once in 10 years',\n",
       "      'Value': 8621.779795400125,\n",
       "      'Unit': {'ID': 0, 'Unit': 'cubic feet per second', 'Abbr': 'ft^3/s'},\n",
       "      'Equation': 'Weighted Average'},\n",
       "     {'EquivalentYears': 30.0,\n",
       "      'Name': '25 Year Peak Flood',\n",
       "      'code': 'PK25',\n",
       "      'Description': 'Maximum instantaneous flow that occurs on average once in 25 years',\n",
       "      'Value': 12751.754986029497,\n",
       "      'Unit': {'ID': 0, 'Unit': 'cubic feet per second', 'Abbr': 'ft^3/s'},\n",
       "      'Equation': 'Weighted Average'},\n",
       "     {'EquivalentYears': 34.0,\n",
       "      'Name': '50 Year Peak Flood',\n",
       "      'code': 'PK50',\n",
       "      'Description': 'Maximum instantaneous flow that occurs on average once in 50 years',\n",
       "      'Value': 16589.43739247677,\n",
       "      'Unit': {'ID': 0, 'Unit': 'cubic feet per second', 'Abbr': 'ft^3/s'},\n",
       "      'Equation': 'Weighted Average'},\n",
       "     {'EquivalentYears': 35.0,\n",
       "      'Name': '100 Year Peak Flood',\n",
       "      'code': 'PK100',\n",
       "      'Description': 'Maximum instantaneous flow that occurs on average once in 100 years',\n",
       "      'Value': 21314.748962192032,\n",
       "      'Unit': {'ID': 0, 'Unit': 'cubic feet per second', 'Abbr': 'ft^3/s'},\n",
       "      'Equation': 'Weighted Average'},\n",
       "     {'EquivalentYears': 35.0,\n",
       "      'Name': '200 Year Peak Flood',\n",
       "      'code': 'PK200',\n",
       "      'Description': 'Maximum instantaneous flow that occurs on average once in 200 years',\n",
       "      'Value': 27235.833024861822,\n",
       "      'Unit': {'ID': 0, 'Unit': 'cubic feet per second', 'Abbr': 'ft^3/s'},\n",
       "      'Equation': 'Weighted Average'},\n",
       "     {'EquivalentYears': 35.0,\n",
       "      'Name': '500 Year Peak Flood',\n",
       "      'code': 'PK500',\n",
       "      'Description': 'Maximum instantaneous flow that occurs on average once in 500 years',\n",
       "      'Value': 36577.67077658438,\n",
       "      'Unit': {'ID': 0, 'Unit': 'cubic feet per second', 'Abbr': 'ft^3/s'},\n",
       "      'Equation': 'Weighted Average'}]}],\n",
       "  'Links': [{'rel': 'citations',\n",
       "    'Href': 'https://streamstats.usgs.gov/nssservices/citations?regressionregions=256,257,0',\n",
       "    'method': 'GET'}]}]"
      ]
     },
     "execution_count": 26,
     "metadata": {},
     "output_type": "execute_result"
    }
   ],
   "source": [
    "peak_flow_url = f\"https://streamstats.usgs.gov/nssservices/scenarios/estimate.json?region={rcode}&statisticgroups={stats_group}&regressionregions={reg_codes}&configs={configs}\"\n",
    "r = requests.post(peak_flow_url, json=json.loads(json.dumps([payload])))\n",
    "r.json()"
   ]
  },
  {
   "cell_type": "markdown",
   "metadata": {},
   "source": [
    "# END"
   ]
  }
 ],
 "metadata": {
  "kernelspec": {
   "display_name": "rasters",
   "language": "python",
   "name": "rasters"
  },
  "language_info": {
   "codemirror_mode": {
    "name": "ipython",
    "version": 3
   },
   "file_extension": ".py",
   "mimetype": "text/x-python",
   "name": "python",
   "nbconvert_exporter": "python",
   "pygments_lexer": "ipython3",
   "version": "3.6.7"
  }
 },
 "nbformat": 4,
 "nbformat_minor": 2
}
