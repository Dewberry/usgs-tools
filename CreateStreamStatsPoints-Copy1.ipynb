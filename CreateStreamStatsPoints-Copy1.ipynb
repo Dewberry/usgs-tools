{
 "cells": [
  {
   "cell_type": "markdown",
   "metadata": {},
   "source": [
    "## Create Points for StreamStats\n",
    "\n",
    "__Description__:\n",
    "\n",
    "__Input__:\n",
    "\n",
    "__Output__:\n",
    "\n",
    "\n",
    "*Authors*: sputnam@Dewberry.com & slawler@Dewberry.com"
   ]
  },
  {
   "cell_type": "markdown",
   "metadata": {},
   "source": [
    "#### Load libraries and Python options:"
   ]
  },
  {
   "cell_type": "code",
   "execution_count": 1,
   "metadata": {},
   "outputs": [],
   "source": [
    "import os\n",
    "import collections \n",
    "import pandas as pd\n",
    "import numpy as np\n",
    "import geopandas as gpd\n",
    "from osgeo import gdal, ogr,osr\n",
    "from shapely.geometry import Point\n",
    "from StreamStats_Points import*"
   ]
  },
  {
   "cell_type": "markdown",
   "metadata": {},
   "source": [
    "#### Load the masked stream grid:"
   ]
  },
  {
   "cell_type": "code",
   "execution_count": 2,
   "metadata": {},
   "outputs": [],
   "source": [
    "in_tif=r'C:\\Users\\sputnam\\Documents\\GitHub\\usgs-tools\\results\\rock_creek_clip.tif' #Load the stream grid raster which was masked by the catchment polygon"
   ]
  },
  {
   "cell_type": "code",
   "execution_count": 3,
   "metadata": {},
   "outputs": [
    {
     "name": "stdout",
     "output_type": "stream",
     "text": [
      "epsg: 5070\n"
     ]
    }
   ],
   "source": [
    "sg = StreamGrid(in_tif) #Open the stream grid raster and create an object\n",
    "\n",
    "crs=sg.crs_value() #Extract the coordinate reference system value (epsg) for the raster\n",
    "print(\"epsg:\",crs) #Print the value"
   ]
  },
  {
   "cell_type": "code",
   "execution_count": 4,
   "metadata": {},
   "outputs": [
    {
     "data": {
      "text/html": [
       "<div>\n",
       "<style scoped>\n",
       "    .dataframe tbody tr th:only-of-type {\n",
       "        vertical-align: middle;\n",
       "    }\n",
       "\n",
       "    .dataframe tbody tr th {\n",
       "        vertical-align: top;\n",
       "    }\n",
       "\n",
       "    .dataframe thead th {\n",
       "        text-align: right;\n",
       "    }\n",
       "</style>\n",
       "<table border=\"1\" class=\"dataframe\">\n",
       "  <thead>\n",
       "    <tr style=\"text-align: right;\">\n",
       "      <th></th>\n",
       "      <th>0</th>\n",
       "      <th>1</th>\n",
       "      <th>2</th>\n",
       "      <th>3</th>\n",
       "      <th>4</th>\n",
       "      <th>5</th>\n",
       "      <th>6</th>\n",
       "      <th>7</th>\n",
       "      <th>8</th>\n",
       "      <th>9</th>\n",
       "      <th>...</th>\n",
       "      <th>1205</th>\n",
       "      <th>1206</th>\n",
       "      <th>1207</th>\n",
       "      <th>1208</th>\n",
       "      <th>1209</th>\n",
       "      <th>1210</th>\n",
       "      <th>1211</th>\n",
       "      <th>1212</th>\n",
       "      <th>1213</th>\n",
       "      <th>1214</th>\n",
       "    </tr>\n",
       "  </thead>\n",
       "  <tbody>\n",
       "    <tr>\n",
       "      <th>0</th>\n",
       "      <td>0</td>\n",
       "      <td>0</td>\n",
       "      <td>0</td>\n",
       "      <td>0</td>\n",
       "      <td>0</td>\n",
       "      <td>0</td>\n",
       "      <td>0</td>\n",
       "      <td>0</td>\n",
       "      <td>0</td>\n",
       "      <td>0</td>\n",
       "      <td>...</td>\n",
       "      <td>0</td>\n",
       "      <td>0</td>\n",
       "      <td>0</td>\n",
       "      <td>0</td>\n",
       "      <td>0</td>\n",
       "      <td>0</td>\n",
       "      <td>0</td>\n",
       "      <td>0</td>\n",
       "      <td>0</td>\n",
       "      <td>0</td>\n",
       "    </tr>\n",
       "    <tr>\n",
       "      <th>1</th>\n",
       "      <td>0</td>\n",
       "      <td>0</td>\n",
       "      <td>0</td>\n",
       "      <td>0</td>\n",
       "      <td>0</td>\n",
       "      <td>0</td>\n",
       "      <td>0</td>\n",
       "      <td>0</td>\n",
       "      <td>0</td>\n",
       "      <td>0</td>\n",
       "      <td>...</td>\n",
       "      <td>0</td>\n",
       "      <td>0</td>\n",
       "      <td>0</td>\n",
       "      <td>0</td>\n",
       "      <td>0</td>\n",
       "      <td>0</td>\n",
       "      <td>0</td>\n",
       "      <td>0</td>\n",
       "      <td>0</td>\n",
       "      <td>0</td>\n",
       "    </tr>\n",
       "  </tbody>\n",
       "</table>\n",
       "<p>2 rows × 1215 columns</p>\n",
       "</div>"
      ],
      "text/plain": [
       "   0     1     2     3     4     5     6     7     8     9     ...   1205  \\\n",
       "0     0     0     0     0     0     0     0     0     0     0  ...      0   \n",
       "1     0     0     0     0     0     0     0     0     0     0  ...      0   \n",
       "\n",
       "   1206  1207  1208  1209  1210  1211  1212  1213  1214  \n",
       "0     0     0     0     0     0     0     0     0     0  \n",
       "1     0     0     0     0     0     0     0     0     0  \n",
       "\n",
       "[2 rows x 1215 columns]"
      ]
     },
     "execution_count": 4,
     "metadata": {},
     "output_type": "execute_result"
    }
   ],
   "source": [
    "df = sg.dataframe() #Create a dataframe from the stream grid data\n",
    "df.replace(255, 0, inplace=True) #Replace 255 with 0, where 255 corresponds to the non-stream cells\n",
    "df.head(n=2) "
   ]
  },
  {
   "cell_type": "markdown",
   "metadata": {},
   "source": [
    "### Specify the pour point to set the start location of the search:"
   ]
  },
  {
   "cell_type": "code",
   "execution_count": 5,
   "metadata": {},
   "outputs": [],
   "source": [
    "lat=1925315.186 #latitude of the pourpoint at the catchment outlet\n",
    "lon=1616784.964 #longitude of the pourpoint"
   ]
  },
  {
   "cell_type": "code",
   "execution_count": 6,
   "metadata": {},
   "outputs": [
    {
     "name": "stdout",
     "output_type": "stream",
     "text": [
      "[(877, 1848)]\n"
     ]
    }
   ],
   "source": [
    "pix_x, pix_y =coord2index(sg, lat, lon) #Transform the lat and lon values to the row/column location with the stream grid dataframe\n",
    "pourpoint=[(pix_x, pix_y)] #Add these values to a list as a touple\n",
    "print(pourpoint)"
   ]
  },
  {
   "cell_type": "code",
   "execution_count": 7,
   "metadata": {},
   "outputs": [
    {
     "name": "stdout",
     "output_type": "stream",
     "text": [
      "The Cell Size: 10.0\n"
     ]
    }
   ],
   "source": [
    "cellsize=sg.cell_size()\n",
    "print(\"The Cell Size:\",cellsize)"
   ]
  },
  {
   "cell_type": "markdown",
   "metadata": {},
   "source": [
    "### Move up the stream and identify the confluences:"
   ]
  },
  {
   "cell_type": "code",
   "execution_count": 8,
   "metadata": {},
   "outputs": [],
   "source": [
    "def MoveUpstream(df, stream_cell, nogo):\n",
    "    \"\"\"This function searches the 8 cells surrounding it to determine the location of the next stream cell(s).\n",
    "        Arguments: df=the dataframe containing the stream raster data, stream_cell=the current stream cell that will be used to search for the next stream cell,\n",
    "        nogo=list of stream cells that do not want to return as a new stream cell\n",
    "    \"\"\"\n",
    "    row=stream_cell[0] #Extract the raster row \n",
    "    col=stream_cell[1] #Extract the raster column\n",
    "    \n",
    "    cell_value= df[row][col] #Determine the value of the cell\n",
    "    assert cell_value == 1, \"The provided cell in MoveUpstream is not a stream cell\" #The value of the cell must be equal to the value associated with a stream cell\n",
    "    \n",
    "    nogo.append((row,col))   \n",
    "\n",
    "    stream_cell=[]\n",
    "    \n",
    "    for i in range(-1,2): #For -1, 0, 1 in the vertical direction (move up and down rows)\n",
    "        for j in range(-1,2): #For -1, 0, 1 in the horizontal direction (move across columns)\n",
    "            value = df[row + i][col+j] #Read value of raster cell\n",
    "            if value == 0: # if value is zero, no stream in this cell\n",
    "                continue #loop back\n",
    "            elif value==1 and (row+i,col+j) not in nogo: # if value is 1 and the cell is not in the nogo list, then...\n",
    "                stream_cell.append((row + i,col+j)) #Add the new cell or cells to the stream_cell list\n",
    "    return stream_cell, nogo    "
   ]
  },
  {
   "cell_type": "code",
   "execution_count": 9,
   "metadata": {},
   "outputs": [],
   "source": [
    "def FindConfluence(df, stream_cell, nogo, mainstem, dis, DisExl): #Keep moving upstream until you find a confluence--problem: might hit a dead end, maybe add an else if it is the end?\n",
    "    \"\"\"Function which repeates the MoveUpstream function until it finds two or more stream cells surrounding the provided stream_cell, indicating a confluence\n",
    "    \"\"\"\n",
    "    while len(stream_cell)==1: #While there is only 1 stream cell returned as we move up stream, keep moving up stream\n",
    "        cell1=stream_cell[0]\n",
    "        stream_cell, nogo=MoveUpstream(df, stream_cell[0], nogo)\n",
    "        \n",
    "        if len(stream_cell)>=1:\n",
    "            cell2=stream_cell[0]\n",
    "        else:\n",
    "            cell2=cell1\n",
    "            \n",
    "        cell_dis=TrueDistance(cell1, cell2, cellsize)\n",
    "        dis=dis+cell_dis\n",
    "        if len(stream_cell)!=0:\n",
    "            dis_lower=dis/DisExl-10.0/DisExl\n",
    "            dis_upper=dis/DisExl+10.0/DisExl  \n",
    "            if dis_lower<=int(dis/DisExl)<=dis_upper:\n",
    "                mainstem.append(stream_cell[0])\n",
    "    if len(stream_cell)>1: #If the number of stream cells \n",
    "        nogo=list(set(nogo+stream_cell))\n",
    "        \n",
    "    return stream_cell, nogo, mainstem, dis"
   ]
  },
  {
   "cell_type": "code",
   "execution_count": 10,
   "metadata": {},
   "outputs": [],
   "source": [
    "def CheckTribDis(stream_cell, nogo, DisExl):\n",
    "    \"\"\"\n",
    "    \"\"\"\n",
    "    nogo_temp=nogo.copy()\n",
    "    mainstem_temp=[]\n",
    "    remove=[]\n",
    "\n",
    "    for cell in stream_cell:\n",
    "        dis_temp=0.0\n",
    "        stream_cell1, nogo_temp, mainstem_temp, dis_temp=FindConfluence(df, [cell], nogo_temp, mainstem_temp, dis_temp, DisExl)\n",
    "        if len(stream_cell1)==0 and dis_temp<DisExl:\n",
    "            remove.append(cell)\n",
    "    stream_cell=list(set(stream_cell) - set(remove))\n",
    "    return stream_cell"
   ]
  },
  {
   "cell_type": "code",
   "execution_count": 11,
   "metadata": {},
   "outputs": [],
   "source": [
    "def CheckConfluence(df, stream_cell, nogo, mainstem, dis, DisExl):\n",
    "    \"\"\"\n",
    "    \"\"\"\n",
    "    while len(stream_cell)==1:\n",
    "        stream_cell, nogo, mainstem, dis=FindConfluence(df, stream_cell, nogo, mainstem, dis, DisExl)\n",
    "        if len(stream_cell)>1:\n",
    "            stream_cell=CheckTribDis(stream_cell, nogo, DisExl)\n",
    "    return stream_cell, nogo, mainstem, dis"
   ]
  },
  {
   "cell_type": "code",
   "execution_count": 88,
   "metadata": {},
   "outputs": [],
   "source": [
    "nogo=[] #Empty list to store the nogo points, i.e. the stream cells we previously searched\n",
    "mainstem=[]\n",
    "Incl_Confl=[]\n",
    "dis=0.0\n",
    "\n",
    "#cnum=0 #The confluence ID, start it at zero\n",
    "#snum=0 #The confluence number at a specific ID, start it at zero\n",
    "#cellnum=(cnum,snum) #Combine the confluence ID and number into a signle touple\n",
    "\n",
    "#confl=collections.OrderedDict() #Create an empty ordered dictionary to store the confluence information\n",
    "#confl[cnum]={\"pts\":pourpoint,\"npts\":len(pourpoint)} #Add the pourpoint as a confluence to this ditionary, specifying the pourpoint as \"pts\" and the number of points as \"npts\"\n",
    "\n",
    "#confl3=[] #Empty list to store the confluence locations that are three cells from the original junction. \n",
    "\n",
    "DisExl=(5280/2.0)/3.28084"
   ]
  },
  {
   "cell_type": "code",
   "execution_count": 89,
   "metadata": {},
   "outputs": [],
   "source": [
    "stream_cell=pourpoint"
   ]
  },
  {
   "cell_type": "code",
   "execution_count": 90,
   "metadata": {},
   "outputs": [],
   "source": [
    "confl, nogo, mainstem, dis=CheckConfluence(df, stream_cell, nogo, mainstem, dis, DisExl)"
   ]
  },
  {
   "cell_type": "code",
   "execution_count": 86,
   "metadata": {},
   "outputs": [],
   "source": [
    "dis_confl=0.0\n",
    "next_confl={}\n",
    "\n",
    "for i in range(len(confl)):\n",
    "    stream_cell, nogo, mainstem, dis_confl=CheckConfluence(df, [confl[i]], nogo, mainstem, dis_confl, DisExl) \n",
    "    if len(stream_cell)==0 and dis_confl"
   ]
  },
  {
   "cell_type": "code",
   "execution_count": 86,
   "metadata": {},
   "outputs": [],
   "source": [
    "    next_confl[i]={'confl': stream_cell, 'dis':dis_confl}"
   ]
  },
  {
   "cell_type": "code",
   "execution_count": 74,
   "metadata": {},
   "outputs": [
    {
     "data": {
      "text/plain": [
       "{0: {'confl': [], 'dis': 872.5483399593904},\n",
       " 1: {'confl': [(848, 1632), (849, 1633)], 'dis': 464.5584412271571}}"
      ]
     },
     "execution_count": 74,
     "metadata": {},
     "output_type": "execute_result"
    }
   ],
   "source": [
    "next_confl"
   ]
  },
  {
   "cell_type": "code",
   "execution_count": 76,
   "metadata": {},
   "outputs": [
    {
     "name": "stdout",
     "output_type": "stream",
     "text": [
      "0\n",
      "1\n"
     ]
    }
   ],
   "source": [
    "for k in next_confl.keys():\n",
    "    if next_confl[k]['confl']==[] and next_confl[k]['dis']>=DisExl\n",
    "        Incl_Confl\n",
    "    "
   ]
  },
  {
   "cell_type": "code",
   "execution_count": 87,
   "metadata": {},
   "outputs": [
    {
     "data": {
      "text/plain": [
       "[(829, 1671), (830, 1669)]"
      ]
     },
     "execution_count": 87,
     "metadata": {},
     "output_type": "execute_result"
    }
   ],
   "source": [
    "confl"
   ]
  },
  {
   "cell_type": "code",
   "execution_count": null,
   "metadata": {},
   "outputs": [],
   "source": [
    "for k, v in a.items():\n",
    "    print(k,v)"
   ]
  },
  {
   "cell_type": "code",
   "execution_count": null,
   "metadata": {},
   "outputs": [],
   "source": []
  },
  {
   "cell_type": "code",
   "execution_count": null,
   "metadata": {},
   "outputs": [],
   "source": [
    "def NextConfluence(df, confl, cellnum, nogo):\n",
    "    \"\"\"\n",
    "    \"\"\"\n",
    "    stream_cell, nogo=MoveUpstream(df, confl[cellnum[0]]['pts'][cellnum[1]], nogo) #Move up one cell from the confluence\n",
    "    if len(stream_cell)==1:\n",
    "        stream_cell, nogo=MoveUpstream(df, stream_cell[0], nogo) #And move up one more time \n",
    "        if len(stream_cell)==1:\n",
    "            if 'confl' not in confl[cellnum[0]]: #Add the stream_cell that is located three up from the intial split point.\n",
    "                confl[cellnum[0]]['confl']=collections.OrderedDict()\n",
    "                confl[cellnum[0]]['confl'][stream_cell[0]]={}\n",
    "            else:\n",
    "                confl[cellnum[0]]['confl'][stream_cell[0]]={}\n",
    "            nextconfl, nogo, dis=FindConfluence(df, stream_cell, nogo) #Conf1 is empty if end \n",
    "            assert len(nextconfl)!=1, \"Expecting either a confluence or the end of a tributary\"\n",
    "            if len(nextconfl)>1:\n",
    "                confl[max(list(confl.keys()))+1]={'pts':nextconfl, 'npts':len(nextconfl)}\n",
    "                confl[cellnum[0]]['confl'][stream_cell[0]]['Trib']=0\n",
    "                confl[cellnum[0]]['confl'][stream_cell[0]]['Dis']=dis\n",
    "            elif len(nextconfl)==0:\n",
    "                confl[cellnum[0]]['confl'][stream_cell[0]]['Trib']=1\n",
    "                confl[cellnum[0]]['confl'][stream_cell[0]]['Dis']=dis\n",
    "        elif len(stream_cell)>1:\n",
    "            confl[cellnum[0]]['pts']=confl[cellnum[0]]['pts']+stream_cell\n",
    "            confl[cellnum[0]]['npts']=len(confl[cellnum[0]]['pts'])\n",
    "    elif len(stream_cell)>1:\n",
    "        confl[cellnum[0]]['pts']=confl[cellnum[0]]['pts']+stream_cell\n",
    "        confl[cellnum[0]]['npts']=len(confl[cellnum[0]]['pts'])\n",
    "    return confl, nogo    "
   ]
  },
  {
   "cell_type": "code",
   "execution_count": null,
   "metadata": {},
   "outputs": [],
   "source": [
    "l=len(confl.keys())-1 \n",
    "j=0\n",
    "while j<=l: \n",
    "    k=confl[j]['npts']-1 \n",
    "    i=0 \n",
    "    while i<=k: \n",
    "        confl, nogo=NextConfluence(df, confl, (j,i), nogo)\n",
    "        k=confl[j]['npts']-1 \n",
    "        i+=1 \n",
    "    l=len(confl.keys())-1 \n",
    "    j+=1 "
   ]
  },
  {
   "cell_type": "code",
   "execution_count": null,
   "metadata": {},
   "outputs": [],
   "source": [
    "ppoints=[] #Empty list to store the row and column of each confluence\n",
    "for i in range(len(confl.keys())):\n",
    "    ppoints=ppoints+confl[i]['pts']\n",
    "    \n",
    "confl3=[] #Empty list to store the row and column of each confluence point that is three cells away from the original junction\n",
    "\n",
    "for i in range(len(confl.keys())):\n",
    "    if 'confl' in confl[i]:    \n",
    "        if len(confl[i]['confl'])>1:\n",
    "            confl3=confl3+list(confl[i]['confl'].keys())"
   ]
  },
  {
   "cell_type": "code",
   "execution_count": null,
   "metadata": {},
   "outputs": [],
   "source": [
    "Trib=[] #Identified as a tributary if the stream cells has no confluence points\n",
    "\n",
    "for i in range(len(confl.keys())):\n",
    "    if 'confl' in confl[i]:    \n",
    "        if len(confl[i]['confl'])>0:\n",
    "            for j in list(confl[i]['confl'].keys()):\n",
    "                if confl[i]['confl'][j]['Trib']==1:  \n",
    "                    Trib=Trib+[(j)]"
   ]
  },
  {
   "cell_type": "code",
   "execution_count": null,
   "metadata": {},
   "outputs": [],
   "source": [
    "TribExl=[] # If the point is for a tributary and the distance is less than 1/2 mile, add it to an exlusion list\n",
    "\n",
    "\n",
    "for i in range(len(confl.keys())):\n",
    "    if 'confl' in confl[i]:    \n",
    "        if len(confl[i]['confl'])>0:\n",
    "            for j in list(confl[i]['confl'].keys()):\n",
    "                if confl[i]['confl'][j]['Trib']==1 and confl[i]['confl'][j]['Dis']<DisExl:\n",
    "                    TribExl=TribExl+[(j)]\n",
    "\n",
    "confl3select=[] #The list of non-excluded confluence points\n",
    "\n",
    "for i in range(len(confl3)):\n",
    "    if confl3[i] not in TribExl:\n",
    "        confl3select.append(confl3[i])                    "
   ]
  },
  {
   "cell_type": "code",
   "execution_count": null,
   "metadata": {},
   "outputs": [],
   "source": [
    "len(confl3select)"
   ]
  },
  {
   "cell_type": "markdown",
   "metadata": {},
   "source": [
    "### Save the conflunces as a shapefile:"
   ]
  },
  {
   "cell_type": "code",
   "execution_count": null,
   "metadata": {},
   "outputs": [],
   "source": [
    "files=[ppoints,confl3, Trib, confl3select]\n",
    "names=['ppoints','confl3', 'Trib', 'confl3select']\n",
    "for i in range(len(files)):\n",
    "    longitude, latitude=index2coord(sg, files[i])\n",
    "    gdf=geodataframe(longitude, latitude, crs)\n",
    "    gdf.to_file(filename = r'C:\\Users\\sputnam\\Documents\\GitHub\\usgs-tools\\results\\%s.shp'%names[i])\n",
    "\n",
    "#gdf.head(2)"
   ]
  },
  {
   "cell_type": "code",
   "execution_count": null,
   "metadata": {},
   "outputs": [],
   "source": [
    "longitude, latitude=index2coord(sg, mainstem)\n",
    "gdf=geodataframe(longitude, latitude, crs)\n",
    "gdf.to_file(filename=r'C:\\Users\\sputnam\\Documents\\GitHub\\usgs-tools\\results\\mainstem.shp')"
   ]
  },
  {
   "cell_type": "code",
   "execution_count": 75,
   "metadata": {},
   "outputs": [
    {
     "name": "stdout",
     "output_type": "stream",
     "text": [
      "a 1\n",
      "b 2\n",
      "c 3\n"
     ]
    }
   ],
   "source": [
    "a = {'a':1, 'b':2, 'c':3}\n",
    "\n",
    "for k, v in a.items():\n",
    "    print(k,v)"
   ]
  },
  {
   "cell_type": "code",
   "execution_count": null,
   "metadata": {},
   "outputs": [],
   "source": []
  }
 ],
 "metadata": {
  "kernelspec": {
   "display_name": "Python 3",
   "language": "python",
   "name": "python3"
  },
  "language_info": {
   "codemirror_mode": {
    "name": "ipython",
    "version": 3
   },
   "file_extension": ".py",
   "mimetype": "text/x-python",
   "name": "python",
   "nbconvert_exporter": "python",
   "pygments_lexer": "ipython3",
   "version": "3.7.1"
  }
 },
 "nbformat": 4,
 "nbformat_minor": 2
}
