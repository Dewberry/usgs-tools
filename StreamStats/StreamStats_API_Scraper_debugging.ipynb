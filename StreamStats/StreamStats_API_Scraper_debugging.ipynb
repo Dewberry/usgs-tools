{
 "cells": [
  {
   "cell_type": "markdown",
   "metadata": {},
   "source": [
    "# StreamStats API Scraper\n",
    "\n",
    "#### Development Notebook"
   ]
  },
  {
   "cell_type": "code",
   "execution_count": 28,
   "metadata": {},
   "outputs": [],
   "source": [
    "import json\n",
    "import requests"
   ]
  },
  {
   "cell_type": "code",
   "execution_count": 29,
   "metadata": {},
   "outputs": [],
   "source": [
    "rcode='NY'\n",
    "xlocation= -74.57267408040926 \n",
    "ylocation=  44.93991892773472\n",
    "crs=4326\n",
    "stats_group=2\n",
    "configs=2"
   ]
  },
  {
   "cell_type": "markdown",
   "metadata": {},
   "source": [
    "#### Assign Location & Stats Group (2=Peakflow)"
   ]
  },
  {
   "cell_type": "markdown",
   "metadata": {},
   "source": [
    "#### URL Strings"
   ]
  },
  {
   "cell_type": "code",
   "execution_count": 30,
   "metadata": {},
   "outputs": [],
   "source": [
    "waterhsed_url = 'https://streamstats.usgs.gov/streamstatsservices/watershed.geojson?'\n",
    "PercentOverlay_url = 'https://gis.streamstats.usgs.gov/arcgis/rest/services/nss/regions/MapServer/exts/PercentOverlayRESTSOE/PercentOverlay'\n",
    "stats_groups_url= f\"https://streamstats.usgs.gov/nssservices/statisticgroups/{stats_group}.json?\"\n",
    "scenarios_url = \"https://streamstats.usgs.gov/nssservices/scenarios.json?\"\n",
    "parameters_url = r'https://streamstats.usgs.gov/streamstatsservices/parameters.json?'\n",
    "estimate_url = 'https://streamstats.usgs.gov/nssservices/scenarios/estimate.json?'\n",
    "Href_url = f\"https://streamstats.usgs.gov/nssservices/statisticgroups/{stats_group}\""
   ]
  },
  {
   "cell_type": "code",
   "execution_count": 31,
   "metadata": {},
   "outputs": [
    {
     "data": {
      "text/plain": [
       "dict_keys(['workspaceID', 'featurecollection', 'parameters', 'messages'])"
      ]
     },
     "execution_count": 31,
     "metadata": {},
     "output_type": "execute_result"
    }
   ],
   "source": [
    "watershed_params = {'rcode':rcode, 'xlocation': xlocation,'ylocation':ylocation, \n",
    "          'crs':crs, 'includeparameters':'true', 'includefeatures':'true', 'simplify':'true'}\n",
    "\n",
    "r = requests.get(waterhsed_url, watershed_params)\n",
    "watershed_data = json.loads(r.content.decode())\n",
    "watershed_data.keys()"
   ]
  },
  {
   "cell_type": "code",
   "execution_count": 32,
   "metadata": {},
   "outputs": [
    {
     "data": {
      "text/plain": [
       "dict_keys(['properties', 'type', 'bbox', 'geometry'])"
      ]
     },
     "execution_count": 32,
     "metadata": {},
     "output_type": "execute_result"
    }
   ],
   "source": [
    "watershed_data['featurecollection'][1]['feature']['features'][0].keys()"
   ]
  },
  {
   "cell_type": "code",
   "execution_count": 34,
   "metadata": {},
   "outputs": [
    {
     "name": "stdout",
     "output_type": "stream",
     "text": [
      "NY20190315183538484000\n"
     ]
    }
   ],
   "source": [
    "workspaceID = watershed_data['workspaceID']\n",
    "print(workspaceID)"
   ]
  },
  {
   "cell_type": "markdown",
   "metadata": {},
   "source": [
    "### Featureclass From API"
   ]
  },
  {
   "cell_type": "code",
   "execution_count": 35,
   "metadata": {},
   "outputs": [],
   "source": [
    "featurecollection = watershed_data['featurecollection']\n",
    "watershed_poly = featurecollection[1]['feature']"
   ]
  },
  {
   "cell_type": "markdown",
   "metadata": {},
   "source": [
    "#### Percent Overlay Test"
   ]
  },
  {
   "cell_type": "code",
   "execution_count": 36,
   "metadata": {},
   "outputs": [],
   "source": [
    "PercentOverlay_params = {'geometry': json.dumps(watershed_poly), 'f': 'json'}\n",
    "r = requests.post(PercentOverlay_url, PercentOverlay_params)\n",
    "PercentOverlay = r.json()"
   ]
  },
  {
   "cell_type": "code",
   "execution_count": 37,
   "metadata": {},
   "outputs": [
    {
     "data": {
      "text/plain": [
       "[{'name': 'Bankfull_Regions_1_and_2_SIR2009_5144',\n",
       "  'code': 'gc1425',\n",
       "  'percent': 100.0,\n",
       "  'areasqmeter': 38269345.38311274,\n",
       "  'maskareasqmeter': 38269345.38311274},\n",
       " {'name': '2006_Full_Region_1',\n",
       "  'code': 'gc1071',\n",
       "  'percent': 100.0,\n",
       "  'areasqmeter': 38269345.38311274,\n",
       "  'maskareasqmeter': 38269345.38311274}]"
      ]
     },
     "execution_count": 37,
     "metadata": {},
     "output_type": "execute_result"
    }
   ],
   "source": [
    "PercentOverlay"
   ]
  },
  {
   "cell_type": "markdown",
   "metadata": {},
   "source": [
    "### Quick Fix, requires testing/refinement\n",
    "\n",
    "Select group codes by keyowrd, revisit to verify. This method may provide inaccurate results"
   ]
  },
  {
   "cell_type": "code",
   "execution_count": 38,
   "metadata": {},
   "outputs": [
    {
     "data": {
      "text/plain": [
       "'gc1071'"
      ]
     },
     "execution_count": 38,
     "metadata": {},
     "output_type": "execute_result"
    }
   ],
   "source": [
    "regressionregion_codes = []\n",
    "for group in PercentOverlay:\n",
    "    group_name = group['name']\n",
    "    if '2006_Full_Region' in group_name:\n",
    "        regressionregion_codes.append(group['code'])\n",
    "        \n",
    "regressionregion_codes\n",
    "reg_codes = ','.join(regressionregion_codes)\n",
    "reg_codes"
   ]
  },
  {
   "cell_type": "code",
   "execution_count": 39,
   "metadata": {},
   "outputs": [
    {
     "data": {
      "text/plain": [
       "{'gc1071': 100.0}"
      ]
     },
     "execution_count": 39,
     "metadata": {},
     "output_type": "execute_result"
    }
   ],
   "source": [
    "rr_weight={}\n",
    "for rr in  PercentOverlay:\n",
    "    rr_code = rr['code'] \n",
    "    if rr_code in regressionregion_codes:\n",
    "        rr_weight[rr_code] = rr['percent']\n",
    "        \n",
    "rr_weight"
   ]
  },
  {
   "cell_type": "code",
   "execution_count": 40,
   "metadata": {},
   "outputs": [
    {
     "data": {
      "text/plain": [
       "{'ID': 2, 'Name': 'Peak-Flow Statistics', 'Code': 'PFS'}"
      ]
     },
     "execution_count": 40,
     "metadata": {},
     "output_type": "execute_result"
    }
   ],
   "source": [
    "stats_groups_url_params = {'region':rcode,'regressionregions':reg_codes}\n",
    "r = requests.get(stats_groups_url, json=stats_groups_url_params)\n",
    "stats_groups = r.json() \n",
    "stats_groups"
   ]
  },
  {
   "cell_type": "code",
   "execution_count": 41,
   "metadata": {},
   "outputs": [],
   "source": [
    "scenarios_url_params = {'region': rcode ,'statisticgroups': stats_group, 'regressionregions':reg_codes, 'configs': 2}\n",
    "r = requests.get(scenarios_url, data=scenarios_url_params)\n",
    "scenarios = r.json()"
   ]
  },
  {
   "cell_type": "code",
   "execution_count": 42,
   "metadata": {},
   "outputs": [
    {
     "data": {
      "text/plain": [
       "'STORAGE,PRECIP,LAGFACTOR,DRNAREA,FOREST'"
      ]
     },
     "execution_count": 42,
     "metadata": {},
     "output_type": "execute_result"
    }
   ],
   "source": [
    "rr_parameter_codes=[]\n",
    "for rr in scenarios[0]['RegressionRegions']:\n",
    "    reg_code = rr['Code']\n",
    "    if reg_code.lower() in reg_codes:\n",
    "        parameters = rr['Parameters']\n",
    "        for pp in parameters:\n",
    "            for k,v in pp.items():\n",
    "                if k == 'Code':\n",
    "                    rr_parameter_codes.append(v)\n",
    "                \n",
    "rr_parameter_codes = ','.join(list(set(rr_parameter_codes)))\n",
    "rr_parameter_codes"
   ]
  },
  {
   "cell_type": "code",
   "execution_count": 43,
   "metadata": {},
   "outputs": [
    {
     "data": {
      "text/plain": [
       "'https://streamstats.usgs.gov/streamstatsservices/parameters.json?'"
      ]
     },
     "execution_count": 43,
     "metadata": {},
     "output_type": "execute_result"
    }
   ],
   "source": [
    "parameters_url"
   ]
  },
  {
   "cell_type": "code",
   "execution_count": 44,
   "metadata": {},
   "outputs": [
    {
     "data": {
      "text/plain": [
       "{'parameters': [{'ID': 0,\n",
       "   'name': 'Drainage Area',\n",
       "   'description': 'Area that drains to a point on a stream',\n",
       "   'code': 'DRNAREA',\n",
       "   'unit': 'square miles',\n",
       "   'value': 14.8},\n",
       "  {'ID': 0,\n",
       "   'name': 'Percent Forest',\n",
       "   'description': 'Percentage of area covered by forest',\n",
       "   'code': 'FOREST',\n",
       "   'unit': 'percent',\n",
       "   'value': 64.0},\n",
       "  {'ID': 0,\n",
       "   'name': 'Lag Factor',\n",
       "   'description': 'Lag Factor as defined in SIR 2006-5112',\n",
       "   'code': 'LAGFACTOR',\n",
       "   'unit': 'dimensionless',\n",
       "   'value': 0.98},\n",
       "  {'ID': 0,\n",
       "   'name': 'Mean Annual Precipitation',\n",
       "   'description': 'Mean Annual Precipitation',\n",
       "   'code': 'PRECIP',\n",
       "   'unit': 'inches',\n",
       "   'value': 32.4},\n",
       "  {'ID': 0,\n",
       "   'name': 'Percent Storage',\n",
       "   'description': 'Percentage of area of storage (lakes ponds reservoirs wetlands)',\n",
       "   'code': 'STORAGE',\n",
       "   'unit': 'percent',\n",
       "   'value': 12.1}],\n",
       " 'messages': ['xmlcount:28',\n",
       "  'From ApFields',\n",
       "  'count: 28',\n",
       "  'DB return count: 28',\n",
       "  'Start Time: Fri Mar 15 18:36:24 2019 Performing global parameters computation... after GetZonalTable ptable True ERROR 010159: Unable to open VAT file of e:\\\\data\\\\ny\\\\bc layers\\\\forestgr. Zonal statistics program failed ERROR 010067: Error in executing grid expression. after GetZonalTable ptable False  after GetZonalTable ptable True ERROR 010159: Unable to open VAT file of e:\\\\data\\\\ny\\\\bc layers\\\\lakegr. Zonal statistics program failed ERROR 010067: Error in executing grid expression. Succeeded at Fri Mar 15 18:36:44 2019 (Elapsed Time: 19.72 seconds)']}"
      ]
     },
     "execution_count": 44,
     "metadata": {},
     "output_type": "execute_result"
    }
   ],
   "source": [
    "parameters_params = json.dumps({'rcode': rcode, 'workspaceID':workspaceID, 'includeparameters': rr_parameter_codes})\n",
    "r = requests.get(parameters_url, json.loads(parameters_params))\n",
    "pdata = r.json()\n",
    "pdata"
   ]
  },
  {
   "cell_type": "markdown",
   "metadata": {},
   "source": [
    "*__Include error check for above cell output__*"
   ]
  },
  {
   "cell_type": "code",
   "execution_count": 45,
   "metadata": {},
   "outputs": [
    {
     "name": "stdout",
     "output_type": "stream",
     "text": [
      "DRNAREA 14.8\n",
      "FOREST 64.0\n",
      "LAGFACTOR 0.98\n",
      "PRECIP 32.4\n",
      "STORAGE 12.1\n"
     ]
    }
   ],
   "source": [
    "use_codes={}\n",
    "for p in pdata['parameters']:\n",
    "    print(p['code'], p['value'])\n",
    "    use_codes[p['code']] = p['value']"
   ]
  },
  {
   "cell_type": "code",
   "execution_count": 46,
   "metadata": {},
   "outputs": [],
   "source": [
    "estimate_params =  {'region': rcode,'statisticgroups':2,'regressionregions':reg_codes,'configs':2}\n",
    "r = requests.get(estimate_url, data =estimate_params)\n",
    "estimate = r.json()\n",
    "#estimate"
   ]
  },
  {
   "cell_type": "code",
   "execution_count": 47,
   "metadata": {},
   "outputs": [],
   "source": [
    "#use_codes.keys()"
   ]
  },
  {
   "cell_type": "code",
   "execution_count": 48,
   "metadata": {},
   "outputs": [],
   "source": [
    "est = json.loads(r.content.decode())\n",
    "for regregion in est[0]['RegressionRegions']:\n",
    "    for p in regregion['Parameters']:\n",
    "        if p['Code'] in use_codes.keys():\n",
    "            p['Value'] = use_codes[p['Code']]\n",
    "            #print(p['Code'], p['Value'], use_codes[p['Code']] )\n",
    "#print(\"updated est\")"
   ]
  },
  {
   "cell_type": "code",
   "execution_count": 49,
   "metadata": {},
   "outputs": [],
   "source": [
    "payload = dict()\n",
    "payload[\"Links\"] = [{\"rel\": \"self\",\n",
    "        \"Href\": Href_url,\n",
    "        \"method\": \"GET\"}] \n",
    "\n",
    "#payload"
   ]
  },
  {
   "cell_type": "code",
   "execution_count": 50,
   "metadata": {},
   "outputs": [],
   "source": [
    "for k, v in stats_groups.items():\n",
    "    payload[k] = v\n",
    "    \n",
    "payload['StatisticGroupID'] = stats_group\n",
    "#payload"
   ]
  },
  {
   "cell_type": "code",
   "execution_count": 51,
   "metadata": {},
   "outputs": [],
   "source": [
    "rr_list=[]\n",
    "for rr in est[0]['RegressionRegions']:\n",
    "    reg_code = rr['Code']\n",
    "    if reg_code.lower() in reg_codes:\n",
    "        #print(rr['Code'])\n",
    "        rr_list.append(rr)\n",
    "        rr['PercentWeight']=rr_weight[reg_code.lower()]\n",
    "        \n",
    "payload['RegressionRegions'] = rr_list"
   ]
  },
  {
   "cell_type": "code",
   "execution_count": 52,
   "metadata": {},
   "outputs": [
    {
     "data": {
      "text/plain": [
       "[{'StatisticGroupID': 2,\n",
       "  'RegressionRegions': [{'ID': 410,\n",
       "    'Name': '2006_Full_Region_1',\n",
       "    'Code': 'GC1071',\n",
       "    'PercentWeight': 100.0,\n",
       "    'Parameters': [{'ID': 9228,\n",
       "      'Name': 'Drainage Area',\n",
       "      'Description': 'Area that drains to a point on a stream',\n",
       "      'Code': 'DRNAREA',\n",
       "      'UnitType': {'ID': 0, 'Unit': 'square miles', 'Abbr': 'mi^2'},\n",
       "      'Value': 14.8,\n",
       "      'Limits': {'Max': 4500.0, 'Min': 0.54}},\n",
       "     {'ID': 9229,\n",
       "      'Name': 'Lag Factor',\n",
       "      'Description': 'Lag Factor as defined in SIR 2006-5112',\n",
       "      'Code': 'LAGFACTOR',\n",
       "      'UnitType': {'ID': 0, 'Unit': 'dimensionless', 'Abbr': 'dim'},\n",
       "      'Value': 0.98,\n",
       "      'Limits': {'Max': 15.229, 'Min': 0.004}},\n",
       "     {'ID': 9230,\n",
       "      'Name': 'Percent Storage',\n",
       "      'Description': 'Percentage of area of storage (lakes ponds reservoirs wetlands)',\n",
       "      'Code': 'STORAGE',\n",
       "      'UnitType': {'ID': 0, 'Unit': 'percent', 'Abbr': '%'},\n",
       "      'Value': 12.1,\n",
       "      'Limits': {'Max': 28.92, 'Min': 0.0}},\n",
       "     {'ID': 9231,\n",
       "      'Name': 'Percent Forest',\n",
       "      'Description': 'Percentage of area covered by forest',\n",
       "      'Code': 'FOREST',\n",
       "      'UnitType': {'ID': 0, 'Unit': 'percent', 'Abbr': '%'},\n",
       "      'Value': 64.0,\n",
       "      'Limits': {'Max': 99.61, 'Min': 23.83}},\n",
       "     {'ID': 9232,\n",
       "      'Name': 'Mean Annual Precipitation',\n",
       "      'Description': 'Mean Annual Precipitation',\n",
       "      'Code': 'PRECIP',\n",
       "      'UnitType': {'ID': 0, 'Unit': 'inches', 'Abbr': 'in'},\n",
       "      'Value': 32.4,\n",
       "      'Limits': {'Max': 56.1, 'Min': 29.49}}],\n",
       "    'Results': [{'EquivalentYears': 2.2,\n",
       "      'Name': '1.25 Year Peak Flood',\n",
       "      'code': 'PK1_25',\n",
       "      'Description': 'Maximum instantaneous flow that occurs on average once in 1.25 years',\n",
       "      'Value': 170.846579867441,\n",
       "      'Errors': [{'Name': 'Average standard error (of either estimate or prediction)',\n",
       "        'Code': 'SE',\n",
       "        'Value': 31.6},\n",
       "       {'Name': 'Average standard error of prediction',\n",
       "        'Code': 'SEp',\n",
       "        'Value': 31.6}],\n",
       "      'Unit': {'ID': 0, 'Unit': 'cubic feet per second', 'Abbr': 'ft^3/s'},\n",
       "      'Equation': '69*(DRNAREA)^(0.972)*(LAGFACTOR+1)^(-0.355)*(STORAGE+1)^(-0.16)*(FOREST+80)^(-1.514)*(PRECIP)^(1.859)'},\n",
       "     {'EquivalentYears': 2.0,\n",
       "      'Name': '1.5 Year Peak Flood',\n",
       "      'code': 'PK1_5',\n",
       "      'Description': 'Maximum instantaneous flow that occurs on average once in 1.5 years',\n",
       "      'Value': 207.365060544933,\n",
       "      'Errors': [{'Name': 'Average standard error (of either estimate or prediction)',\n",
       "        'Code': 'SE',\n",
       "        'Value': 30.3},\n",
       "       {'Name': 'Average standard error of prediction',\n",
       "        'Code': 'SEp',\n",
       "        'Value': 30.3}],\n",
       "      'Unit': {'ID': 0, 'Unit': 'cubic feet per second', 'Abbr': 'ft^3/s'},\n",
       "      'Equation': '144*(DRNAREA)^(0.973)*(LAGFACTOR+1)^(-0.383)*(STORAGE+1)^(-0.164)*(FOREST+80)^(-1.519)*(PRECIP)^(1.718)'},\n",
       "     {'EquivalentYears': 2.1,\n",
       "      'Name': '2 Year Peak Flood',\n",
       "      'code': 'PK2',\n",
       "      'Description': 'Maximum instantaneous flow that occurs on average once in 2 years',\n",
       "      'Value': 255.05979518558,\n",
       "      'Errors': [{'Name': 'Average standard error (of either estimate or prediction)',\n",
       "        'Code': 'SE',\n",
       "        'Value': 29.0},\n",
       "       {'Name': 'Average standard error of prediction',\n",
       "        'Code': 'SEp',\n",
       "        'Value': 29.0}],\n",
       "      'Unit': {'ID': 0, 'Unit': 'cubic feet per second', 'Abbr': 'ft^3/s'},\n",
       "      'Equation': '299*(DRNAREA)^(0.972)*(LAGFACTOR+1)^(-0.411)*(STORAGE+1)^(-0.169)*(FOREST+80)^(-1.518)*(PRECIP)^(1.576)'},\n",
       "     {'EquivalentYears': 3.6,\n",
       "      'Name': '5 Year Peak Flood',\n",
       "      'code': 'PK5',\n",
       "      'Description': 'Maximum instantaneous flow that occurs on average once in 5 years',\n",
       "      'Value': 385.459335883199,\n",
       "      'Errors': [{'Name': 'Average standard error (of either estimate or prediction)',\n",
       "        'Code': 'SE',\n",
       "        'Value': 27.3},\n",
       "       {'Name': 'Average standard error of prediction',\n",
       "        'Code': 'SEp',\n",
       "        'Value': 27.3}],\n",
       "      'Unit': {'ID': 0, 'Unit': 'cubic feet per second', 'Abbr': 'ft^3/s'},\n",
       "      'Equation': '1180*(DRNAREA)^(0.97)*(LAGFACTOR+1)^(-0.46)*(STORAGE+1)^(-0.178)*(FOREST+80)^(-1.53)*(PRECIP)^(1.335)'},\n",
       "     {'EquivalentYears': 5.1,\n",
       "      'Name': '10 Year Peak Flood',\n",
       "      'code': 'PK10',\n",
       "      'Description': 'Maximum instantaneous flow that occurs on average once in 10 years',\n",
       "      'Value': 477.680637419179,\n",
       "      'Errors': [{'Name': 'Average standard error (of either estimate or prediction)',\n",
       "        'Code': 'SE',\n",
       "        'Value': 27.2},\n",
       "       {'Name': 'Average standard error of prediction',\n",
       "        'Code': 'SEp',\n",
       "        'Value': 27.2}],\n",
       "      'Unit': {'ID': 0, 'Unit': 'cubic feet per second', 'Abbr': 'ft^3/s'},\n",
       "      'Equation': '2310*(DRNAREA)^(0.968)*(LAGFACTOR+1)^(-0.482)*(STORAGE+1)^(-0.184)*(FOREST+80)^(-1.549)*(PRECIP)^(1.241)'},\n",
       "     {'EquivalentYears': 6.9,\n",
       "      'Name': '25 Year Peak Flood',\n",
       "      'code': 'PK25',\n",
       "      'Description': 'Maximum instantaneous flow that occurs on average once in 25 years',\n",
       "      'Value': 596.480037827307,\n",
       "      'Errors': [{'Name': 'Average standard error (of either estimate or prediction)',\n",
       "        'Code': 'SE',\n",
       "        'Value': 28.2},\n",
       "       {'Name': 'Average standard error of prediction',\n",
       "        'Code': 'SEp',\n",
       "        'Value': 28.2}],\n",
       "      'Unit': {'ID': 0, 'Unit': 'cubic feet per second', 'Abbr': 'ft^3/s'},\n",
       "      'Equation': '4580*(DRNAREA)^(0.965)*(LAGFACTOR+1)^(-0.5)*(STORAGE+1)^(-0.192)*(FOREST+80)^(-1.582)*(PRECIP)^(1.167)'},\n",
       "     {'EquivalentYears': 8.0,\n",
       "      'Name': '50 Year Peak Flood',\n",
       "      'code': 'PK50',\n",
       "      'Description': 'Maximum instantaneous flow that occurs on average once in 50 years',\n",
       "      'Value': 684.986155259512,\n",
       "      'Errors': [{'Name': 'Average standard error (of either estimate or prediction)',\n",
       "        'Code': 'SE',\n",
       "        'Value': 29.4},\n",
       "       {'Name': 'Average standard error of prediction',\n",
       "        'Code': 'SEp',\n",
       "        'Value': 29.4}],\n",
       "      'Unit': {'ID': 0, 'Unit': 'cubic feet per second', 'Abbr': 'ft^3/s'},\n",
       "      'Equation': '7030*(DRNAREA)^(0.963)*(LAGFACTOR+1)^(-0.511)*(STORAGE+1)^(-0.197)*(FOREST+80)^(-1.61)*(PRECIP)^(1.131)'},\n",
       "     {'EquivalentYears': 8.8,\n",
       "      'Name': '100 Year Peak Flood',\n",
       "      'code': 'PK100',\n",
       "      'Description': 'Maximum instantaneous flow that occurs on average once in 100 years',\n",
       "      'Value': 783.320177210605,\n",
       "      'Errors': [{'Name': 'Average standard error (of either estimate or prediction)',\n",
       "        'Code': 'SE',\n",
       "        'Value': 30.8},\n",
       "       {'Name': 'Average standard error of prediction',\n",
       "        'Code': 'SEp',\n",
       "        'Value': 30.8}],\n",
       "      'Unit': {'ID': 0, 'Unit': 'cubic feet per second', 'Abbr': 'ft^3/s'},\n",
       "      'Equation': '10300*(DRNAREA)^(0.962)*(LAGFACTOR+1)^(-0.52)*(STORAGE+1)^(-0.202)*(FOREST+80)^(-1.638)*(PRECIP)^(1.106)'},\n",
       "     {'EquivalentYears': 9.4,\n",
       "      'Name': '200 Year Peak Flood',\n",
       "      'code': 'PK200',\n",
       "      'Description': 'Maximum instantaneous flow that occurs on average once in 200 years',\n",
       "      'Value': 871.93427231803,\n",
       "      'Errors': [{'Name': 'Average standard error (of either estimate or prediction)',\n",
       "        'Code': 'SE',\n",
       "        'Value': 32.5},\n",
       "       {'Name': 'Average standard error of prediction',\n",
       "        'Code': 'SEp',\n",
       "        'Value': 32.5}],\n",
       "      'Unit': {'ID': 0, 'Unit': 'cubic feet per second', 'Abbr': 'ft^3/s'},\n",
       "      'Equation': '14500*(DRNAREA)^(0.96)*(LAGFACTOR+1)^(-0.528)*(STORAGE+1)^(-0.206)*(FOREST+80)^(-1.667)*(PRECIP)^(1.086)'},\n",
       "     {'EquivalentYears': 9.8,\n",
       "      'Name': '500 Year Peak Flood',\n",
       "      'code': 'PK500',\n",
       "      'Description': 'Maximum instantaneous flow that occurs on average once in 500 years',\n",
       "      'Value': 1009.42950701098,\n",
       "      'Errors': [{'Name': 'Average standard error (of either estimate or prediction)',\n",
       "        'Code': 'SE',\n",
       "        'Value': 35.1},\n",
       "       {'Name': 'Average standard error of prediction',\n",
       "        'Code': 'SEp',\n",
       "        'Value': 35.1}],\n",
       "      'Unit': {'ID': 0, 'Unit': 'cubic feet per second', 'Abbr': 'ft^3/s'},\n",
       "      'Equation': '22000*(DRNAREA)^(0.959)*(LAGFACTOR+1)^(-0.539)*(STORAGE+1)^(-0.21)*(FOREST+80)^(-1.704)*(PRECIP)^(1.067)'}],\n",
       "    'Extensions': []}],\n",
       "  'Links': [{'rel': 'citations',\n",
       "    'Href': 'https://streamstats.usgs.gov/nssservices/citations?regressionregions=410',\n",
       "    'method': 'GET'}]}]"
      ]
     },
     "execution_count": 52,
     "metadata": {},
     "output_type": "execute_result"
    }
   ],
   "source": [
    "peak_flow_url = f\"https://streamstats.usgs.gov/nssservices/scenarios/estimate.json?region={rcode}&statisticgroups={stats_group}&regressionregions={reg_codes}&configs={configs}\"\n",
    "r = requests.post(peak_flow_url, json=json.loads(json.dumps([payload])))\n",
    "r.json()"
   ]
  },
  {
   "cell_type": "markdown",
   "metadata": {},
   "source": [
    "# END"
   ]
  }
 ],
 "metadata": {
  "kernelspec": {
   "display_name": "Python 3",
   "language": "python",
   "name": "python3"
  },
  "language_info": {
   "codemirror_mode": {
    "name": "ipython",
    "version": 3
   },
   "file_extension": ".py",
   "mimetype": "text/x-python",
   "name": "python",
   "nbconvert_exporter": "python",
   "pygments_lexer": "ipython3",
   "version": "3.7.1"
  }
 },
 "nbformat": 4,
 "nbformat_minor": 2
}
