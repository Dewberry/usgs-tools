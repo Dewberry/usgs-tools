{
 "cells": [
  {
   "cell_type": "markdown",
   "metadata": {},
   "source": [
    "# StreamStats API Scraper\n",
    "\n",
    "#### Development Notebook"
   ]
  },
  {
   "cell_type": "code",
   "execution_count": 1,
   "metadata": {},
   "outputs": [],
   "source": [
    "import json\n",
    "import requests"
   ]
  },
  {
   "cell_type": "code",
   "execution_count": 2,
   "metadata": {},
   "outputs": [],
   "source": [
    "rcode='WI'\n",
    "xlocation= -87.49781885475109 \n",
    "ylocation=  44.45880879748906\n",
    "crs=4326\n",
    "stats_group=2\n",
    "configs=2"
   ]
  },
  {
   "cell_type": "markdown",
   "metadata": {},
   "source": [
    "#### Assign Location & Stats Group (2=Peakflow)"
   ]
  },
  {
   "cell_type": "markdown",
   "metadata": {},
   "source": [
    "#### URL Strings"
   ]
  },
  {
   "cell_type": "code",
   "execution_count": 3,
   "metadata": {},
   "outputs": [],
   "source": [
    "waterhsed_url = 'https://streamstats.usgs.gov/streamstatsservices/watershed.geojson?'\n",
    "PercentOverlay_url = 'https://gis.streamstats.usgs.gov/arcgis/rest/services/nss/regions/MapServer/exts/PercentOverlayRESTSOE/PercentOverlay'\n",
    "stats_groups_url= f\"https://streamstats.usgs.gov/nssservices/statisticgroups/{stats_group}.json?\"\n",
    "scenarios_url = \"https://streamstats.usgs.gov/nssservices/scenarios.json?\"\n",
    "parameters_url = r'https://streamstats.usgs.gov/streamstatsservices/parameters.json?'\n",
    "estimate_url = 'https://streamstats.usgs.gov/nssservices/scenarios/estimate.json?'\n",
    "Href_url = f\"https://streamstats.usgs.gov/nssservices/statisticgroups/{stats_group}\""
   ]
  },
  {
   "cell_type": "code",
   "execution_count": 4,
   "metadata": {},
   "outputs": [
    {
     "data": {
      "text/plain": [
       "dict_keys(['workspaceID', 'featurecollection', 'parameters', 'messages'])"
      ]
     },
     "execution_count": 4,
     "metadata": {},
     "output_type": "execute_result"
    }
   ],
   "source": [
    "watershed_params = {'rcode':rcode, 'xlocation': xlocation,'ylocation':ylocation, \n",
    "          'crs':crs, 'includeparameters':'true', 'includefeatures':'true', 'simplify':'true'}\n",
    "\n",
    "r = requests.get(waterhsed_url, watershed_params)\n",
    "watershed_data = json.loads(r.content.decode())\n",
    "watershed_data.keys()"
   ]
  },
  {
   "cell_type": "code",
   "execution_count": 5,
   "metadata": {},
   "outputs": [
    {
     "data": {
      "text/plain": [
       "dict_keys(['properties', 'type', 'bbox', 'geometry'])"
      ]
     },
     "execution_count": 5,
     "metadata": {},
     "output_type": "execute_result"
    }
   ],
   "source": [
    "watershed_data['featurecollection'][1]['feature']['features'][0].keys()"
   ]
  },
  {
   "cell_type": "code",
   "execution_count": 6,
   "metadata": {},
   "outputs": [
    {
     "name": "stdout",
     "output_type": "stream",
     "text": [
      "WI20190321174213457000\n"
     ]
    }
   ],
   "source": [
    "workspaceID = watershed_data['workspaceID']\n",
    "print(workspaceID)"
   ]
  },
  {
   "cell_type": "markdown",
   "metadata": {},
   "source": [
    "### Featureclass From API"
   ]
  },
  {
   "cell_type": "code",
   "execution_count": 7,
   "metadata": {},
   "outputs": [],
   "source": [
    "featurecollection = watershed_data['featurecollection']\n",
    "watershed_poly = featurecollection[1]['feature']"
   ]
  },
  {
   "cell_type": "markdown",
   "metadata": {},
   "source": [
    "#### Percent Overlay Test"
   ]
  },
  {
   "cell_type": "code",
   "execution_count": 8,
   "metadata": {},
   "outputs": [],
   "source": [
    "PercentOverlay_params = {'geometry': json.dumps(watershed_poly), 'f': 'json'}\n",
    "r = requests.post(PercentOverlay_url, PercentOverlay_params)\n",
    "PercentOverlay = r.json()"
   ]
  },
  {
   "cell_type": "code",
   "execution_count": 26,
   "metadata": {},
   "outputs": [
    {
     "data": {
      "text/plain": [
       "[]"
      ]
     },
     "execution_count": 26,
     "metadata": {},
     "output_type": "execute_result"
    }
   ],
   "source": [
    "PercentOverlay"
   ]
  },
  {
   "cell_type": "markdown",
   "metadata": {},
   "source": [
    "### Quick Fix, requires testing/refinement\n",
    "\n",
    "Select group codes by keyowrd, revisit to verify. This method may provide inaccurate results"
   ]
  },
  {
   "cell_type": "code",
   "execution_count": 10,
   "metadata": {},
   "outputs": [
    {
     "data": {
      "text/plain": [
       "''"
      ]
     },
     "execution_count": 10,
     "metadata": {},
     "output_type": "execute_result"
    }
   ],
   "source": [
    "regressionregion_codes = []\n",
    "for group in PercentOverlay:\n",
    "    group_name = group['name']\n",
    "    if '2006_Full_Region' in group_name:\n",
    "        regressionregion_codes.append(group['code'])\n",
    "        \n",
    "regressionregion_codes\n",
    "reg_codes = ','.join(regressionregion_codes)\n",
    "reg_codes"
   ]
  },
  {
   "cell_type": "code",
   "execution_count": 11,
   "metadata": {},
   "outputs": [
    {
     "data": {
      "text/plain": [
       "{}"
      ]
     },
     "execution_count": 11,
     "metadata": {},
     "output_type": "execute_result"
    }
   ],
   "source": [
    "rr_weight={}\n",
    "for rr in  PercentOverlay:\n",
    "    rr_code = rr['code'] \n",
    "    if rr_code in regressionregion_codes:\n",
    "        rr_weight[rr_code] = rr['percent']\n",
    "        \n",
    "rr_weight"
   ]
  },
  {
   "cell_type": "code",
   "execution_count": 12,
   "metadata": {},
   "outputs": [
    {
     "data": {
      "text/plain": [
       "{'ID': 2, 'Name': 'Peak-Flow Statistics', 'Code': 'PFS'}"
      ]
     },
     "execution_count": 12,
     "metadata": {},
     "output_type": "execute_result"
    }
   ],
   "source": [
    "stats_groups_url_params = {'region':rcode,'regressionregions':reg_codes}\n",
    "r = requests.get(stats_groups_url, json=stats_groups_url_params)\n",
    "stats_groups = r.json() \n",
    "stats_groups"
   ]
  },
  {
   "cell_type": "code",
   "execution_count": 13,
   "metadata": {},
   "outputs": [],
   "source": [
    "scenarios_url_params = {'region': rcode ,'statisticgroups': stats_group, 'regressionregions':reg_codes, 'configs': 2}\n",
    "r = requests.get(scenarios_url, data=scenarios_url_params)\n",
    "scenarios = r.json()"
   ]
  },
  {
   "cell_type": "code",
   "execution_count": 14,
   "metadata": {},
   "outputs": [
    {
     "data": {
      "text/plain": [
       "''"
      ]
     },
     "execution_count": 14,
     "metadata": {},
     "output_type": "execute_result"
    }
   ],
   "source": [
    "rr_parameter_codes=[]\n",
    "for rr in scenarios[0]['RegressionRegions']:\n",
    "    reg_code = rr['Code']\n",
    "    if reg_code.lower() in reg_codes:\n",
    "        parameters = rr['Parameters']\n",
    "        for pp in parameters:\n",
    "            for k,v in pp.items():\n",
    "                if k == 'Code':\n",
    "                    rr_parameter_codes.append(v)\n",
    "                \n",
    "rr_parameter_codes = ','.join(list(set(rr_parameter_codes)))\n",
    "rr_parameter_codes"
   ]
  },
  {
   "cell_type": "code",
   "execution_count": 15,
   "metadata": {},
   "outputs": [
    {
     "data": {
      "text/plain": [
       "'https://streamstats.usgs.gov/streamstatsservices/parameters.json?'"
      ]
     },
     "execution_count": 15,
     "metadata": {},
     "output_type": "execute_result"
    }
   ],
   "source": [
    "parameters_url"
   ]
  },
  {
   "cell_type": "code",
   "execution_count": 16,
   "metadata": {},
   "outputs": [
    {
     "data": {
      "text/plain": [
       "{'parameters': [{'ID': 0,\n",
       "   'name': 'CLIFAC100Y',\n",
       "   'description': '100-year climate factor from Litchy and Karlinger (1990)',\n",
       "   'code': 'CLIFAC100Y',\n",
       "   'unit': 'dimensionless',\n",
       "   'value': 2.7},\n",
       "  {'ID': 0,\n",
       "   'name': 'CLIFAC25Y',\n",
       "   'description': '25-year climate factor from Litchy and Karlinger (1990)',\n",
       "   'code': 'CLIFAC25Y',\n",
       "   'unit': 'dimensionless',\n",
       "   'value': 2.5},\n",
       "  {'ID': 0,\n",
       "   'name': 'Tennessee Climate Factor 2 Year',\n",
       "   'description': 'Two-year climate factor from Lichy and Karlinger (1990)',\n",
       "   'code': 'CLIMFAC2YR',\n",
       "   'unit': 'dimensionless',\n",
       "   'value': 1.7},\n",
       "  {'ID': 0,\n",
       "   'name': 'Stream Slope 10 and 85 Method',\n",
       "   'description': 'Change in elevation divided by length between points 10 and 85 percent of distance along main channel to basin divide - main channel method not known',\n",
       "   'code': 'CSL10_85',\n",
       "   'unit': 'feet per mi',\n",
       "   'value': 8.03},\n",
       "  {'ID': 0,\n",
       "   'name': 'Percent developed from NLCD2001',\n",
       "   'description': 'Percentage of land-use categories 21-24 from NLCD 2001',\n",
       "   'code': 'DEVNLCD01',\n",
       "   'unit': 'percent',\n",
       "   'value': 6.49},\n",
       "  {'ID': 0,\n",
       "   'name': 'Drainage Area',\n",
       "   'description': 'Area that drains to a point on a stream',\n",
       "   'code': 'DRNAREA',\n",
       "   'unit': 'square miles',\n",
       "   'value': 143.0},\n",
       "  {'ID': 0,\n",
       "   'name': 'Percent Forest',\n",
       "   'description': 'Percentage of area covered by forest',\n",
       "   'code': 'FOREST',\n",
       "   'unit': 'percent',\n",
       "   'value': 8.2},\n",
       "  {'ID': 0,\n",
       "   'name': '24 Hour 100 Year Precipitation',\n",
       "   'description': 'Maximum 24-hour precipitation that occurs on average once in 100 years',\n",
       "   'code': 'I24H100Y',\n",
       "   'unit': 'inches',\n",
       "   'value': 5.734},\n",
       "  {'ID': 0,\n",
       "   'name': '24 Hour 10 Year Precipitation',\n",
       "   'description': 'Maximum 24-hour precipitation that occurs on average once in 10 years',\n",
       "   'code': 'I24H10Y',\n",
       "   'unit': 'inches',\n",
       "   'value': 3.4},\n",
       "  {'ID': 0,\n",
       "   'name': '24 Hour 25 Year Precipitation',\n",
       "   'description': 'Maximum 24-hour precipitation that occurs on average once in 25 years',\n",
       "   'code': 'I24H25Y',\n",
       "   'unit': 'inches',\n",
       "   'value': 4.013},\n",
       "  {'ID': 0,\n",
       "   'name': '24 Hour 2 Year Precipitation',\n",
       "   'description': 'Maximum 24-hour precipitation that occurs on average once in 2 years - Equivalent to precipitation intensity index',\n",
       "   'code': 'I24H2Y',\n",
       "   'unit': 'inches',\n",
       "   'value': 2.224},\n",
       "  {'ID': 0,\n",
       "   'name': '24 Hour 50 Year Precipitation',\n",
       "   'description': 'Maximum 24-hour precipitation that occurs on average once in 50 years',\n",
       "   'code': 'I24H50Y',\n",
       "   'unit': 'inches',\n",
       "   'value': 4.859},\n",
       "  {'ID': 0,\n",
       "   'name': 'I24H5Y',\n",
       "   'description': 'Maximum 24-hour precipitation that occurs on average once in 5 years',\n",
       "   'code': 'I24H5Y',\n",
       "   'unit': 'inches',\n",
       "   'value': 2.822},\n",
       "  {'ID': 0,\n",
       "   'name': 'LC01CRPHAY',\n",
       "   'description': 'Percentage of cultivated crops and hay, classes 81 and 82, from NLCD 2001',\n",
       "   'code': 'LC01CRPHAY',\n",
       "   'unit': 'percent',\n",
       "   'value': 77.6},\n",
       "  {'ID': 0,\n",
       "   'name': 'LC01HERB',\n",
       "   'description': 'Percentage of herbaceous upland from NLCD 2001 class 71',\n",
       "   'code': 'LC01HERB',\n",
       "   'unit': 'percent',\n",
       "   'value': 0.45},\n",
       "  {'ID': 0,\n",
       "   'name': 'LC01WATER',\n",
       "   'description': 'Percentage of open water, class 11, from NLCD 2001',\n",
       "   'code': 'LC01WATER',\n",
       "   'unit': 'percent',\n",
       "   'value': 0.2},\n",
       "  {'ID': 0,\n",
       "   'name': 'LC11EMWET',\n",
       "   'description': 'Percentage of area of emergent herbaceous wetlands from NLCD 2011 class 95',\n",
       "   'code': 'LC11EMWET',\n",
       "   'unit': 'percent',\n",
       "   'value': 0.71},\n",
       "  {'ID': 0,\n",
       "   'name': 'LC11WDWET',\n",
       "   'description': 'Percentage of area of wooded wetlands from NLCD 2011 class 90',\n",
       "   'code': 'LC11WDWET',\n",
       "   'unit': 'percent',\n",
       "   'value': 5.54},\n",
       "  {'ID': 0,\n",
       "   'name': 'Mean Annual Precipitation',\n",
       "   'description': 'Mean Annual Precipitation',\n",
       "   'code': 'PRECIP',\n",
       "   'unit': 'inches',\n",
       "   'value': 30.26},\n",
       "  {'ID': 0,\n",
       "   'name': 'Mean Annual Snowfall',\n",
       "   'description': 'Mean Annual Snowfall',\n",
       "   'code': 'SNOFALL',\n",
       "   'unit': 'inches',\n",
       "   'value': 41.203},\n",
       "  {'ID': 0,\n",
       "   'name': 'Average Soil Permeability',\n",
       "   'description': 'Average Soil Permeability',\n",
       "   'code': 'SOILPERM',\n",
       "   'unit': 'inches per hour',\n",
       "   'value': 12.326},\n",
       "  {'ID': 0,\n",
       "   'name': 'Percent Wetlands',\n",
       "   'description': 'Percentage of Wetlands',\n",
       "   'code': 'WETLAND',\n",
       "   'unit': 'percent',\n",
       "   'value': 6.27}],\n",
       " 'messages': ['xmlcount:22',\n",
       "  'From ApFields',\n",
       "  'count: 22',\n",
       "  'DB return count: 22',\n",
       "  'Start Time: Thu Mar 21 17:42:49 2019 Performing global parameters computation... after GetZonalTable ptable False  after GetZonalTable ptable False  after GetZonalTable ptable False  after GetZonalTable ptable False  after GetZonalTable ptable False  after GetZonalTable ptable False  after GetZonalTable ptable False  after GetZonalTable ptable False  after GetZonalTable ptable False  after GetZonalTable ptable False  after GetZonalTable ptable False  after GetZonalTable ptable False  after GetZonalTable ptable False  after GetZonalTable ptable False  after GetZonalTable ptable False  after GetZonalTable ptable False  after GetZonalTable ptable False  after GetZonalTable ptable False  after GetZonalTable ptable False  after GetZonalTable ptable False  Succeeded at Thu Mar 21 17:42:57 2019 (Elapsed Time: 7.63 seconds)']}"
      ]
     },
     "execution_count": 16,
     "metadata": {},
     "output_type": "execute_result"
    }
   ],
   "source": [
    "parameters_params = json.dumps({'rcode': rcode, 'workspaceID':workspaceID, 'includeparameters': rr_parameter_codes})\n",
    "r = requests.get(parameters_url, json.loads(parameters_params))\n",
    "pdata = r.json()\n",
    "pdata"
   ]
  },
  {
   "cell_type": "markdown",
   "metadata": {},
   "source": [
    "*__Include error check for above cell output__*"
   ]
  },
  {
   "cell_type": "code",
   "execution_count": 17,
   "metadata": {},
   "outputs": [
    {
     "name": "stdout",
     "output_type": "stream",
     "text": [
      "CLIFAC100Y 2.7\n",
      "CLIFAC25Y 2.5\n",
      "CLIMFAC2YR 1.7\n",
      "CSL10_85 8.03\n",
      "DEVNLCD01 6.49\n",
      "DRNAREA 143.0\n",
      "FOREST 8.2\n",
      "I24H100Y 5.734\n",
      "I24H10Y 3.4\n",
      "I24H25Y 4.013\n",
      "I24H2Y 2.224\n",
      "I24H50Y 4.859\n",
      "I24H5Y 2.822\n",
      "LC01CRPHAY 77.6\n",
      "LC01HERB 0.45\n",
      "LC01WATER 0.2\n",
      "LC11EMWET 0.71\n",
      "LC11WDWET 5.54\n",
      "PRECIP 30.26\n",
      "SNOFALL 41.203\n",
      "SOILPERM 12.326\n",
      "WETLAND 6.27\n"
     ]
    }
   ],
   "source": [
    "use_codes={}\n",
    "for p in pdata['parameters']:\n",
    "    print(p['code'], p['value'])\n",
    "    use_codes[p['code']] = p['value']"
   ]
  },
  {
   "cell_type": "code",
   "execution_count": 18,
   "metadata": {},
   "outputs": [],
   "source": [
    "estimate_params =  {'region': rcode,'statisticgroups':2,'regressionregions':reg_codes,'configs':2}\n",
    "r = requests.get(estimate_url, data =estimate_params)\n",
    "estimate = r.json()\n",
    "#estimate"
   ]
  },
  {
   "cell_type": "code",
   "execution_count": 27,
   "metadata": {},
   "outputs": [
    {
     "data": {
      "text/plain": [
       "[{'StatisticGroupID': 2,\n",
       "  'StatisticGroupName': 'Peak-Flow Statistics',\n",
       "  'RegressionRegions': [{'ID': 719,\n",
       "    'Name': 'Area_1',\n",
       "    'Code': 'GC1461',\n",
       "    'Parameters': [{'ID': 16495,\n",
       "      'Name': 'Drainage Area',\n",
       "      'Description': 'Area that drains to a point on a stream',\n",
       "      'Code': 'DRNAREA',\n",
       "      'UnitType': {'ID': 0, 'Unit': 'square miles', 'Abbr': 'mi^2'},\n",
       "      'Value': -999.99,\n",
       "      'Limits': {'Max': 2120.0, 'Min': 0.28}},\n",
       "     {'ID': 16496,\n",
       "      'Name': '24 Hour 25 Year Precipitation',\n",
       "      'Description': 'Maximum 24-hour precipitation that occurs on average once in 25 years',\n",
       "      'Code': 'I24H25Y',\n",
       "      'UnitType': {'ID': 0, 'Unit': 'inches', 'Abbr': 'in'},\n",
       "      'Value': -999.99,\n",
       "      'Limits': {'Max': 5.29, 'Min': 5.18}},\n",
       "     {'ID': 16497,\n",
       "      'Name': 'Percent Forest',\n",
       "      'Description': 'Percentage of area covered by forest',\n",
       "      'Code': 'FOREST',\n",
       "      'UnitType': {'ID': 0, 'Unit': 'percent', 'Abbr': '%'},\n",
       "      'Value': -999.99,\n",
       "      'Limits': {'Max': 59.6, 'Min': 0.0}},\n",
       "     {'ID': 16503,\n",
       "      'Name': 'Stream Slope 10 and 85 Method',\n",
       "      'Description': 'Change in elevation divided by length between points 10 and 85 percent of distance along main channel to basin divide - main channel method not known',\n",
       "      'Code': 'CSL10_85',\n",
       "      'UnitType': {'ID': 0, 'Unit': 'feet per mi', 'Abbr': 'ft/mi'},\n",
       "      'Value': -999.99,\n",
       "      'Limits': {'Max': 270.0, 'Min': 2.27}}],\n",
       "    'Extensions': []},\n",
       "   {'ID': 720,\n",
       "    'Name': 'Area_2',\n",
       "    'Code': 'GC1462',\n",
       "    'Parameters': [{'ID': 16517,\n",
       "      'Name': 'Drainage Area',\n",
       "      'Description': 'Area that drains to a point on a stream',\n",
       "      'Code': 'DRNAREA',\n",
       "      'UnitType': {'ID': 0, 'Unit': 'square miles', 'Abbr': 'mi^2'},\n",
       "      'Value': -999.99,\n",
       "      'Limits': {'Max': 1760.0, 'Min': 0.56}},\n",
       "     {'ID': 16518,\n",
       "      'Name': 'Average Soil Permeability',\n",
       "      'Description': 'Average Soil Permeability',\n",
       "      'Code': 'SOILPERM',\n",
       "      'UnitType': {'ID': 0, 'Unit': 'inches per hour', 'Abbr': 'in/hr'},\n",
       "      'Value': -999.99,\n",
       "      'Limits': {'Max': 2.88, 'Min': 0.2}},\n",
       "     {'ID': 16519,\n",
       "      'Name': 'Stream Slope 10 and 85 Method',\n",
       "      'Description': 'Change in elevation divided by length between points 10 and 85 percent of distance along main channel to basin divide - main channel method not known',\n",
       "      'Code': 'CSL10_85',\n",
       "      'UnitType': {'ID': 0, 'Unit': 'feet per mi', 'Abbr': 'ft/mi'},\n",
       "      'Value': -999.99,\n",
       "      'Limits': {'Max': 96.0, 'Min': 3.65}}],\n",
       "    'Extensions': []},\n",
       "   {'ID': 721,\n",
       "    'Name': 'Area_3',\n",
       "    'Code': 'GC1463',\n",
       "    'Parameters': [{'ID': 16535,\n",
       "      'Name': 'Drainage Area',\n",
       "      'Description': 'Area that drains to a point on a stream',\n",
       "      'Code': 'DRNAREA',\n",
       "      'UnitType': {'ID': 0, 'Unit': 'square miles', 'Abbr': 'mi^2'},\n",
       "      'Value': -999.99,\n",
       "      'Limits': {'Max': 2240.0, 'Min': 1.0}},\n",
       "     {'ID': 16536,\n",
       "      'Name': 'Average Soil Permeability',\n",
       "      'Description': 'Average Soil Permeability',\n",
       "      'Code': 'SOILPERM',\n",
       "      'UnitType': {'ID': 0, 'Unit': 'inches per hour', 'Abbr': 'in/hr'},\n",
       "      'Value': -999.99,\n",
       "      'Limits': {'Max': 8.46, 'Min': 0.12}},\n",
       "     {'ID': 16537,\n",
       "      'Name': 'Percent Storage',\n",
       "      'Description': 'Percentage of area of storage (lakes ponds reservoirs wetlands)',\n",
       "      'Code': 'STORAGE',\n",
       "      'UnitType': {'ID': 0, 'Unit': 'percent', 'Abbr': '%'},\n",
       "      'Value': -999.99,\n",
       "      'Limits': {'Max': 39.7, 'Min': 0.0}},\n",
       "     {'ID': 16538,\n",
       "      'Name': '24 Hour 25 Year Precipitation',\n",
       "      'Description': 'Maximum 24-hour precipitation that occurs on average once in 25 years',\n",
       "      'Code': 'I24H25Y',\n",
       "      'UnitType': {'ID': 0, 'Unit': 'inches', 'Abbr': 'in'},\n",
       "      'Value': -999.99,\n",
       "      'Limits': {'Max': 5.29, 'Min': 4.24}}],\n",
       "    'Extensions': []},\n",
       "   {'ID': 722,\n",
       "    'Name': 'Area_4',\n",
       "    'Code': 'GC1464',\n",
       "    'Parameters': [{'ID': 16559,\n",
       "      'Name': 'Drainage Area',\n",
       "      'Description': 'Area that drains to a point on a stream',\n",
       "      'Code': 'DRNAREA',\n",
       "      'UnitType': {'ID': 0, 'Unit': 'square miles', 'Abbr': 'mi^2'},\n",
       "      'Value': -999.99,\n",
       "      'Limits': {'Max': 696.0, 'Min': 0.66}},\n",
       "     {'ID': 16560,\n",
       "      'Name': 'Percent Storage',\n",
       "      'Description': 'Percentage of area of storage (lakes ponds reservoirs wetlands)',\n",
       "      'Code': 'STORAGE',\n",
       "      'UnitType': {'ID': 0, 'Unit': 'percent', 'Abbr': '%'},\n",
       "      'Value': -999.99,\n",
       "      'Limits': {'Max': 52.4, 'Min': 0.0}},\n",
       "     {'ID': 16561,\n",
       "      'Name': 'Stream Slope 10 and 85 Method',\n",
       "      'Description': 'Change in elevation divided by length between points 10 and 85 percent of distance along main channel to basin divide - main channel method not known',\n",
       "      'Code': 'CSL10_85',\n",
       "      'UnitType': {'ID': 0, 'Unit': 'feet per mi', 'Abbr': 'ft/mi'},\n",
       "      'Value': -999.99,\n",
       "      'Limits': {'Max': 204.0, 'Min': 1.08}},\n",
       "     {'ID': 16562,\n",
       "      'Name': 'Average Soil Permeability',\n",
       "      'Description': 'Average Soil Permeability',\n",
       "      'Code': 'SOILPERM',\n",
       "      'UnitType': {'ID': 0, 'Unit': 'inches per hour', 'Abbr': 'in/hr'},\n",
       "      'Value': -999.99,\n",
       "      'Limits': {'Max': 4.68, 'Min': 0.12}},\n",
       "     {'ID': 16563,\n",
       "      'Name': 'Mean Annual Snowfall',\n",
       "      'Description': 'Mean Annual Snowfall',\n",
       "      'Code': 'SNOFALL',\n",
       "      'UnitType': {'ID': 0, 'Unit': 'inches', 'Abbr': 'in'},\n",
       "      'Value': -999.99,\n",
       "      'Limits': {'Max': 172.0, 'Min': 34.4}}],\n",
       "    'Extensions': []},\n",
       "   {'ID': 723,\n",
       "    'Name': 'Area_5',\n",
       "    'Code': 'GC1465',\n",
       "    'Parameters': [{'ID': 16589,\n",
       "      'Name': 'Drainage Area',\n",
       "      'Description': 'Area that drains to a point on a stream',\n",
       "      'Code': 'DRNAREA',\n",
       "      'UnitType': {'ID': 0, 'Unit': 'square miles', 'Abbr': 'mi^2'},\n",
       "      'Value': -999.99,\n",
       "      'Limits': {'Max': 3340.0, 'Min': 1.32}},\n",
       "     {'ID': 16590,\n",
       "      'Name': 'Percent Storage',\n",
       "      'Description': 'Percentage of area of storage (lakes ponds reservoirs wetlands)',\n",
       "      'Code': 'STORAGE',\n",
       "      'UnitType': {'ID': 0, 'Unit': 'percent', 'Abbr': '%'},\n",
       "      'Value': -999.99,\n",
       "      'Limits': {'Max': 15.4, 'Min': 0.0}},\n",
       "     {'ID': 16591,\n",
       "      'Name': 'Stream Slope 10 and 85 Method',\n",
       "      'Description': 'Change in elevation divided by length between points 10 and 85 percent of distance along main channel to basin divide - main channel method not known',\n",
       "      'Code': 'CSL10_85',\n",
       "      'UnitType': {'ID': 0, 'Unit': 'feet per mi', 'Abbr': 'ft/mi'},\n",
       "      'Value': -999.99,\n",
       "      'Limits': {'Max': 74.2, 'Min': 0.74}}],\n",
       "    'Extensions': []},\n",
       "   {'ID': 724,\n",
       "    'Name': 'Milwaukee_County',\n",
       "    'Code': 'GC1466',\n",
       "    'Parameters': [{'ID': 16607,\n",
       "      'Name': 'Drainage Area',\n",
       "      'Description': 'Area that drains to a point on a stream',\n",
       "      'Code': 'DRNAREA',\n",
       "      'UnitType': {'ID': 0, 'Unit': 'square miles', 'Abbr': 'mi^2'},\n",
       "      'Value': -999.99,\n",
       "      'Limits': {'Max': 124.0, 'Min': 0.47}},\n",
       "     {'ID': 16608,\n",
       "      'Name': 'Percent Impervious',\n",
       "      'Description': 'Percentage of impervious area',\n",
       "      'Code': 'IMPERV',\n",
       "      'UnitType': {'ID': 0, 'Unit': 'percent', 'Abbr': '%'},\n",
       "      'Value': -999.99,\n",
       "      'Limits': {'Max': 90.8, 'Min': 4.8}}],\n",
       "    'Extensions': []},\n",
       "   {'ID': 725,\n",
       "    'Name': 'Wisconsin_Urban_Areas',\n",
       "    'Code': 'GC1467',\n",
       "    'Parameters': [{'ID': 16619,\n",
       "      'Name': 'Drainage Area',\n",
       "      'Description': 'Area that drains to a point on a stream',\n",
       "      'Code': 'DRNAREA',\n",
       "      'UnitType': {'ID': 0, 'Unit': 'square miles', 'Abbr': 'mi^2'},\n",
       "      'Value': -999.99,\n",
       "      'Limits': {'Max': 124.0, 'Min': 0.47}},\n",
       "     {'ID': 16620,\n",
       "      'Name': 'Percent Impervious',\n",
       "      'Description': 'Percentage of impervious area',\n",
       "      'Code': 'IMPERV',\n",
       "      'UnitType': {'ID': 0, 'Unit': 'percent', 'Abbr': '%'},\n",
       "      'Value': -999.99,\n",
       "      'Limits': {'Max': 90.8, 'Min': 4.8}}],\n",
       "    'Extensions': []}],\n",
       "  'Links': [{'rel': 'citations',\n",
       "    'Href': 'https://streamstats.usgs.gov/nssservices/citations?regressionregions=719,720,721,722,723,724,725',\n",
       "    'method': 'GET'}]}]"
      ]
     },
     "execution_count": 27,
     "metadata": {},
     "output_type": "execute_result"
    }
   ],
   "source": [
    "estimate"
   ]
  },
  {
   "cell_type": "code",
   "execution_count": 20,
   "metadata": {},
   "outputs": [],
   "source": [
    "est = json.loads(r.content.decode())\n",
    "for regregion in est[0]['RegressionRegions']:\n",
    "    for p in regregion['Parameters']:\n",
    "        if p['Code'] in use_codes.keys():\n",
    "            p['Value'] = use_codes[p['Code']]\n",
    "            #print(p['Code'], p['Value'], use_codes[p['Code']] )\n",
    "#print(\"updated est\")"
   ]
  },
  {
   "cell_type": "code",
   "execution_count": 21,
   "metadata": {},
   "outputs": [],
   "source": [
    "payload = dict()\n",
    "payload[\"Links\"] = [{\"rel\": \"self\",\n",
    "        \"Href\": Href_url,\n",
    "        \"method\": \"GET\"}] \n",
    "\n",
    "#payload"
   ]
  },
  {
   "cell_type": "code",
   "execution_count": 22,
   "metadata": {},
   "outputs": [],
   "source": [
    "for k, v in stats_groups.items():\n",
    "    payload[k] = v\n",
    "    \n",
    "payload['StatisticGroupID'] = stats_group\n",
    "#payload"
   ]
  },
  {
   "cell_type": "code",
   "execution_count": 23,
   "metadata": {},
   "outputs": [],
   "source": [
    "rr_list=[]\n",
    "for rr in est[0]['RegressionRegions']:\n",
    "    reg_code = rr['Code']\n",
    "    if reg_code.lower() in reg_codes:\n",
    "        #print(rr['Code'])\n",
    "        rr_list.append(rr)\n",
    "        rr['PercentWeight']=rr_weight[reg_code.lower()]\n",
    "        \n",
    "payload['RegressionRegions'] = rr_list"
   ]
  },
  {
   "cell_type": "code",
   "execution_count": 24,
   "metadata": {},
   "outputs": [
    {
     "data": {
      "text/plain": [
       "[{'StatisticGroupID': 2,\n",
       "  'RegressionRegions': [],\n",
       "  'Links': [{'rel': 'citations',\n",
       "    'Href': 'https://streamstats.usgs.gov/nssservices/citations?regressionregions=',\n",
       "    'method': 'GET'}]}]"
      ]
     },
     "execution_count": 24,
     "metadata": {},
     "output_type": "execute_result"
    }
   ],
   "source": [
    "peak_flow_url = f\"https://streamstats.usgs.gov/nssservices/scenarios/estimate.json?region={rcode}&statisticgroups={stats_group}&regressionregions={reg_codes}&configs={configs}\"\n",
    "r = requests.post(peak_flow_url, json=json.loads(json.dumps([payload])))\n",
    "r.json()"
   ]
  },
  {
   "cell_type": "markdown",
   "metadata": {},
   "source": [
    "# END"
   ]
  }
 ],
 "metadata": {
  "kernelspec": {
   "display_name": "Python 3",
   "language": "python",
   "name": "python3"
  },
  "language_info": {
   "codemirror_mode": {
    "name": "ipython",
    "version": 3
   },
   "file_extension": ".py",
   "mimetype": "text/x-python",
   "name": "python",
   "nbconvert_exporter": "python",
   "pygments_lexer": "ipython3",
   "version": "3.7.1"
  }
 },
 "nbformat": 4,
 "nbformat_minor": 2
}
