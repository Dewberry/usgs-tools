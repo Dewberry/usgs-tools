{
 "cells": [
  {
   "cell_type": "markdown",
   "metadata": {},
   "source": [
    "# StreamStats API Scraper\n",
    "\n",
    "#### Development Notebook"
   ]
  },
  {
   "cell_type": "code",
   "execution_count": 1,
   "metadata": {},
   "outputs": [],
   "source": [
    "import json\n",
    "import requests"
   ]
  },
  {
   "cell_type": "code",
   "execution_count": 2,
   "metadata": {},
   "outputs": [],
   "source": [
    "rcode='NY'\n",
    "xlocation= -75.58500088589655\n",
    "ylocation=  44.38826996361243 \n",
    "crs=4326\n",
    "stats_group=2\n",
    "configs=2"
   ]
  },
  {
   "cell_type": "markdown",
   "metadata": {},
   "source": [
    "#### Assign Location & Stats Group (2=Peakflow)"
   ]
  },
  {
   "cell_type": "markdown",
   "metadata": {},
   "source": [
    "#### URL Strings"
   ]
  },
  {
   "cell_type": "code",
   "execution_count": 3,
   "metadata": {},
   "outputs": [],
   "source": [
    "waterhsed_url = 'https://streamstats.usgs.gov/streamstatsservices/watershed.geojson?'\n",
    "PercentOverlay_url = 'https://gis.streamstats.usgs.gov/arcgis/rest/services/nss/regions/MapServer/exts/PercentOverlayRESTSOE/PercentOverlay'\n",
    "stats_groups_url= f\"https://streamstats.usgs.gov/nssservices/statisticgroups/{stats_group}.json?\"\n",
    "scenarios_url = \"https://streamstats.usgs.gov/nssservices/scenarios.json?\"\n",
    "parameters_url = r'https://streamstats.usgs.gov/streamstatsservices/parameters.json?'\n",
    "estimate_url = 'https://streamstats.usgs.gov/nssservices/scenarios/estimate.json?'\n",
    "Href_url = f\"https://streamstats.usgs.gov/nssservices/statisticgroups/{stats_group}\""
   ]
  },
  {
   "cell_type": "code",
   "execution_count": 4,
   "metadata": {},
   "outputs": [
    {
     "data": {
      "text/plain": [
       "dict_keys(['workspaceID', 'featurecollection', 'parameters', 'messages'])"
      ]
     },
     "execution_count": 4,
     "metadata": {},
     "output_type": "execute_result"
    }
   ],
   "source": [
    "watershed_params = {'rcode':rcode, 'xlocation': xlocation,'ylocation':ylocation, \n",
    "          'crs':crs, 'includeparameters':'true', 'includefeatures':'true', 'simplify':'true'}\n",
    "\n",
    "r = requests.get(waterhsed_url, watershed_params)\n",
    "watershed_data = json.loads(r.content.decode())\n",
    "watershed_data.keys()"
   ]
  },
  {
   "cell_type": "code",
   "execution_count": 5,
   "metadata": {},
   "outputs": [
    {
     "data": {
      "text/plain": [
       "dict_keys(['properties', 'type', 'bbox', 'geometry'])"
      ]
     },
     "execution_count": 5,
     "metadata": {},
     "output_type": "execute_result"
    }
   ],
   "source": [
    "watershed_data['featurecollection'][1]['feature']['features'][0].keys()"
   ]
  },
  {
   "cell_type": "code",
   "execution_count": 14,
   "metadata": {},
   "outputs": [
    {
     "name": "stdout",
     "output_type": "stream",
     "text": [
      "NY20190410131947877000\n"
     ]
    }
   ],
   "source": [
    "workspaceID = watershed_data['workspaceID']\n",
    "print(workspaceID)"
   ]
  },
  {
   "cell_type": "markdown",
   "metadata": {},
   "source": [
    "### Featureclass From API"
   ]
  },
  {
   "cell_type": "code",
   "execution_count": 15,
   "metadata": {},
   "outputs": [],
   "source": [
    "featurecollection = watershed_data['featurecollection']\n",
    "watershed_poly = featurecollection[1]['feature']"
   ]
  },
  {
   "cell_type": "markdown",
   "metadata": {},
   "source": [
    "#### Percent Overlay Test"
   ]
  },
  {
   "cell_type": "code",
   "execution_count": 19,
   "metadata": {},
   "outputs": [],
   "source": [
    "PercentOverlay_params = {'geometry': json.dumps(watershed_poly), 'f': 'json'}\n",
    "r = requests.post(PercentOverlay_url, PercentOverlay_params)\n",
    "PercentOverlay = r.json()"
   ]
  },
  {
   "cell_type": "code",
   "execution_count": 20,
   "metadata": {},
   "outputs": [
    {
     "data": {
      "text/plain": [
       "[{'name': 'Bankfull_Regions_1_and_2_SIR2009_5144',\n",
       "  'code': 'gc1425',\n",
       "  'percent': 100.0,\n",
       "  'areasqmeter': 2969071.5691275797,\n",
       "  'maskareasqmeter': 2969071.5691275797},\n",
       " {'name': '2006_Full_Region_1',\n",
       "  'code': 'gc1071',\n",
       "  'percent': 100.0,\n",
       "  'areasqmeter': 2969071.5691275797,\n",
       "  'maskareasqmeter': 2969071.5691275797}]"
      ]
     },
     "execution_count": 20,
     "metadata": {},
     "output_type": "execute_result"
    }
   ],
   "source": [
    "PercentOverlay"
   ]
  },
  {
   "cell_type": "markdown",
   "metadata": {},
   "source": [
    "### Quick Fix, requires testing/refinement\n",
    "\n",
    "Select group codes by keyowrd, revisit to verify. This method may provide inaccurate results"
   ]
  },
  {
   "cell_type": "code",
   "execution_count": 21,
   "metadata": {},
   "outputs": [
    {
     "data": {
      "text/plain": [
       "'gc1071'"
      ]
     },
     "execution_count": 21,
     "metadata": {},
     "output_type": "execute_result"
    }
   ],
   "source": [
    "regressionregion_codes = []\n",
    "for group in PercentOverlay:\n",
    "    group_name = group['name']\n",
    "    if '2006_Full_Region' in group_name:\n",
    "        regressionregion_codes.append(group['code'])\n",
    "        \n",
    "regressionregion_codes\n",
    "reg_codes = ','.join(regressionregion_codes)\n",
    "reg_codes"
   ]
  },
  {
   "cell_type": "code",
   "execution_count": 22,
   "metadata": {},
   "outputs": [
    {
     "data": {
      "text/plain": [
       "{'gc1071': 100.0}"
      ]
     },
     "execution_count": 22,
     "metadata": {},
     "output_type": "execute_result"
    }
   ],
   "source": [
    "rr_weight={}\n",
    "for rr in  PercentOverlay:\n",
    "    rr_code = rr['code'] \n",
    "    if rr_code in regressionregion_codes:\n",
    "        rr_weight[rr_code] = rr['percent']\n",
    "        \n",
    "rr_weight"
   ]
  },
  {
   "cell_type": "code",
   "execution_count": 23,
   "metadata": {},
   "outputs": [
    {
     "data": {
      "text/plain": [
       "{'ID': 2, 'Name': 'Peak-Flow Statistics', 'Code': 'PFS'}"
      ]
     },
     "execution_count": 23,
     "metadata": {},
     "output_type": "execute_result"
    }
   ],
   "source": [
    "stats_groups_url_params = {'region':rcode,'regressionregions':reg_codes}\n",
    "r = requests.get(stats_groups_url, json=stats_groups_url_params)\n",
    "stats_groups = r.json() \n",
    "stats_groups"
   ]
  },
  {
   "cell_type": "code",
   "execution_count": 24,
   "metadata": {},
   "outputs": [],
   "source": [
    "scenarios_url_params = {'region': rcode ,'statisticgroups': stats_group, 'regressionregions':reg_codes, 'configs': 2}\n",
    "r = requests.get(scenarios_url, data=scenarios_url_params)\n",
    "scenarios = r.json()"
   ]
  },
  {
   "cell_type": "code",
   "execution_count": 41,
   "metadata": {},
   "outputs": [
    {
     "data": {
      "text/plain": [
       "'PRECIP,STORAGE,FOREST,DRNAREA,LAGFACTOR'"
      ]
     },
     "execution_count": 41,
     "metadata": {},
     "output_type": "execute_result"
    }
   ],
   "source": [
    "rr_parameter_codes=[]\n",
    "for rr in scenarios[0]['RegressionRegions']:\n",
    "    reg_code = rr['Code']\n",
    "    if reg_code.lower() in reg_codes:\n",
    "        parameters = rr['Parameters']\n",
    "        for pp in parameters:\n",
    "            for k,v in pp.items():\n",
    "                if k == 'Code':\n",
    "                    rr_parameter_codes.append(v)\n",
    "                \n",
    "rr_parameter_codes = ','.join(list(set(rr_parameter_codes)))\n",
    "rr_parameter_codes"
   ]
  },
  {
   "cell_type": "code",
   "execution_count": 42,
   "metadata": {},
   "outputs": [
    {
     "data": {
      "text/plain": [
       "'https://streamstats.usgs.gov/streamstatsservices/parameters.json?'"
      ]
     },
     "execution_count": 42,
     "metadata": {},
     "output_type": "execute_result"
    }
   ],
   "source": [
    "parameters_url"
   ]
  },
  {
   "cell_type": "code",
   "execution_count": 44,
   "metadata": {},
   "outputs": [
    {
     "data": {
      "text/plain": [
       "{'parameters': [{'ID': 0,\n",
       "   'name': 'Drainage Area',\n",
       "   'description': 'Area that drains to a point on a stream',\n",
       "   'code': 'DRNAREA',\n",
       "   'unit': 'square miles',\n",
       "   'value': 1.15},\n",
       "  {'ID': 0,\n",
       "   'name': 'Percent Forest',\n",
       "   'description': 'Percentage of area covered by forest',\n",
       "   'code': 'FOREST',\n",
       "   'unit': 'percent',\n",
       "   'value': 84.0},\n",
       "  {'ID': 0,\n",
       "   'name': 'Lag Factor',\n",
       "   'description': 'Lag Factor as defined in SIR 2006-5112',\n",
       "   'code': 'LAGFACTOR',\n",
       "   'unit': 'dimensionless',\n",
       "   'value': 0.0571},\n",
       "  {'ID': 0,\n",
       "   'name': 'Mean Annual Precipitation',\n",
       "   'description': 'Mean Annual Precipitation',\n",
       "   'code': 'PRECIP',\n",
       "   'unit': 'inches',\n",
       "   'value': 36.3},\n",
       "  {'ID': 0,\n",
       "   'name': 'Percent Storage',\n",
       "   'description': 'Percentage of area of storage (lakes ponds reservoirs wetlands)',\n",
       "   'code': 'STORAGE',\n",
       "   'unit': 'percent',\n",
       "   'value': 12.9}],\n",
       " 'messages': ['xmlcount:28',\n",
       "  'From ApFields',\n",
       "  'count: 28',\n",
       "  'DB return count: 28',\n",
       "  'Start Time: Wed Apr 10 13:49:27 2019 Performing global parameters computation... after GetZonalTable ptable True ERROR 010159: Unable to open VAT file of e:\\\\data\\\\ny\\\\bc layers\\\\forestgr. Zonal statistics program failed ERROR 010067: Error in executing grid expression. after GetZonalTable ptable False  after GetZonalTable ptable True ERROR 010159: Unable to open VAT file of e:\\\\data\\\\ny\\\\bc layers\\\\lakegr. Zonal statistics program failed ERROR 010067: Error in executing grid expression. Succeeded at Wed Apr 10 13:49:37 2019 (Elapsed Time: 9.12 seconds)']}"
      ]
     },
     "execution_count": 44,
     "metadata": {},
     "output_type": "execute_result"
    }
   ],
   "source": [
    "parameters_params = json.dumps({'rcode': rcode, 'workspaceID':workspaceID, 'includeparameters': rr_parameter_codes})\n",
    "r = requests.get(parameters_url, json.loads(parameters_params))\n",
    "pdata = r.json()\n",
    "pdata"
   ]
  },
  {
   "cell_type": "markdown",
   "metadata": {},
   "source": [
    "*__Include error check for above cell output__*"
   ]
  },
  {
   "cell_type": "code",
   "execution_count": 45,
   "metadata": {},
   "outputs": [
    {
     "name": "stdout",
     "output_type": "stream",
     "text": [
      "DRNAREA 1.15\n",
      "FOREST 84.0\n",
      "LAGFACTOR 0.0571\n",
      "PRECIP 36.3\n",
      "STORAGE 12.9\n"
     ]
    }
   ],
   "source": [
    "use_codes={}\n",
    "for p in pdata['parameters']:\n",
    "    print(p['code'], p['value'])\n",
    "    use_codes[p['code']] = p['value']"
   ]
  },
  {
   "cell_type": "code",
   "execution_count": 49,
   "metadata": {},
   "outputs": [],
   "source": [
    "estimate_params =  {'region': rcode,'statisticgroups':2,'regressionregions':reg_codes,'configs':2}\n",
    "r = requests.get(estimate_url, data =estimate_params)\n",
    "estimate = r.json()\n",
    "est = json.loads(r.content.decode())\n",
    "\n",
    "#estimate"
   ]
  },
  {
   "cell_type": "code",
   "execution_count": 56,
   "metadata": {},
   "outputs": [],
   "source": [
    "payload = dict()\n",
    "payload[\"Links\"] = [{\"rel\": \"self\",\n",
    "        \"Href\": Href_url,\n",
    "        \"method\": \"GET\"}] \n",
    "\n",
    "#payload"
   ]
  },
  {
   "cell_type": "code",
   "execution_count": 22,
   "metadata": {},
   "outputs": [],
   "source": [
    "for k, v in stats_groups.items():\n",
    "    payload[k] = v\n",
    "    \n",
    "payload['StatisticGroupID'] = stats_group\n",
    "#payload"
   ]
  },
  {
   "cell_type": "code",
   "execution_count": 61,
   "metadata": {},
   "outputs": [],
   "source": [
    "rr_list=[]\n",
    "for rr in est[0]['RegressionRegions']:\n",
    "    reg_code = rr['Code']\n",
    "    if reg_code.lower() in reg_codes:\n",
    "        #print(rr['Code'])\n",
    "        rr_list.append(rr)\n",
    "        rr['PercentWeight']=rr_weight[reg_code.lower()]\n",
    "        \n",
    "payload['RegressionRegions'] = rr_list"
   ]
  },
  {
   "cell_type": "code",
   "execution_count": 66,
   "metadata": {},
   "outputs": [],
   "source": [
    "peak_flow_url = f\"https://streamstats.usgs.gov/nssservices/scenarios/estimate.json?region={rcode}&statisticgroups={stats_group}&regressionregions={reg_codes}&configs={configs}\"\n",
    "r = requests.post(peak_flow_url, json=json.loads(json.dumps([payload])))\n",
    "ff_json=r.json()"
   ]
  },
  {
   "cell_type": "code",
   "execution_count": 70,
   "metadata": {},
   "outputs": [
    {
     "data": {
      "text/plain": [
       "[]"
      ]
     },
     "execution_count": 70,
     "metadata": {},
     "output_type": "execute_result"
    }
   ],
   "source": [
    "ff_json[0]['RegressionRegions'][0]['Results']"
   ]
  },
  {
   "cell_type": "markdown",
   "metadata": {},
   "source": [
    "# END"
   ]
  }
 ],
 "metadata": {
  "kernelspec": {
   "display_name": "Python 3",
   "language": "python",
   "name": "python3"
  },
  "language_info": {
   "codemirror_mode": {
    "name": "ipython",
    "version": 3
   },
   "file_extension": ".py",
   "mimetype": "text/x-python",
   "name": "python",
   "nbconvert_exporter": "python",
   "pygments_lexer": "ipython3",
   "version": "3.7.1"
  }
 },
 "nbformat": 4,
 "nbformat_minor": 2
}
