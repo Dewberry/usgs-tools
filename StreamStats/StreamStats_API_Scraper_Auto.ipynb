{
 "cells": [
  {
   "cell_type": "markdown",
   "metadata": {},
   "source": [
    "## StreamStats API Scraper Automatic\n",
    "\n",
    "__Description__: Tool to automatically run the [USGS StreamStats tool](https://www.usgs.gov/mission-areas/water-resources/science/streamstats-streamflow-statistics-and-spatial-analysis-tools?qt-science_center_objects=0#qt-science_center_objects) for multiple points within a catchment and return the flow frequency curves and subcatchment boundaries.\n",
    "\n",
    "__Input__: A shapefile containing the latitude and longitude of points on the stream grid for the specified state (confluence and main stem locations).\n",
    "\n",
    "__Output__: GeoJSON file containing the delinated catchment boundary and flow frequency data for each point, as well as a CSV file containing the flow frequency data.\n",
    "\n",
    "*Authors*: sputnam@Dewberry.com & slawler@Dewberry.com"
   ]
  },
  {
   "cell_type": "markdown",
   "metadata": {},
   "source": [
    "### Load libraries and Python options:"
   ]
  },
  {
   "cell_type": "code",
   "execution_count": 1,
   "metadata": {},
   "outputs": [],
   "source": [
    "import os\n",
    "import sys\n",
    "sys.path.append('../USGStools')\n",
    "from StreamStats_API_Scraper import*\n",
    "import geopandas as gpd\n",
    "from geojson import dump"
   ]
  },
  {
   "cell_type": "markdown",
   "metadata": {},
   "source": [
    "### Specify the state abbreviation and location of the shapefile: "
   ]
  },
  {
   "cell_type": "code",
   "execution_count": 2,
   "metadata": {},
   "outputs": [],
   "source": [
    "state='WI' #The state abbreviation in uppercase\n",
    "\n",
    "path=r'C:\\Users\\sputnam\\Documents\\GitHub\\usgs-tools\\StreamStats\\results\\Kewaunee_WI' #Specify the location of the shapefile containing the lat/lon of points on the stream grid\n",
    "name='Confluences1.shp' #The name of the shapefile"
   ]
  },
  {
   "cell_type": "markdown",
   "metadata": {},
   "source": [
    "##### Load the shapefile:"
   ]
  },
  {
   "cell_type": "code",
   "execution_count": 3,
   "metadata": {},
   "outputs": [
    {
     "name": "stdout",
     "output_type": "stream",
     "text": [
      "num\n",
      "0    POINT (-87.49781885475109 44.45880879748906)\n",
      "1    POINT (-87.50268392448642 44.46236384102472)\n",
      "Name: geometry, dtype: object\n"
     ]
    }
   ],
   "source": [
    "use_epsg='4326' #Specify a consistent coordinate reference system\n",
    "\n",
    "gdf=gpd.read_file(os.path.join(path, name)) #Read the shapefile as a geopandas dataframe\n",
    "gdf=gdf.set_index('num').copy(deep=True) #Set the index to the confluence number\n",
    "\n",
    "gdf=gdf.to_crs({'init': 'epsg:{0}'.format(use_epsg)}) #Transform the coordinate reference system of the geodataframe\n",
    "\n",
    "geom=gdf.geometry #Extract the shapley geometry for the outlets in the shapefile\n",
    "\n",
    "print(geom.head(2))"
   ]
  },
  {
   "cell_type": "markdown",
   "metadata": {},
   "source": [
    "### Run the API tool for each point:"
   ]
  },
  {
   "cell_type": "code",
   "execution_count": null,
   "metadata": {},
   "outputs": [
    {
     "name": "stdout",
     "output_type": "stream",
     "text": [
      "-87.49781885475109 44.458808797489056\n",
      "Fetched Peak Flows\n",
      "-87.50268392448642 44.46236384102472\n",
      "Fetched Peak Flows\n",
      "-87.51347766080534 44.470081928571524\n",
      "Fetched Peak Flows\n",
      "-87.51936098740043 44.46856460166849\n",
      "Fetched Peak Flows\n",
      "-87.51147146865151 44.476983184922304\n",
      "Fetched Peak Flows\n",
      "-87.51566440648695 44.48590208019736\n",
      "Fetched Peak Flows\n",
      "-87.52290847978104 44.479604779744434\n",
      "Fetched Peak Flows\n",
      "-87.52356056216671 44.480457386571636\n",
      "Fetched Peak Flows\n",
      "-87.53085628015832 44.48281440137933\n",
      "Fetched Peak Flows\n",
      "-87.52697700617833 44.47743071394129\n",
      "Fetched Peak Flows\n",
      "-87.53185913774162 44.47179378143023\n",
      "Fetched Peak Flows\n",
      "-87.53750692702357 44.48729282525018\n",
      "Fetched Peak Flows\n",
      "-87.53719088889065 44.46861849584873\n",
      "Fetched Peak Flows\n",
      "-87.53660598576154 44.46722956348235\n",
      "Line 28: Expecting value: line 1 column 1 (char 0\n",
      "while loop: watershed_data count: 1\n",
      "Fetched Peak Flows\n",
      "-87.53434045303574 44.46411163741862\n",
      "Fetched Peak Flows\n",
      "-87.54195793255838 44.47297681040432\n",
      "Fetched Peak Flows\n",
      "-87.54105064034158 44.48021856852326\n",
      "Fetched Peak Flows\n",
      "-87.54801355164471 44.457952145421885\n",
      "Fetched Peak Flows\n",
      "-87.54492779592036 44.455323030795945\n",
      "Fetched Peak Flows\n",
      "-87.55218062319531 44.454972802795204\n",
      "Fetched Peak Flows\n",
      "-87.55862878308422 44.461059148106656\n",
      "Fetched Peak Flows\n",
      "-87.55954933375695 44.459765876419844\n",
      "Fetched Peak Flows\n",
      "-87.55833761552417 44.45428231896077\n",
      "Fetched Peak Flows\n",
      "-87.56011919624237 44.45520635782186\n",
      "Fetched Peak Flows\n",
      "-87.5576822814759 44.465594828006836\n",
      "Fetched Peak Flows\n",
      "-87.56364700313704 44.46948757645551\n",
      "Fetched Peak Flows\n",
      "-87.5681571019389 44.46679974719121\n",
      "Fetched Peak Flows\n",
      "-87.56598905693733 44.475042867338004\n",
      "Fetched Peak Flows\n",
      "-87.56664964993548 44.47886954045342\n",
      "Fetched Peak Flows\n",
      "-87.56354445222983 44.48245755618557\n"
     ]
    }
   ],
   "source": [
    "pp_dic = {} #Dictionary to store the outlet flow frequency data dictionaries\n",
    "\n",
    "watershed_poly_dic= {} #Dictionary to store the catchment polygons (catchment boundaries)\n",
    "\n",
    "pp_fail=[] #List to store outlet locations whose flow frequency/catchment polygons were not calculated\n",
    "\n",
    "pp_dic, watershed_poly_dic=snappoint_analysis(geom, state, status=True) #Run the snappoint function for all catchment outlets within the shapefile and for the specified state. Option: set status=False to hide print statements"
   ]
  },
  {
   "cell_type": "markdown",
   "metadata": {},
   "source": [
    "### Construct a summary table of the flow frequency data for each outlet:\n",
    "##### (Skip for WI)"
   ]
  },
  {
   "cell_type": "code",
   "execution_count": null,
   "metadata": {},
   "outputs": [],
   "source": [
    "ffdata=ff_summary(pp_dic) #Run this function to construct the summary table for all outlet locations"
   ]
  },
  {
   "cell_type": "markdown",
   "metadata": {},
   "source": [
    "###  Save the results:"
   ]
  },
  {
   "cell_type": "markdown",
   "metadata": {},
   "source": [
    "##### As a CSV (Skip for WI):"
   ]
  },
  {
   "cell_type": "code",
   "execution_count": null,
   "metadata": {},
   "outputs": [],
   "source": [
    "ffdata.to_csv(os.path.join(path,'StreamStats_FlowFrequency.csv')) #Save the results as a csv"
   ]
  },
  {
   "cell_type": "markdown",
   "metadata": {},
   "source": [
    "##### As a geojson:"
   ]
  },
  {
   "cell_type": "code",
   "execution_count": null,
   "metadata": {},
   "outputs": [],
   "source": [
    "for i in pp_dic.keys():\n",
    "    watershed_poly_dic[i]['features'][0]['ffcurve']=pp_dic[i]\n",
    "    \n",
    "with open(os.path.join(path,'StreamStats_Polygons.geojson'), 'w') as f:\n",
    "   dump(watershed_poly_dic, f)        "
   ]
  },
  {
   "cell_type": "markdown",
   "metadata": {},
   "source": [
    "# END"
   ]
  }
 ],
 "metadata": {
  "kernelspec": {
   "display_name": "Python 3",
   "language": "python",
   "name": "python3"
  },
  "language_info": {
   "codemirror_mode": {
    "name": "ipython",
    "version": 3
   },
   "file_extension": ".py",
   "mimetype": "text/x-python",
   "name": "python",
   "nbconvert_exporter": "python",
   "pygments_lexer": "ipython3",
   "version": "3.7.1"
  }
 },
 "nbformat": 4,
 "nbformat_minor": 2
}
