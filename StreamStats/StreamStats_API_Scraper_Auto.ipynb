{
 "cells": [
  {
   "cell_type": "markdown",
   "metadata": {},
   "source": [
    "## StreamStats API Scraper Automatic\n",
    "\n",
    "__Description__: Tool to automatically run the [USGS StreamStats tool](https://www.usgs.gov/mission-areas/water-resources/science/streamstats-streamflow-statistics-and-spatial-analysis-tools?qt-science_center_objects=0#qt-science_center_objects) for multiple points within a catchment and return the flow frequency curves and subcatchment boundaries.\n",
    "\n",
    "__Input__: A shapefile containing the latitude and longitude of points on the stream grid for the specified state (confluence and main stem locations).\n",
    "\n",
    "__Output__: GeoJSON file containing the delinated catchment boundary and flow frequency data for each point, as well as a CSV file containing the flow frequency data.\n",
    "\n",
    "*Authors*: sputnam@Dewberry.com & slawler@Dewberry.com"
   ]
  },
  {
   "cell_type": "markdown",
   "metadata": {},
   "source": [
    "### Load libraries and Python options:"
   ]
  },
  {
   "cell_type": "code",
   "execution_count": 1,
   "metadata": {},
   "outputs": [],
   "source": [
    "import os\n",
    "import re\n",
    "import sys\n",
    "sys.path.append('../USGStools')\n",
    "from StreamStats_API_Scraper import*\n",
    "import geopandas as gpd\n",
    "from geojson import dump"
   ]
  },
  {
   "cell_type": "markdown",
   "metadata": {},
   "source": [
    "### Specify the state abbreviation and location of the shapefile: "
   ]
  },
  {
   "cell_type": "markdown",
   "metadata": {},
   "source": [
    "##### Specify:"
   ]
  },
  {
   "cell_type": "code",
   "execution_count": 2,
   "metadata": {},
   "outputs": [],
   "source": [
    "state='NY' #The state abbreviation in uppercase\n",
    "\n",
    "path=r'C:\\Users\\sputnam\\Documents\\GitHub\\usgs-tools\\StreamStats\\results\\04150303' #Specify the location of the shapefile containing the lat/lon of points on the stream grid\n",
    "\n",
    "name='04150303_Confluences_Scoped.shp' #The name of the shapefile\n",
    "\n",
    "use_epsg='4326' #Specify a consistent coordinate reference system\n",
    "\n",
    "allresults=os.path.join(path,'AllStreamStats') #Location to save the StreamStats results for each polygon\n",
    "\n",
    "if os.path.isdir(allresults)==False: #If the desired path does not exist, create it.\n",
    "    os.mkdir(allresults)    "
   ]
  },
  {
   "cell_type": "markdown",
   "metadata": {},
   "source": [
    "##### Load the shapefile:"
   ]
  },
  {
   "cell_type": "code",
   "execution_count": 3,
   "metadata": {},
   "outputs": [
    {
     "name": "stdout",
     "output_type": "stream",
     "text": [
      "num\n",
      "0    POINT (-75.47503709579541 44.62285051746835)\n",
      "1    POINT (-75.48063360291154 44.61364452521327)\n",
      "Name: geometry, dtype: object\n"
     ]
    }
   ],
   "source": [
    "gdf=gpd.read_file(os.path.join(path, name)) #Read the shapefile as a geopandas dataframe\n",
    "\n",
    "gdf=gdf.set_index('num').copy(deep=True) #Set the index to the confluence number\n",
    "\n",
    "gdf=gdf.to_crs({'init': 'epsg:{0}'.format(use_epsg)}) #Transform the coordinate reference system of the geodataframe\n",
    "\n",
    "geom=gdf.geometry #Extract the shapley geometry for the outlets in the shapefile\n",
    "\n",
    "print(geom.head(2))"
   ]
  },
  {
   "cell_type": "markdown",
   "metadata": {},
   "source": [
    "### Run the API tool for each point:"
   ]
  },
  {
   "cell_type": "code",
   "execution_count": null,
   "metadata": {},
   "outputs": [
    {
     "name": "stdout",
     "output_type": "stream",
     "text": [
      "Lat/Lon/Index: 44.38826996361243 -75.58500088589655 296\n",
      "Fetched Peak Flows\n",
      "Lat/Lon/Index: 44.553540387226015 -75.45042505997195 297\n",
      "Fetched Peak Flows\n",
      "Lat/Lon/Index: 44.55291171124255 -75.45004249996724 298\n",
      "Fetched Peak Flows\n",
      "Lat/Lon/Index: 44.54156376458063 -75.45121385985014 299\n",
      "Line 28: Expecting value: line 1 column 1 (char 0\n",
      "while loop: watershed_data count: 1\n",
      "Fetched Peak Flows\n",
      "Lat/Lon/Index: 44.54183234326578 -75.45159357341575 300\n",
      "Fetched Peak Flows\n",
      "Lat/Lon/Index: 44.444189300797106 -75.52712223866489 301\n",
      "Fetched Peak Flows\n",
      "Lat/Lon/Index: 44.41606538094875 -75.74379708621055 302\n",
      "Fetched Peak Flows\n",
      "Lat/Lon/Index: 44.54663419492093 -75.44382551563056 303\n",
      "Fetched Peak Flows\n",
      "Lat/Lon/Index: 44.51274451554173 -75.4760290255593 304\n",
      "Fetched Peak Flows\n",
      "Lat/Lon/Index: 44.55992807826284 -75.45148168989718 305\n",
      "Fetched Peak Flows\n",
      "Lat/Lon/Index: 44.555166759539944 -75.44892670438938 306\n",
      "Fetched Peak Flows\n",
      "Lat/Lon/Index: 44.547559683296576 -75.4372861621211 307\n",
      "Fetched Peak Flows\n",
      "Lat/Lon/Index: 44.548009802310496 -75.43728953220597 308\n",
      "Fetched Peak Flows\n",
      "Lat/Lon/Index: 44.404748715681045 -75.54799184638344 309\n",
      "Line 28: Expecting value: line 1 column 1 (char 0\n",
      "while loop: watershed_data count: 1\n",
      "Fetched Peak Flows\n",
      "Lat/Lon/Index: 44.37883023717845 -75.58239628697059 310\n",
      "Fetched Peak Flows\n",
      "Lat/Lon/Index: 44.55868459231473 -75.44719092888192 311\n",
      "Fetched Peak Flows\n",
      "Lat/Lon/Index: 44.544782862605096 -75.43361467783286 312\n",
      "Line 28: Expecting value: line 1 column 1 (char 0\n",
      "while loop: watershed_data count: 1\n",
      "Fetched Peak Flows\n",
      "Lat/Lon/Index: 44.38436051786565 -75.57479307305978 313\n",
      "Line 28: Expecting value: line 1 column 1 (char 0\n",
      "while loop: watershed_data count: 1\n",
      "Fetched Peak Flows\n",
      "Lat/Lon/Index: 44.38463059129206 -75.57479571584855 314\n",
      "Fetched Peak Flows\n",
      "Lat/Lon/Index: 44.37729726035187 -75.58288319769092 315\n",
      "Fetched Peak Flows\n",
      "Lat/Lon/Index: 44.56278578215409 -75.45729633548942 316\n",
      "Fetched Peak Flows\n",
      "Lat/Lon/Index: 44.399513396971045 -75.55083118179846 317\n",
      "Fetched Peak Flows\n",
      "Lat/Lon/Index: 44.56608972440987 -75.46399661608494 318\n",
      "Fetched Peak Flows\n",
      "Lat/Lon/Index: 44.56617718786852 -75.4646269723092 319\n",
      "Fetched Peak Flows\n",
      "Lat/Lon/Index: 44.50593637248238 -75.48930866897716 320\n",
      "Fetched Peak Flows\n",
      "Lat/Lon/Index: 44.50424736522766 -75.48426258931057 321\n",
      "Fetched Peak Flows\n",
      "Lat/Lon/Index: 44.567779071239585 -75.46917340747875 322\n",
      "Fetched Peak Flows\n",
      "Lat/Lon/Index: 44.568211825467415 -75.42774375111243 323\n",
      "Fetched Peak Flows\n",
      "Lat/Lon/Index: 44.39569517116682 -75.55845488316712 324\n",
      "Fetched Peak Flows\n",
      "Lat/Lon/Index: 44.51142080260795 -75.49099014041091 325\n",
      "Fetched Peak Flows\n",
      "Lat/Lon/Index: 44.51169087368227 -75.49099240791973 326\n",
      "Fetched Peak Flows\n",
      "Lat/Lon/Index: 44.50285389643911 -75.49431471531018 327\n",
      "Line 28: Expecting value: line 1 column 1 (char 0\n",
      "while loop: watershed_data count: 1\n",
      "Fetched Peak Flows\n",
      "Lat/Lon/Index: 44.507775217730085 -75.45837568738234 328\n",
      "Fetched Peak Flows\n",
      "Lat/Lon/Index: 44.391804401331484 -75.56243572536842 329\n",
      "Line 28: Expecting value: line 1 column 1 (char 0\n",
      "while loop: watershed_data count: 1\n",
      "Fetched Peak Flows\n",
      "Lat/Lon/Index: 44.567867023935065 -75.46967785782785 330\n",
      "Fetched Peak Flows\n",
      "Lat/Lon/Index: 44.50661044839841 -75.45698271665974 331\n",
      "Fetched Peak Flows\n",
      "Lat/Lon/Index: 44.5670516305876 -75.47093063692249 332\n",
      "Fetched Peak Flows\n",
      "Lat/Lon/Index: 44.56796190674747 -75.42232666940671 333\n",
      "Fetched Peak Flows\n",
      "Lat/Lon/Index: 44.56832153563369 -75.42245520854527 334\n",
      "Fetched Peak Flows\n",
      "Lat/Lon/Index: 44.49950222992227 -75.49906636081494 335\n",
      "Fetched Peak Flows\n",
      "Lat/Lon/Index: 44.499752557928794 -75.48271591286041 336\n",
      "Fetched Peak Flows\n",
      "Lat/Lon/Index: 44.50533950912611 -75.45961461079581 337\n",
      "Fetched Peak Flows\n",
      "Lat/Lon/Index: 44.50048864047167 -75.4999553103445 338\n",
      "Fetched Peak Flows\n",
      "Lat/Lon/Index: 44.50012854548186 -75.49995223301954 339\n",
      "Fetched Peak Flows\n",
      "Lat/Lon/Index: 44.4910872939797 -75.50867891948499 340\n",
      "Line 28: Expecting value: line 1 column 1 (char 0\n",
      "while loop: watershed_data count: 1\n",
      "Fetched Peak Flows\n",
      "Lat/Lon/Index: 44.499875657799315 -75.45265326775568 341\n",
      "Fetched Peak Flows\n",
      "Lat/Lon/Index: 44.570776210265535 -75.41592398702628 342\n",
      "Fetched Peak Flows\n",
      "Lat/Lon/Index: 44.485052335475956 -75.50938101559589 343\n",
      "Fetched Peak Flows\n",
      "Lat/Lon/Index: 44.49565035564141 -75.4946311960179 344\n",
      "Fetched Peak Flows\n",
      "Lat/Lon/Index: 44.49972584516263 -75.46749521726959 345\n",
      "Fetched Peak Flows\n",
      "Lat/Lon/Index: 44.49998972945456 -75.4690068013963 346\n",
      "Fetched Peak Flows\n",
      "Lat/Lon/Index: 44.49317709849744 -75.46178302218186 347\n",
      "Fetched Peak Flows\n",
      "Lat/Lon/Index: 44.499623441070604 -75.44812291810312 348\n",
      "Line 28: Expecting value: line 1 column 1 (char 0\n",
      "while loop: watershed_data count: 1\n",
      "while loop: watershed_data count: 2\n",
      "Fetched Peak Flows\n",
      "Lat/Lon/Index: 44.49375698743652 -75.51561981792803 349\n",
      "Fetched Peak Flows\n",
      "Lat/Lon/Index: 44.4819898405152 -75.5097316195195 350\n",
      "Fetched Peak Flows\n",
      "Lat/Lon/Index: 44.496390826445584 -75.46847482499469 351\n",
      "Line 28: Expecting value: line 1 column 1 (char 0\n",
      "while loop: watershed_data count: 1\n",
      "while loop: watershed_data count: 2\n",
      "Fetched Peak Flows\n",
      "Lat/Lon/Index: 44.509066097359785 -75.45071144665138 352\n",
      "Fetched Peak Flows\n",
      "Lat/Lon/Index: 44.55870520953299 -75.41797855701907 353\n",
      "Fetched Peak Flows\n",
      "Lat/Lon/Index: 44.494843406141364 -75.49386970332547 354\n",
      "Fetched Peak Flows\n",
      "Lat/Lon/Index: 44.510411987097974 -75.45185412747603 355\n",
      "Fetched Peak Flows\n",
      "Lat/Lon/Index: 44.49213372174672 -75.47472938010591 356\n",
      "Fetched Peak Flows\n",
      "Lat/Lon/Index: 44.48738271493474 -75.46978610471545 357\n",
      "Fetched Peak Flows\n",
      "Lat/Lon/Index: 44.48851542803212 -75.47885027342487 358\n",
      "Fetched Peak Flows\n",
      "Lat/Lon/Index: 44.49553004455766 -75.5216728828863 359\n",
      "Fetched Peak Flows\n",
      "Lat/Lon/Index: 44.51928296361506 -75.43946540164701 360\n",
      "Fetched Peak Flows\n",
      "Lat/Lon/Index: 44.472440556827074 -75.51115725545475 361\n",
      "Fetched Peak Flows\n",
      "Lat/Lon/Index: 44.48444686445838 -75.4829669439131 362\n",
      "Fetched Peak Flows\n",
      "Lat/Lon/Index: 44.51865703193609 -75.48299780113751 363\n",
      "Fetched Peak Flows\n",
      "Lat/Lon/Index: 44.46604434210964 -75.51210716652528 364\n",
      "Fetched Peak Flows\n",
      "Lat/Lon/Index: 44.4641362968188 -75.515987575127 365\n",
      "Fetched Peak Flows\n",
      "Lat/Lon/Index: 44.46269818147745 -75.5154720695699 366\n",
      "Fetched Peak Flows\n",
      "Lat/Lon/Index: 44.464623597972334 -75.50769476820626 367\n",
      "Line 28: Expecting value: line 1 column 1 (char 0\n",
      "while loop: watershed_data count: 1\n",
      "Fetched Peak Flows\n",
      "Lat/Lon/Index: 44.4630525977962 -75.51673229085503 368\n",
      "Fetched Peak Flows\n",
      "Lat/Lon/Index: 44.47909191473421 -75.49310808781999 369\n",
      "Fetched Peak Flows\n",
      "Lat/Lon/Index: 44.47908865506724 -75.49386252852906 370\n",
      "Line 28: Expecting value: line 1 column 1 (char 0\n",
      "while loop: watershed_data count: 1\n",
      "Fetched Peak Flows\n",
      "Lat/Lon/Index: 44.501949699941875 -75.51556623081206 371\n",
      "Fetched Peak Flows\n",
      "Lat/Lon/Index: 44.46446091702406 -75.52378465780414 372\n",
      "Line 28: Expecting value: line 1 column 1 (char 0\n",
      "while loop: watershed_data count: 1\n",
      "Fetched Peak Flows\n",
      "Lat/Lon/Index: 44.46860144193328 -75.52394740855725 373\n"
     ]
    }
   ],
   "source": [
    "polyg={} #Dictionary to store the catchment polygons (catchment boundaries) \n",
    "\n",
    "ffdata={} #Dictionary to store the outlet flow frequency data dictionaries\n",
    "\n",
    "get_flow=True\n",
    "print_status=True\n",
    "\n",
    "if state=='WI': get_flow=False \n",
    "\n",
    "start=296 #The confluence number to start. Normally set to zero unless there was an issue\n",
    "for i, xy in enumerate(geom[start:]): #For gdf.geometry:\n",
    "    j=i+start\n",
    "    lon, lat = xy.x, xy.y #Longitude and latitude for each shapely point\n",
    "    if print_status: print(\"Lat/Lon/Index:\", lat, lon, j)\n",
    "    polyg[j], ff_json  = SS_scrape(state, lon, lat, use_epsg, print_status) #Run the SS_scrape function. Option: set status=False to hide print statements\n",
    "    if get_flow: \n",
    "        ffdata[j]= get_peaks(ff_json) #Use the function above to extract the json data\n",
    "        polyg[j]['features'][0]['ffcurve']=ffdata[j]\n",
    "    with open(os.path.join(allresults,'StreamStats_Polygons_{0}.geojson'.format(gdf.index[j])), 'w') as f:\n",
    "       dump(polyg[j], f)       "
   ]
  },
  {
   "cell_type": "markdown",
   "metadata": {},
   "source": [
    "### Load the results:"
   ]
  },
  {
   "cell_type": "code",
   "execution_count": null,
   "metadata": {},
   "outputs": [],
   "source": [
    "poly_files=[] #Empty list to store the geojson paths\n",
    "\n",
    "poly_files=load_all_results(allresults)\n",
    "\n",
    "gdf=gpd.GeoDataFrame(crs={'init': 'epsg:{}'.format(use_epsg)})\n",
    "                          \n",
    "for _,filename in enumerate(poly_files):\n",
    "    num=re.findall('\\d+', filename)\n",
    "    temp_df=gpd.read_file(filename)\n",
    "    temp_df['ID_Num']=int(num[-1])\n",
    "    gdf=gdf.append(temp_df.iloc[0])"
   ]
  },
  {
   "cell_type": "markdown",
   "metadata": {},
   "source": [
    "###  Save:"
   ]
  },
  {
   "cell_type": "markdown",
   "metadata": {},
   "source": [
    "##### The flow frequency data as a CSV:"
   ]
  },
  {
   "cell_type": "code",
   "execution_count": null,
   "metadata": {},
   "outputs": [],
   "source": [
    "if get_flow: ffdata_df=ff_summary(ffdata) #Run this function to construct the summary table for all outlet locations\n",
    "    \n",
    "if get_flow: ffdata_df.to_csv(os.path.join(path,'StreamStats_FlowFrequency.csv')) #Save the results as a csv"
   ]
  },
  {
   "cell_type": "markdown",
   "metadata": {},
   "source": [
    "##### The catchment polygons as a Shapefile:"
   ]
  },
  {
   "cell_type": "code",
   "execution_count": null,
   "metadata": {},
   "outputs": [],
   "source": [
    "gdf.to_file(filename = os.path.join(path,'StreamStats_Polygons.shp')) #Export the geodataframe as a shapefile"
   ]
  },
  {
   "cell_type": "markdown",
   "metadata": {},
   "source": [
    "##### The catchment polygons as a geojson:"
   ]
  },
  {
   "cell_type": "code",
   "execution_count": null,
   "metadata": {},
   "outputs": [],
   "source": [
    "with open(os.path.join(path,'StreamStats_Polygons.geojson'), 'w') as f:\n",
    "     dump(gdf, f)  "
   ]
  },
  {
   "cell_type": "markdown",
   "metadata": {},
   "source": [
    "# END"
   ]
  }
 ],
 "metadata": {
  "kernelspec": {
   "display_name": "Python 3",
   "language": "python",
   "name": "python3"
  },
  "language_info": {
   "codemirror_mode": {
    "name": "ipython",
    "version": 3
   },
   "file_extension": ".py",
   "mimetype": "text/x-python",
   "name": "python",
   "nbconvert_exporter": "python",
   "pygments_lexer": "ipython3",
   "version": "3.7.1"
  }
 },
 "nbformat": 4,
 "nbformat_minor": 2
}
