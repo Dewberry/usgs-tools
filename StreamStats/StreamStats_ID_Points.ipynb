{
 "cells": [
  {
   "cell_type": "markdown",
   "metadata": {},
   "source": [
    "## Identify Points for StreamStats\n",
    "\n",
    "__Description__: Tool to identify confluence pair points for tributaries of a specific length, add points to the main stem of a stream network at a specific distance interval, and export a shapefile of the points.\n",
    "\n",
    "__Input__: Stream grid from the [SteamStats Repository](https://streamstatsags.cr.usgs.gov/StreamGrids/directoryBrowsing.asp), masked using `ClipRaster_withMask.ipynb` and the latitude and longitude of the catchment outlet.\n",
    "\n",
    "__Output__: A shapefile containing the latitude and longitude of points on the stream grid (confluence and main stem locations).\n",
    "\n",
    "\n",
    "*Authors*: sputnam@Dewberry.com & slawler@Dewberry.com"
   ]
  },
  {
   "cell_type": "markdown",
   "metadata": {},
   "source": [
    "### Load libraries and Python options:"
   ]
  },
  {
   "cell_type": "code",
   "execution_count": null,
   "metadata": {},
   "outputs": [],
   "source": [
    "import os\n",
    "import sys\n",
    "sys.path.append('../USGStools')\n",
    "from StreamStats_ID_Points import*\n",
    "import ID_Confluences\n",
    "import Calc_Distance"
   ]
  },
  {
   "cell_type": "markdown",
   "metadata": {},
   "source": [
    "### Load the clipped stream grid, specify the catchment outlet, and the tributary exclusion distance:"
   ]
  },
  {
   "cell_type": "markdown",
   "metadata": {},
   "source": [
    "##### Specify:"
   ]
  },
  {
   "cell_type": "code",
   "execution_count": null,
   "metadata": {},
   "outputs": [],
   "source": [
    "path=r'C:\\Users\\sputnam\\Documents\\GitHub\\usgs-tools\\StreamStats\\results\\Kewaunee_WI' #Specify the location of the stream grid raster which was masked by the catchment polygon\n",
    "name='Kewaunee_WI1.tif' #The name of the stream grid raster\n",
    "\n",
    "#lat=2415628.9 #[m]; latitude of the catchment outlet\n",
    "#lon=673981.6 #[m]; longitude of the catchment outlet \n",
    "lat=2434139.6 #[m]; latitude of the catchment outlet\n",
    "lon=677162.2 #[m]; longitude of the catchment outlet \n",
    "\n",
    "disexl=(5280/2.0)*(0.3048) #[m]; Tributary exclusion distance"
   ]
  },
  {
   "cell_type": "markdown",
   "metadata": {},
   "source": [
    "##### Load the stream grid:"
   ]
  },
  {
   "cell_type": "code",
   "execution_count": null,
   "metadata": {},
   "outputs": [],
   "source": [
    "sg = StreamGrid(os.path.join(path, name)) #Open the stream grid raster and create an object\n",
    "\n",
    "crs=sg.crs_value() #Extract the coordinate reference system value (epsg) for the raster\n",
    "print(\"epsg:\",crs) \n",
    "\n",
    "df = sg.dataframe() #Create a dataframe from the stream grid data\n",
    "\n",
    "df.replace(255, 0, inplace=True) #Potential Issue: Replace 255 with 0, where 255 corresponds to the non-stream cells\n",
    "df.head(n=2) "
   ]
  },
  {
   "cell_type": "markdown",
   "metadata": {},
   "source": [
    "##### Convert the catchment outlet's lat/lon to row/column in the stream grid dataframe and extract the cell size:"
   ]
  },
  {
   "cell_type": "code",
   "execution_count": null,
   "metadata": {},
   "outputs": [],
   "source": [
    "pix_x, pix_y =coord2index(sg, lat, lon) #Transform the lat and lon values to the row/column location with the stream grid dataframe\n",
    "pourpoint=[(pix_x, pix_y)] #Add these values to a list as a touple\n",
    "print(\"Pourpoint XY:\", pourpoint)\n",
    "\n",
    "cellsize=sg.cell_size() # [m]; Raster cell size\n",
    "print(\"The Cell Size:\", cellsize)"
   ]
  },
  {
   "cell_type": "markdown",
   "metadata": {},
   "source": [
    "### Move up the stream and identify the confluences:"
   ]
  },
  {
   "cell_type": "code",
   "execution_count": null,
   "metadata": {},
   "outputs": [],
   "source": [
    "save_confluence, confluence_pairs_orig, nogo=ID_Confluences.main(pourpoint, df) #Function that moves up a stream network from the pourpoint and identifies the confluence pairs\n",
    "\n",
    "print(\"Number of points identified:\", len(save_confluence))"
   ]
  },
  {
   "cell_type": "markdown",
   "metadata": {},
   "source": [
    "### Remove superflous confluences:"
   ]
  },
  {
   "cell_type": "code",
   "execution_count": null,
   "metadata": {},
   "outputs": [],
   "source": [
    "true_confluence, false_confluence=Remove_False_Confluence(save_confluence) #A false confluence is where there are not two points with the same confluence number\n",
    "\n",
    "print(\"Number of true confluence points:\", len(true_confluence))"
   ]
  },
  {
   "cell_type": "markdown",
   "metadata": {},
   "source": [
    "##### Identify all stream cells associated with the false confluences:"
   ]
  },
  {
   "cell_type": "code",
   "execution_count": null,
   "metadata": {},
   "outputs": [],
   "source": [
    "false_points=ID_False_ConfluenceLocs(false_confluence, nogo) #Identify all the cells in nogo associated with the false confluence"
   ]
  },
  {
   "cell_type": "markdown",
   "metadata": {},
   "source": [
    "##### Remove any original confluences associated with the false confluences:"
   ]
  },
  {
   "cell_type": "code",
   "execution_count": null,
   "metadata": {},
   "outputs": [],
   "source": [
    "confluence_pairs_orig=Remove_False_From_Orig(false_confluence, confluence_pairs_orig) #Remove any original confluences that are associated with the false confluences"
   ]
  },
  {
   "cell_type": "markdown",
   "metadata": {},
   "source": [
    "### Calculate the tributary length:"
   ]
  },
  {
   "cell_type": "code",
   "execution_count": null,
   "metadata": {},
   "outputs": [],
   "source": [
    "tributary, mainstem, nogoabs=Calc_Distance.main(df, cellsize, true_confluence, false_points, confluence_pairs_orig) #Calculate the tributary length and length between the points on the main stem\n",
    "\n",
    "print(\"Total Confluence Points:\", (len(mainstem)+len(tributary)), \"Main Stem Points:\", len(mainstem))"
   ]
  },
  {
   "cell_type": "markdown",
   "metadata": {},
   "source": [
    "##### Remove confluences with tributaries or intervals less than a specific length:"
   ]
  },
  {
   "cell_type": "code",
   "execution_count": null,
   "metadata": {},
   "outputs": [],
   "source": [
    "incl_tribs=Exclude_Confls(tributary, disexl) #Exclude tributaries or main stem intervals less than the exclusion distance\n",
    "\n",
    "print(\"# of Tributary Points:\", len(incl_tribs))        "
   ]
  },
  {
   "cell_type": "code",
   "execution_count": null,
   "metadata": {},
   "outputs": [],
   "source": [
    "incl_mainstem=Exclude_Confls(mainstem, disexl/2.) #Note that this is a temporary fix until the distance calculation is fixed so that it adds up excluded tribs.\n",
    "\n",
    "incl_mainstem.append((pourpoint[0]+(0,0,))) #Add in the original catchment outlet\n",
    "\n",
    "print(\"# of Main Stem Points:\", len(incl_mainstem))   "
   ]
  },
  {
   "cell_type": "markdown",
   "metadata": {},
   "source": [
    "##### Add labels to differentiate between the mainstem and the tributaries and combine:"
   ]
  },
  {
   "cell_type": "code",
   "execution_count": null,
   "metadata": {},
   "outputs": [],
   "source": [
    "mainstem_withlabel=[] #Empty list to store the labeled main stem points\n",
    "tributary_withlabel=[] #Empty list to store the labeled tributary points \n",
    "\n",
    "for cell in incl_mainstem: #Add a \"M\" to the tuple to indicate that the cell is a main stem location\n",
    "    mainstem_withlabel.append(cell+('M',))\n",
    "    \n",
    "for cell in incl_tribs: #Add a \"T\" to the tuple to indicate that the cell is a tributary location\n",
    "    tributary_withlabel.append(cell+('T',))\n",
    "    \n",
    "export_confluences=mainstem_withlabel+tributary_withlabel #Combine the main stem and tributary lists into a singe list    "
   ]
  },
  {
   "cell_type": "markdown",
   "metadata": {},
   "source": [
    "### Save the results:"
   ]
  },
  {
   "cell_type": "markdown",
   "metadata": {},
   "source": [
    "##### Extract the confluence number, distance, and type of confluence:"
   ]
  },
  {
   "cell_type": "code",
   "execution_count": null,
   "metadata": {},
   "outputs": [],
   "source": [
    "export_cnum=[] #Empty list to store the confluence number\n",
    "export_dis=[] #Empty list to store the distance\n",
    "export_type=[] #Empty list to store the point type\n",
    "\n",
    "for cell in export_confluences: #Store the confluence number, distance, and point type.\n",
    "    export_cnum.append(cell[2])\n",
    "    export_dis.append(cell[3])    \n",
    "    export_type.append(cell[4])"
   ]
  },
  {
   "cell_type": "markdown",
   "metadata": {},
   "source": [
    "##### Transform and save as a shapefile:"
   ]
  },
  {
   "cell_type": "code",
   "execution_count": null,
   "metadata": {},
   "outputs": [],
   "source": [
    "longitude, latitude=index2coord(sg, export_confluences)  #Transform the row/column value to latitude/longitude for each confluence\n",
    "\n",
    "gdf=geodataframe(longitude, latitude, crs, export_cnum, export_dis, export_type) #Store the longitude/latitude, confluence number, distance, and type for each confluence in a geodataframe\n",
    "\n",
    "gdf.to_file(filename = os.path.join(path,'Confluences.shp')) #Export the geodataframe as a shapefule"
   ]
  },
  {
   "cell_type": "markdown",
   "metadata": {},
   "source": [
    "# End"
   ]
  }
 ],
 "metadata": {
  "kernelspec": {
   "display_name": "Python 3",
   "language": "python",
   "name": "python3"
  },
  "language_info": {
   "codemirror_mode": {
    "name": "ipython",
    "version": 3
   },
   "file_extension": ".py",
   "mimetype": "text/x-python",
   "name": "python",
   "nbconvert_exporter": "python",
   "pygments_lexer": "ipython3",
   "version": "3.7.1"
  }
 },
 "nbformat": 4,
 "nbformat_minor": 2
}
