{
 "cells": [
  {
   "cell_type": "markdown",
   "metadata": {},
   "source": [
    "# Development Notebooks\n",
    "\n",
    "## Create Points for StreamStats\n",
    "\n",
    "Usage Notes:\n",
    "\n",
    "\n",
    "Outputs:\n",
    "\n",
    "\n",
    "by Seth Lawler: slawler@dewberry.com & Shane Putnam: sputnam@dewberry.com"
   ]
  },
  {
   "cell_type": "code",
   "execution_count": 1,
   "metadata": {},
   "outputs": [],
   "source": [
    "import os\n",
    "from osgeo import gdal, ogr\n",
    "import pandas as pd\n",
    "import geopandas as gpd\n",
    "import rasterio\n",
    "from rasterio.plot import show\n",
    "from rasterio.mask import mask"
   ]
  },
  {
   "cell_type": "markdown",
   "metadata": {},
   "source": [
    "#### Load the Stream Grid:"
   ]
  },
  {
   "cell_type": "code",
   "execution_count": 2,
   "metadata": {},
   "outputs": [],
   "source": [
    "in_tif=r'C:\\Users\\sputnam\\Documents\\GitHub\\usgs-tools\\results\\rock_creek_clip.tif'"
   ]
  },
  {
   "cell_type": "markdown",
   "metadata": {},
   "source": [
    "### Specify the Catchment Outlet:"
   ]
  },
  {
   "cell_type": "code",
   "execution_count": 4,
   "metadata": {},
   "outputs": [],
   "source": [
    "class StreamGrid(object):\n",
    "    '''FlowAccGrid class designed to read in flow accumulation grids from the NY USGS\n",
    "       Streamstats geodatabase.\n",
    "       Documentation & additianl info for gdal found here\n",
    "       https://pypi.python.org/pypi/GDAL/\n",
    "       https://pcjericks.github.io/py-gdalogr-cookbook/'''\n",
    "\n",
    "    def __init__(self,path):\n",
    "        self.path = path\n",
    "        self.data = gdal.Open(path)\n",
    "        self.band = self.data.GetRasterBand(1)\n",
    "        self.array= self.band.ReadAsArray()\n",
    "\n",
    "    def dataframe(self):\n",
    "        '''Returns the flow accumulation grid as a pandas dataframe object'''\n",
    "        df = pd.DataFrame(self.array)\n",
    "        return df\n",
    "\n",
    "    def transform(self,x,y):\n",
    "        '''Method takes indices from dataframe or array and returns projected coordinates'''\n",
    "        ul_x, x_dim, x_rotation, ul_y, y_rotation, y_dim = self.data.GetGeoTransform()\n",
    "        x_coord = x * x_dim + ul_x + (x_dim / 2.)\n",
    "        y_coord = y * y_dim + ul_y + (y_dim / 2.)\n",
    "        coords = x_coord, y_coord\n",
    "        return coords"
   ]
  },
  {
   "cell_type": "code",
   "execution_count": 5,
   "metadata": {},
   "outputs": [],
   "source": [
    "def MoveUpstream(df, row, col, nogo_cells):\n",
    "    '''Function searches surrounding cells in stream network grid to identify the\n",
    "        grid cell immediately upstream. Output is index pair of upstream cell '''\n",
    "    curr_cell_idxs = (row, col)\n",
    "    \n",
    "    current_cell= df[row][col]\n",
    "    assert current_cell.values == 1\n",
    "    surr_cells = []\n",
    "\n",
    "    for i in range(-1,2):\n",
    "        \n",
    "        for j in range(-1,2):\n",
    "\n",
    "            value = df[row + i][col+j] #Read Value of raster cell\n",
    "\n",
    "            if value == 0:\n",
    "                # if value is zero, no stream in this cell\n",
    "                continue\n",
    "                \n",
    "            elif value == 1:\n",
    "                # if value is 1, add to list\n",
    "                surr_cells.append([row + i],[col+j])\n",
    "                \n",
    "            elif (row, col) in nogo_cells:\n",
    "                continue\n",
    "                \n",
    "            else:\n",
    "                print(\"Error?\")\n",
    "                \n",
    "    return curr_cell_idxs, surr_cells"
   ]
  },
  {
   "cell_type": "code",
   "execution_count": 6,
   "metadata": {},
   "outputs": [],
   "source": [
    "def UpstreamIterator(flowgrid, idx_n, idx_list,str_len):\n",
    "    '''Algorithm created to iterate over steps to calculate streamline distance and find the\n",
    "       uus point of interest (stopping point, defined by distance given in while expression in __main__) '''\n",
    "    r,c = int(idx_n[0][0]),int(idx_n[1][0])\n",
    "    idx_n = MoveUpstream(flowgrid.dataframe(),r,c)\n",
    "    xypair = idx_n[0][0],idx_n[1][0]\n",
    "    str_len += GetDistance(r,c, xypair[0], xypair[1], cellsize)\n",
    "    usxy = flowgrid.transform(xypair[0],xypair[1])\n",
    "    idx_list.append(usxy)\n",
    "    return usxy, idx_n, str_len"
   ]
  },
  {
   "cell_type": "code",
   "execution_count": 8,
   "metadata": {},
   "outputs": [],
   "source": [
    "lat=38.90375264540\n",
    "lon=-77.05652955150\n",
    "pp_crs=4269"
   ]
  },
  {
   "cell_type": "code",
   "execution_count": 17,
   "metadata": {},
   "outputs": [
    {
     "data": {
      "text/html": [
       "<div>\n",
       "<style scoped>\n",
       "    .dataframe tbody tr th:only-of-type {\n",
       "        vertical-align: middle;\n",
       "    }\n",
       "\n",
       "    .dataframe tbody tr th {\n",
       "        vertical-align: top;\n",
       "    }\n",
       "\n",
       "    .dataframe thead th {\n",
       "        text-align: right;\n",
       "    }\n",
       "</style>\n",
       "<table border=\"1\" class=\"dataframe\">\n",
       "  <thead>\n",
       "    <tr style=\"text-align: right;\">\n",
       "      <th></th>\n",
       "      <th>0</th>\n",
       "      <th>1</th>\n",
       "      <th>2</th>\n",
       "      <th>3</th>\n",
       "      <th>4</th>\n",
       "      <th>5</th>\n",
       "      <th>6</th>\n",
       "      <th>7</th>\n",
       "      <th>8</th>\n",
       "      <th>9</th>\n",
       "      <th>...</th>\n",
       "      <th>1205</th>\n",
       "      <th>1206</th>\n",
       "      <th>1207</th>\n",
       "      <th>1208</th>\n",
       "      <th>1209</th>\n",
       "      <th>1210</th>\n",
       "      <th>1211</th>\n",
       "      <th>1212</th>\n",
       "      <th>1213</th>\n",
       "      <th>1214</th>\n",
       "    </tr>\n",
       "  </thead>\n",
       "  <tbody>\n",
       "    <tr>\n",
       "      <th>0</th>\n",
       "      <td>0</td>\n",
       "      <td>0</td>\n",
       "      <td>0</td>\n",
       "      <td>0</td>\n",
       "      <td>0</td>\n",
       "      <td>0</td>\n",
       "      <td>0</td>\n",
       "      <td>0</td>\n",
       "      <td>0</td>\n",
       "      <td>0</td>\n",
       "      <td>...</td>\n",
       "      <td>0</td>\n",
       "      <td>0</td>\n",
       "      <td>0</td>\n",
       "      <td>0</td>\n",
       "      <td>0</td>\n",
       "      <td>0</td>\n",
       "      <td>0</td>\n",
       "      <td>0</td>\n",
       "      <td>0</td>\n",
       "      <td>0</td>\n",
       "    </tr>\n",
       "    <tr>\n",
       "      <th>1</th>\n",
       "      <td>0</td>\n",
       "      <td>0</td>\n",
       "      <td>0</td>\n",
       "      <td>0</td>\n",
       "      <td>0</td>\n",
       "      <td>0</td>\n",
       "      <td>0</td>\n",
       "      <td>0</td>\n",
       "      <td>0</td>\n",
       "      <td>0</td>\n",
       "      <td>...</td>\n",
       "      <td>0</td>\n",
       "      <td>0</td>\n",
       "      <td>0</td>\n",
       "      <td>0</td>\n",
       "      <td>0</td>\n",
       "      <td>0</td>\n",
       "      <td>0</td>\n",
       "      <td>0</td>\n",
       "      <td>0</td>\n",
       "      <td>0</td>\n",
       "    </tr>\n",
       "  </tbody>\n",
       "</table>\n",
       "<p>2 rows × 1215 columns</p>\n",
       "</div>"
      ],
      "text/plain": [
       "   0     1     2     3     4     5     6     7     8     9     ...   1205  \\\n",
       "0     0     0     0     0     0     0     0     0     0     0  ...      0   \n",
       "1     0     0     0     0     0     0     0     0     0     0  ...      0   \n",
       "\n",
       "   1206  1207  1208  1209  1210  1211  1212  1213  1214  \n",
       "0     0     0     0     0     0     0     0     0     0  \n",
       "1     0     0     0     0     0     0     0     0     0  \n",
       "\n",
       "[2 rows x 1215 columns]"
      ]
     },
     "execution_count": 17,
     "metadata": {},
     "output_type": "execute_result"
    }
   ],
   "source": [
    "sg = StreamGrid(in_tif)\n",
    "df = sg.dataframe()\n",
    "df.replace(255,0, inplace=True)\n",
    "df.head(n=2)"
   ]
  },
  {
   "cell_type": "code",
   "execution_count": 18,
   "metadata": {},
   "outputs": [],
   "source": [
    "gt=sg.data.GetGeoTransform()"
   ]
  },
  {
   "cell_type": "code",
   "execution_count": 27,
   "metadata": {},
   "outputs": [],
   "source": [
    "rb=sg.data.GetRasterBand(1)"
   ]
  },
  {
   "cell_type": "code",
   "execution_count": 28,
   "metadata": {},
   "outputs": [],
   "source": [
    "px = int((lat - gt[0]) / gt[1]) #x pixel\n",
    "py = int((lon - gt[3]) / gt[5]) #y pixel"
   ]
  },
  {
   "cell_type": "code",
   "execution_count": 31,
   "metadata": {},
   "outputs": [
    {
     "data": {
      "text/plain": [
       "194387"
      ]
     },
     "execution_count": 31,
     "metadata": {},
     "output_type": "execute_result"
    }
   ],
   "source": [
    "py"
   ]
  },
  {
   "cell_type": "code",
   "execution_count": 9,
   "metadata": {},
   "outputs": [],
   "source": [
    "pp_x=df.index[-3]\n",
    "pp_y=list(df.idxmax(axis=1))[-3]\n",
    "pp=(pp_x,pp_y)"
   ]
  },
  {
   "cell_type": "code",
   "execution_count": 10,
   "metadata": {},
   "outputs": [],
   "source": [
    "import xarray as xr\n",
    "ds = xr.open_rasterio(in_tif)\n",
    "ds.sel(band=1, lat=38.90375264540, lon=-77.05652955150, method='nearest').val\n"
   ]
  },
  {
   "cell_type": "code",
   "execution_count": null,
   "metadata": {},
   "outputs": [],
   "source": []
  },
  {
   "cell_type": "code",
   "execution_count": null,
   "metadata": {},
   "outputs": [],
   "source": [
    "ul_x, x_dim, x_rotation, ul_y, y_rotation, y_dim = self.data.GetGeoTransform()\n",
    "x_coord = x * x_dim + ul_x + (x_dim / 2.)\n",
    "y_coord = y * y_dim + ul_y + (y_dim / 2.)\n",
    "coords = x_coord, y_coord\n"
   ]
  },
  {
   "cell_type": "code",
   "execution_count": null,
   "metadata": {},
   "outputs": [],
   "source": [
    "sg.data.GetGeoTransform() "
   ]
  }
 ],
 "metadata": {
  "kernelspec": {
   "display_name": "Python 3",
   "language": "python",
   "name": "python3"
  },
  "language_info": {
   "codemirror_mode": {
    "name": "ipython",
    "version": 3
   },
   "file_extension": ".py",
   "mimetype": "text/x-python",
   "name": "python",
   "nbconvert_exporter": "python",
   "pygments_lexer": "ipython3",
   "version": "3.7.1"
  }
 },
 "nbformat": 4,
 "nbformat_minor": 2
}
