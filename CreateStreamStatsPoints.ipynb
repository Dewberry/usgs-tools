{
 "cells": [
  {
   "cell_type": "markdown",
   "metadata": {},
   "source": [
    "# Development Notebooks\n",
    "\n",
    "## Create Points for StreamStats\n",
    "\n",
    "Usage Notes:\n",
    "\n",
    "\n",
    "Outputs:\n",
    "\n",
    "\n",
    "by Shane Putnam: sputnam@dewberry.com & Seth Lawler: slawler@dewberry.com"
   ]
  },
  {
   "cell_type": "code",
   "execution_count": 1,
   "metadata": {},
   "outputs": [],
   "source": [
    "import os\n",
    "import pandas as pd\n",
    "import geopandas as gpd\n",
    "import collections \n",
    "from osgeo import gdal, ogr,osr\n",
    "from shapely.geometry import Point\n",
    "from StreamStats_Points import*"
   ]
  },
  {
   "cell_type": "markdown",
   "metadata": {},
   "source": [
    "### Load the masked stream grid:"
   ]
  },
  {
   "cell_type": "code",
   "execution_count": 2,
   "metadata": {},
   "outputs": [],
   "source": [
    "in_tif=r'C:\\Users\\sputnam\\Documents\\GitHub\\usgs-tools\\results\\rock_creek_clip.tif' #Load the stream grid raster which was masked by the catchment polygon"
   ]
  },
  {
   "cell_type": "code",
   "execution_count": 3,
   "metadata": {},
   "outputs": [
    {
     "name": "stdout",
     "output_type": "stream",
     "text": [
      "epsg: 5070\n"
     ]
    }
   ],
   "source": [
    "sg = StreamGrid(in_tif) #Open the stream grid raster and create an object\n",
    "\n",
    "crs=sg.crs_value() #Extract the coordinate reference system value (epsg) for the raster\n",
    "print(\"epsg:\",crs) #Print the value"
   ]
  },
  {
   "cell_type": "code",
   "execution_count": 4,
   "metadata": {},
   "outputs": [
    {
     "data": {
      "text/html": [
       "<div>\n",
       "<style scoped>\n",
       "    .dataframe tbody tr th:only-of-type {\n",
       "        vertical-align: middle;\n",
       "    }\n",
       "\n",
       "    .dataframe tbody tr th {\n",
       "        vertical-align: top;\n",
       "    }\n",
       "\n",
       "    .dataframe thead th {\n",
       "        text-align: right;\n",
       "    }\n",
       "</style>\n",
       "<table border=\"1\" class=\"dataframe\">\n",
       "  <thead>\n",
       "    <tr style=\"text-align: right;\">\n",
       "      <th></th>\n",
       "      <th>0</th>\n",
       "      <th>1</th>\n",
       "      <th>2</th>\n",
       "      <th>3</th>\n",
       "      <th>4</th>\n",
       "      <th>5</th>\n",
       "      <th>6</th>\n",
       "      <th>7</th>\n",
       "      <th>8</th>\n",
       "      <th>9</th>\n",
       "      <th>...</th>\n",
       "      <th>1205</th>\n",
       "      <th>1206</th>\n",
       "      <th>1207</th>\n",
       "      <th>1208</th>\n",
       "      <th>1209</th>\n",
       "      <th>1210</th>\n",
       "      <th>1211</th>\n",
       "      <th>1212</th>\n",
       "      <th>1213</th>\n",
       "      <th>1214</th>\n",
       "    </tr>\n",
       "  </thead>\n",
       "  <tbody>\n",
       "    <tr>\n",
       "      <th>0</th>\n",
       "      <td>0</td>\n",
       "      <td>0</td>\n",
       "      <td>0</td>\n",
       "      <td>0</td>\n",
       "      <td>0</td>\n",
       "      <td>0</td>\n",
       "      <td>0</td>\n",
       "      <td>0</td>\n",
       "      <td>0</td>\n",
       "      <td>0</td>\n",
       "      <td>...</td>\n",
       "      <td>0</td>\n",
       "      <td>0</td>\n",
       "      <td>0</td>\n",
       "      <td>0</td>\n",
       "      <td>0</td>\n",
       "      <td>0</td>\n",
       "      <td>0</td>\n",
       "      <td>0</td>\n",
       "      <td>0</td>\n",
       "      <td>0</td>\n",
       "    </tr>\n",
       "    <tr>\n",
       "      <th>1</th>\n",
       "      <td>0</td>\n",
       "      <td>0</td>\n",
       "      <td>0</td>\n",
       "      <td>0</td>\n",
       "      <td>0</td>\n",
       "      <td>0</td>\n",
       "      <td>0</td>\n",
       "      <td>0</td>\n",
       "      <td>0</td>\n",
       "      <td>0</td>\n",
       "      <td>...</td>\n",
       "      <td>0</td>\n",
       "      <td>0</td>\n",
       "      <td>0</td>\n",
       "      <td>0</td>\n",
       "      <td>0</td>\n",
       "      <td>0</td>\n",
       "      <td>0</td>\n",
       "      <td>0</td>\n",
       "      <td>0</td>\n",
       "      <td>0</td>\n",
       "    </tr>\n",
       "  </tbody>\n",
       "</table>\n",
       "<p>2 rows × 1215 columns</p>\n",
       "</div>"
      ],
      "text/plain": [
       "   0     1     2     3     4     5     6     7     8     9     ...   1205  \\\n",
       "0     0     0     0     0     0     0     0     0     0     0  ...      0   \n",
       "1     0     0     0     0     0     0     0     0     0     0  ...      0   \n",
       "\n",
       "   1206  1207  1208  1209  1210  1211  1212  1213  1214  \n",
       "0     0     0     0     0     0     0     0     0     0  \n",
       "1     0     0     0     0     0     0     0     0     0  \n",
       "\n",
       "[2 rows x 1215 columns]"
      ]
     },
     "execution_count": 4,
     "metadata": {},
     "output_type": "execute_result"
    }
   ],
   "source": [
    "df = sg.dataframe() #Create a dataframe from the stream grid data\n",
    "df.replace(255, 0, inplace=True) #Replace 255 with 0, where 255 corresponds to the non-stream cells\n",
    "df.head(n=2) "
   ]
  },
  {
   "cell_type": "markdown",
   "metadata": {},
   "source": [
    "### Specify the pour point to set the start location of the search:"
   ]
  },
  {
   "cell_type": "code",
   "execution_count": 5,
   "metadata": {},
   "outputs": [],
   "source": [
    "lat=1925315.186 #latitude of the pourpoint at the catchment outlet\n",
    "lon=1616784.964 #longitude of the pourpoint"
   ]
  },
  {
   "cell_type": "code",
   "execution_count": 6,
   "metadata": {},
   "outputs": [
    {
     "name": "stdout",
     "output_type": "stream",
     "text": [
      "[(877, 1848)]\n"
     ]
    }
   ],
   "source": [
    "pix_x, pix_y =coord2index(sg, lat, lon) #Transform the lat and lon values to the row/column location with the stream grid dataframe\n",
    "pourpoint=[(pix_x, pix_y)] #Add these values to a list as a touple\n",
    "print(pourpoint)"
   ]
  },
  {
   "cell_type": "markdown",
   "metadata": {},
   "source": [
    "### Move up the stream and identify the confluences:"
   ]
  },
  {
   "cell_type": "code",
   "execution_count": 7,
   "metadata": {},
   "outputs": [],
   "source": [
    "def MoveUpstream(df, stream_cell, nogo):\n",
    "    \"\"\"This function searches the 8 cells surrounding it to determine the location of the next stream cell(s).\n",
    "        Arguments: df=the dataframe containing the stream raster data, stream_cell=the current stream cell that will be used to search for the next stream cell,\n",
    "        nogo=list of stream cells that do not want to return as a new stream cell\n",
    "    \"\"\"\n",
    "    row=stream_cell[0] #Extract the raster row \n",
    "    col=stream_cell[1] #Extract the raster column\n",
    "    \n",
    "    cell_value= df[row][col] #Determine the value of the cell\n",
    "    assert cell_value == 1 #The value of the cell must be equal to the value associated with a stream cell\n",
    "    \n",
    "    nogo.append((row,col))   \n",
    "\n",
    "    stream_cell=[]\n",
    "    \n",
    "    for i in range(-1,2): #For -1, 0, 1 in the vertical direction (move up and down rows)\n",
    "        for j in range(-1,2): #For -1, 0, 1 in the horizontal direction (move across columns)\n",
    "            value = df[row + i][col+j] #Read value of raster cell\n",
    "            if value == 0: # if value is zero, no stream in this cell\n",
    "                continue #loop back\n",
    "            elif value==1 and (row+i,col+j) not in nogo: # if value is 1 and the cell is not in the nogo list, then...\n",
    "                stream_cell.append((row + i,col+j)) #Add the new cell or cells to the stream_cell list\n",
    "    return stream_cell, nogo    "
   ]
  },
  {
   "cell_type": "code",
   "execution_count": 7,
   "metadata": {},
   "outputs": [],
   "source": [
    "def FindConfluence(df, stream_cell, nogo): #Keep moving upstream until you find a confluence--problem: might hit a dead end, maybe add an else if it is the end?\n",
    "    \"\"\"Function which repeates the MoveUpstream function until it finds two or more stream cells surrounding the provided stream_cell, indicating a confluence\n",
    "    \"\"\"\n",
    "    count=0\n",
    "    while len(stream_cell)==1: #While there is only 1 stream cell returned as we move up stream, keep moving up stream\n",
    "        stream_cell, nogo=MoveUpstream(df, stream_cell[0], nogo)\n",
    "        count+=1\n",
    "    if len(stream_cell)>1: #If the number of stream cells \n",
    "        nogo=list(set(nogo+stream_cell))\n",
    "    return stream_cell, nogo, count"
   ]
  },
  {
   "cell_type": "code",
   "execution_count": 7,
   "metadata": {},
   "outputs": [],
   "source": [
    "def NextConfluence(df, confl, cellnum, nogo):\n",
    "    \"\"\"\n",
    "    \"\"\"\n",
    "    stream_cell, nogo=MoveUpstream(df, confl[cellnum[0]]['pts'][cellnum[1]], nogo) #Move up one cell from the confluence\n",
    "    if len(stream_cell)==1:\n",
    "        stream_cell, nogo=MoveUpstream(df, stream_cell[0], nogo) #And move up one more time \n",
    "        if len(stream_cell)==1:\n",
    "            if 'confl' not in confl[cellnum[0]]: #Add the stream_cell that is located three up from the intial split point.\n",
    "                confl[cellnum[0]]['confl']=stream_cell  \n",
    "            else:\n",
    "                confl[cellnum[0]]['confl']=confl[cellnum[0]]['confl']+stream_cell\n",
    "            stream_cell, nogo, count=FindConfluence(df, stream_cell, nogo) #Conf1 is empty if end \n",
    "            if len(stream_cell)>1:\n",
    "                confl[max(list(confl.keys()))+1]={'pts':stream_cell, 'npts':len(stream_cell)}\n",
    "        elif len(stream_cell)>1:\n",
    "            confl[cellnum[0]]['pts']=confl[cellnum[0]]['pts']+stream_cell\n",
    "            confl[cellnum[0]]['npts']=len(confl[cellnum[0]]['pts'])\n",
    "    elif len(stream_cell)>1:\n",
    "        confl[cellnum[0]]['pts']=confl[cellnum[0]]['pts']+stream_cell\n",
    "        confl[cellnum[0]]['npts']=len(confl[cellnum[0]]['pts'])\n",
    "    return confl, nogo    "
   ]
  },
  {
   "cell_type": "code",
   "execution_count": 7,
   "metadata": {},
   "outputs": [],
   "source": [
    "cnum=0 #The confluence ID, start it at zero\n",
    "snum=0 #The confluence number at a specific ID, start it at zero\n",
    "cellnum=(cnum,snum) #Combine the confluence ID and number into a signle touple\n",
    "\n",
    "confl=collections.OrderedDict() #Create an empty oredered dictionary to store the confluence information\n",
    "confl[cnum]=confl[cnum]={\"pts\":pourpoint,\"npts\":len(pourpoint)} #Add the pourpoint as a confluence to this ditionary, specifying the pourpoint as \"pts\" and the number of points as \"npts\"\n",
    "\n",
    "nogo=[] #Empty list to store the nogo points, i.e. the stream cells we previously searched\n",
    "\n",
    "confl3=[] #Empty list to store the confluence locations that are three cells from the original junction. "
   ]
  },
  {
   "cell_type": "code",
   "execution_count": 8,
   "metadata": {},
   "outputs": [],
   "source": [
    "l=len(confl.keys())-1 \n",
    "j=0\n",
    "while j<=l: \n",
    "    k=confl[j]['npts']-1 \n",
    "    i=0 \n",
    "    while i<=k: \n",
    "        confl, nogo=NextConfluence(df, confl, (j,i), nogo)\n",
    "        k=confl[j]['npts']-1 \n",
    "        i+=1 \n",
    "    l=len(confl.keys())-1 \n",
    "    j+=1 "
   ]
  },
  {
   "cell_type": "code",
   "execution_count": 10,
   "metadata": {},
   "outputs": [
    {
     "data": {
      "text/plain": [
       "{'pts': [(877, 1848)], 'npts': 1, 'confl': [(878, 1846)]}"
      ]
     },
     "execution_count": 10,
     "metadata": {},
     "output_type": "execute_result"
    }
   ],
   "source": [
    "confl"
   ]
  },
  {
   "cell_type": "code",
   "execution_count": 154,
   "metadata": {},
   "outputs": [],
   "source": [
    "confl3=[] #Empty list to store the row and column of each confluence point that is three cells away from the original junction\n",
    "for i in range(len(confl.keys())):\n",
    "    if 'confl' in confl[i]:    \n",
    "        if len(confl[i]['confl'])>1:\n",
    "            confl3=confl3+confl[i]['confl']"
   ]
  },
  {
   "cell_type": "code",
   "execution_count": 11,
   "metadata": {},
   "outputs": [],
   "source": [
    "ppoints=[] #Empty list to store the row and column of each confluence\n",
    "for i in range(len(confl.keys())):\n",
    "    ppoints=ppoints+confl[i]['pts']"
   ]
  },
  {
   "cell_type": "markdown",
   "metadata": {},
   "source": [
    "### Save the conflunces as a shapefile:"
   ]
  },
  {
   "cell_type": "code",
   "execution_count": 12,
   "metadata": {},
   "outputs": [],
   "source": [
    "longitude, latitude=index2coord(sg, ppoints)"
   ]
  },
  {
   "cell_type": "code",
   "execution_count": 13,
   "metadata": {},
   "outputs": [
    {
     "name": "stderr",
     "output_type": "stream",
     "text": [
      "C:\\Users\\sputnam\\AppData\\Local\\Continuum\\anaconda3\\lib\\site-packages\\geopandas\\io\\file.py:108: FionaDeprecationWarning: Use fiona.Env() instead.\n",
      "  with fiona.drivers():\n"
     ]
    },
    {
     "data": {
      "text/html": [
       "<div>\n",
       "<style scoped>\n",
       "    .dataframe tbody tr th:only-of-type {\n",
       "        vertical-align: middle;\n",
       "    }\n",
       "\n",
       "    .dataframe tbody tr th {\n",
       "        vertical-align: top;\n",
       "    }\n",
       "\n",
       "    .dataframe thead th {\n",
       "        text-align: right;\n",
       "    }\n",
       "</style>\n",
       "<table border=\"1\" class=\"dataframe\">\n",
       "  <thead>\n",
       "    <tr style=\"text-align: right;\">\n",
       "      <th></th>\n",
       "      <th>Lon</th>\n",
       "      <th>Lat</th>\n",
       "      <th>Coordinates</th>\n",
       "    </tr>\n",
       "  </thead>\n",
       "  <tbody>\n",
       "    <tr>\n",
       "      <th>0</th>\n",
       "      <td>1616785.0</td>\n",
       "      <td>1925315.0</td>\n",
       "      <td>POINT (1616785 1925315)</td>\n",
       "    </tr>\n",
       "    <tr>\n",
       "      <th>1</th>\n",
       "      <td>1616745.0</td>\n",
       "      <td>1925775.0</td>\n",
       "      <td>POINT (1616745 1925775)</td>\n",
       "    </tr>\n",
       "  </tbody>\n",
       "</table>\n",
       "</div>"
      ],
      "text/plain": [
       "         Lon        Lat              Coordinates\n",
       "0  1616785.0  1925315.0  POINT (1616785 1925315)\n",
       "1  1616745.0  1925775.0  POINT (1616745 1925775)"
      ]
     },
     "execution_count": 13,
     "metadata": {},
     "output_type": "execute_result"
    }
   ],
   "source": [
    "gdf=geodataframe(longitude, latitude, crs)\n",
    "\n",
    "gdf.to_file(filename = r'C:\\Users\\sputnam\\Documents\\GitHub\\usgs-tools\\results\\allconfluences.shp')\n",
    "\n",
    "gdf.head(2)"
   ]
  },
  {
   "cell_type": "code",
   "execution_count": null,
   "metadata": {},
   "outputs": [],
   "source": []
  }
 ],
 "metadata": {
  "kernelspec": {
   "display_name": "Python 3",
   "language": "python",
   "name": "python3"
  },
  "language_info": {
   "codemirror_mode": {
    "name": "ipython",
    "version": 3
   },
   "file_extension": ".py",
   "mimetype": "text/x-python",
   "name": "python",
   "nbconvert_exporter": "python",
   "pygments_lexer": "ipython3",
   "version": "3.7.1"
  }
 },
 "nbformat": 4,
 "nbformat_minor": 2
}
