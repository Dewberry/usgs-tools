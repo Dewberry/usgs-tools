{
 "cells": [
  {
   "cell_type": "markdown",
   "metadata": {},
   "source": [
    "# Development Notebooks\n",
    "\n",
    "## Create Points for StreamStats\n",
    "\n",
    "Usage Notes:\n",
    "\n",
    "\n",
    "Outputs:\n",
    "\n",
    "\n",
    "by Shane Putnam: sputnam@dewberry.com & Seth Lawler: slawler@dewberry.com"
   ]
  },
  {
   "cell_type": "code",
   "execution_count": 1,
   "metadata": {},
   "outputs": [],
   "source": [
    "import os\n",
    "from osgeo import gdal, ogr,osr\n",
    "import pandas as pd\n",
    "import geopandas as gpd\n",
    "from shapely.geometry import Point"
   ]
  },
  {
   "cell_type": "markdown",
   "metadata": {},
   "source": [
    "### Load functions:"
   ]
  },
  {
   "cell_type": "code",
   "execution_count": 2,
   "metadata": {},
   "outputs": [],
   "source": [
    "class StreamGrid(object):\n",
    "    ''''''\n",
    "    def __init__(self,path):\n",
    "        self.path = path\n",
    "        self.data = gdal.Open(path)\n",
    "        self.band = self.data.GetRasterBand(1)\n",
    "        self.array= self.band.ReadAsArray()\n",
    "\n",
    "    def dataframe(self):\n",
    "        '''Returns the flow accumulation grid as a pandas dataframe object'''\n",
    "        df = pd.DataFrame(self.array)\n",
    "        return df\n",
    "\n",
    "    def transform(self,x,y):\n",
    "        '''Method takes indices from dataframe or array and returns projected coordinates'''\n",
    "        ul_x, x_dim, x_rotation, ul_y, y_rotation, y_dim = self.data.GetGeoTransform()\n",
    "        x_coord = x * x_dim + ul_x + (x_dim / 2.)\n",
    "        y_coord = y * y_dim + ul_y + (y_dim / 2.)\n",
    "        coords = x_coord, y_coord\n",
    "        return coords\n",
    "\n",
    "def MoveUpstream(df, row, col, nogo_cells):\n",
    "    '''Function searches surrounding cells in stream network grid to identify the\n",
    "        grid cell immediately upstream. Output is index pair of upstream cell '''\n",
    "    curr_cell_idxs = (row, col)\n",
    "    \n",
    "    current_cell= df[row][col]\n",
    "    assert current_cell.values == 1\n",
    "    surr_cells = []\n",
    "\n",
    "    for i in range(-1,2):\n",
    "        \n",
    "        for j in range(-1,2):\n",
    "\n",
    "            value = df[row + i][col+j] #Read Value of raster cell\n",
    "\n",
    "            if value == 0:\n",
    "                # if value is zero, no stream in this cell\n",
    "                continue\n",
    "                \n",
    "            elif value == 1:\n",
    "                # if value is 1, add to list\n",
    "                surr_cells.append([row + i],[col+j])\n",
    "                \n",
    "            elif (row, col) in nogo_cells:\n",
    "                continue\n",
    "                \n",
    "            else:\n",
    "                print(\"Error?\")\n",
    "                \n",
    "    return curr_cell_idxs, surr_cells\n",
    "\n",
    "def UpstreamIterator(flowgrid, idx_n, idx_list,str_len):\n",
    "    '''Algorithm created to iterate over steps to calculate streamline distance and find the\n",
    "       uus point of interest (stopping point, defined by distance given in while expression in __main__) '''\n",
    "    r,c = int(idx_n[0][0]),int(idx_n[1][0])\n",
    "    idx_n = MoveUpstream(flowgrid.dataframe(),r,c)\n",
    "    xypair = idx_n[0][0],idx_n[1][0]\n",
    "    str_len += GetDistance(r,c, xypair[0], xypair[1], cellsize)\n",
    "    usxy = flowgrid.transform(xypair[0],xypair[1])\n",
    "    idx_list.append(usxy)\n",
    "    return usxy, idx_n, str_len    "
   ]
  },
  {
   "cell_type": "markdown",
   "metadata": {},
   "source": [
    "### Load the masked stream grid:"
   ]
  },
  {
   "cell_type": "code",
   "execution_count": 3,
   "metadata": {},
   "outputs": [],
   "source": [
    "in_tif=r'C:\\Users\\sputnam\\Documents\\GitHub\\usgs-tools\\results\\rock_creek_clip.tif' #Load the stream grid raster which was maksed by the catchment polygon"
   ]
  },
  {
   "cell_type": "code",
   "execution_count": 63,
   "metadata": {},
   "outputs": [
    {
     "name": "stdout",
     "output_type": "stream",
     "text": [
      "epsg: 5070\n"
     ]
    }
   ],
   "source": [
    "sg = StreamGrid(in_tif)\n",
    "proj = osr.SpatialReference(wkt=sg.data.GetProjection())\n",
    "crs=proj.GetAttrValue('AUTHORITY',1)\n",
    "print(\"epsg:\",crs)"
   ]
  },
  {
   "cell_type": "code",
   "execution_count": 64,
   "metadata": {},
   "outputs": [
    {
     "data": {
      "text/html": [
       "<div>\n",
       "<style scoped>\n",
       "    .dataframe tbody tr th:only-of-type {\n",
       "        vertical-align: middle;\n",
       "    }\n",
       "\n",
       "    .dataframe tbody tr th {\n",
       "        vertical-align: top;\n",
       "    }\n",
       "\n",
       "    .dataframe thead th {\n",
       "        text-align: right;\n",
       "    }\n",
       "</style>\n",
       "<table border=\"1\" class=\"dataframe\">\n",
       "  <thead>\n",
       "    <tr style=\"text-align: right;\">\n",
       "      <th></th>\n",
       "      <th>0</th>\n",
       "      <th>1</th>\n",
       "      <th>2</th>\n",
       "      <th>3</th>\n",
       "      <th>4</th>\n",
       "      <th>5</th>\n",
       "      <th>6</th>\n",
       "      <th>7</th>\n",
       "      <th>8</th>\n",
       "      <th>9</th>\n",
       "      <th>...</th>\n",
       "      <th>1205</th>\n",
       "      <th>1206</th>\n",
       "      <th>1207</th>\n",
       "      <th>1208</th>\n",
       "      <th>1209</th>\n",
       "      <th>1210</th>\n",
       "      <th>1211</th>\n",
       "      <th>1212</th>\n",
       "      <th>1213</th>\n",
       "      <th>1214</th>\n",
       "    </tr>\n",
       "  </thead>\n",
       "  <tbody>\n",
       "    <tr>\n",
       "      <th>0</th>\n",
       "      <td>0</td>\n",
       "      <td>0</td>\n",
       "      <td>0</td>\n",
       "      <td>0</td>\n",
       "      <td>0</td>\n",
       "      <td>0</td>\n",
       "      <td>0</td>\n",
       "      <td>0</td>\n",
       "      <td>0</td>\n",
       "      <td>0</td>\n",
       "      <td>...</td>\n",
       "      <td>0</td>\n",
       "      <td>0</td>\n",
       "      <td>0</td>\n",
       "      <td>0</td>\n",
       "      <td>0</td>\n",
       "      <td>0</td>\n",
       "      <td>0</td>\n",
       "      <td>0</td>\n",
       "      <td>0</td>\n",
       "      <td>0</td>\n",
       "    </tr>\n",
       "    <tr>\n",
       "      <th>1</th>\n",
       "      <td>0</td>\n",
       "      <td>0</td>\n",
       "      <td>0</td>\n",
       "      <td>0</td>\n",
       "      <td>0</td>\n",
       "      <td>0</td>\n",
       "      <td>0</td>\n",
       "      <td>0</td>\n",
       "      <td>0</td>\n",
       "      <td>0</td>\n",
       "      <td>...</td>\n",
       "      <td>0</td>\n",
       "      <td>0</td>\n",
       "      <td>0</td>\n",
       "      <td>0</td>\n",
       "      <td>0</td>\n",
       "      <td>0</td>\n",
       "      <td>0</td>\n",
       "      <td>0</td>\n",
       "      <td>0</td>\n",
       "      <td>0</td>\n",
       "    </tr>\n",
       "  </tbody>\n",
       "</table>\n",
       "<p>2 rows × 1215 columns</p>\n",
       "</div>"
      ],
      "text/plain": [
       "   0     1     2     3     4     5     6     7     8     9     ...   1205  \\\n",
       "0     0     0     0     0     0     0     0     0     0     0  ...      0   \n",
       "1     0     0     0     0     0     0     0     0     0     0  ...      0   \n",
       "\n",
       "   1206  1207  1208  1209  1210  1211  1212  1213  1214  \n",
       "0     0     0     0     0     0     0     0     0     0  \n",
       "1     0     0     0     0     0     0     0     0     0  \n",
       "\n",
       "[2 rows x 1215 columns]"
      ]
     },
     "execution_count": 64,
     "metadata": {},
     "output_type": "execute_result"
    }
   ],
   "source": [
    "df = sg.dataframe()\n",
    "df.replace(255,0, inplace=True)\n",
    "df.head(n=2)"
   ]
  },
  {
   "cell_type": "markdown",
   "metadata": {},
   "source": [
    "### Specify the pour point to set the start location of the search:"
   ]
  },
  {
   "cell_type": "code",
   "execution_count": 65,
   "metadata": {},
   "outputs": [],
   "source": [
    "def coord2index(sg, lat, lon):\n",
    "    transform=sg.data.GetGeoTransform()\n",
    "    pix_x = int((lon - transform[0]) / transform[1])\n",
    "    pix_y = int((transform[3] - lat ) / -transform[5])\n",
    "    return pix_x, pix_y"
   ]
  },
  {
   "cell_type": "code",
   "execution_count": 67,
   "metadata": {},
   "outputs": [],
   "source": [
    "lat=1925315.186\n",
    "lon=1616784.964"
   ]
  },
  {
   "cell_type": "code",
   "execution_count": 67,
   "metadata": {},
   "outputs": [
    {
     "name": "stdout",
     "output_type": "stream",
     "text": [
      "[(877, 1848)]\n"
     ]
    }
   ],
   "source": [
    "pix_x, pix_y =coord2index(sg, lat, lon)\n",
    "pourpoint=[(pix_x, pix_y)]\n",
    "print(pourpoint)"
   ]
  },
  {
   "cell_type": "markdown",
   "metadata": {},
   "source": [
    "### Move up the stream and identify the confluences:"
   ]
  },
  {
   "cell_type": "code",
   "execution_count": 8,
   "metadata": {},
   "outputs": [],
   "source": [
    "def MoveUpstream(df, stream_cell, nogo):\n",
    "    row=stream_cell[0][0]\n",
    "    col=stream_cell[0][1]      \n",
    "    cell_value= df[row][col]\n",
    "    assert cell_value == 1\n",
    "                 \n",
    "    nogo.append((row,col))\n",
    "    stream_cell=[]\n",
    "\n",
    "    for i in range(-1,2):\n",
    "        \n",
    "        for j in range(-1,2):\n",
    "\n",
    "            value = df[row + i][col+j] #Read Value of raster cell\n",
    "            \n",
    "            if value == 0: # if value is zero, no stream in this cell\n",
    "                continue\n",
    "            \n",
    "            elif value==1 and (row+i,col+j) not in nogo: # if value is 1, add to list\n",
    "                stream_cell.append((row + i,col+j)) \n",
    "    return stream_cell, nogo"
   ]
  },
  {
   "cell_type": "code",
   "execution_count": 9,
   "metadata": {},
   "outputs": [],
   "source": [
    "def FindConfluence(df, stream_cell, nogo): #Keep moving upstream until you find a confluence--problem: might hit a dead end, maybe add an else if it is the end?\n",
    "    while len(stream_cell)==1:\n",
    "        stream_cell, nogo=MoveUpstream(df, stream_cell, nogo)\n",
    "    nogo=list(set(nogo+stream_cell))\n",
    "    #nogo=nogo+stream_cell\n",
    "    return stream_cell, nogo"
   ]
  },
  {
   "cell_type": "code",
   "execution_count": 10,
   "metadata": {},
   "outputs": [],
   "source": [
    "def NextConfluence(df,confl,nogo,ppoints):\n",
    "    stream_cell=[]\n",
    "    confl1=[]\n",
    "    stream_cell, nogo=MoveUpstream(df, [confl], nogo) #Move up one cell from the confluence\n",
    "    stream_cell, nogo=MoveUpstream(df, stream_cell,nogo) #And move up one more time \n",
    "    ppoints=ppoints+stream_cell #Add the stream_cell that is located three up from the intial split point.\n",
    "    confl1, nogo=FindConfluence(df,stream_cell,nogo)\n",
    "    return confl1, nogo, ppoints"
   ]
  },
  {
   "cell_type": "code",
   "execution_count": 11,
   "metadata": {},
   "outputs": [],
   "source": [
    "nogo=[]\n",
    "ppoints=[]\n",
    "stream_cell=pourpoint"
   ]
  },
  {
   "cell_type": "code",
   "execution_count": 12,
   "metadata": {},
   "outputs": [],
   "source": [
    "confl, nogo=FindConfluence(df, stream_cell, nogo)"
   ]
  },
  {
   "cell_type": "code",
   "execution_count": 13,
   "metadata": {},
   "outputs": [
    {
     "data": {
      "text/plain": [
       "[(873, 1802), (874, 1802)]"
      ]
     },
     "execution_count": 13,
     "metadata": {},
     "output_type": "execute_result"
    }
   ],
   "source": [
    "confl"
   ]
  },
  {
   "cell_type": "code",
   "execution_count": 14,
   "metadata": {},
   "outputs": [
    {
     "ename": "IndexError",
     "evalue": "list index out of range",
     "output_type": "error",
     "traceback": [
      "\u001b[1;31m---------------------------------------------------------------------------\u001b[0m",
      "\u001b[1;31mIndexError\u001b[0m                                Traceback (most recent call last)",
      "\u001b[1;32m<ipython-input-14-ebfb3cd4e8cb>\u001b[0m in \u001b[0;36m<module>\u001b[1;34m\u001b[0m\n\u001b[0;32m      3\u001b[0m \u001b[1;32mwhile\u001b[0m \u001b[0mi\u001b[0m\u001b[1;33m<=\u001b[0m\u001b[0ml\u001b[0m\u001b[1;33m:\u001b[0m\u001b[1;33m\u001b[0m\u001b[1;33m\u001b[0m\u001b[0m\n\u001b[0;32m      4\u001b[0m     \u001b[0mconfl1\u001b[0m\u001b[1;33m=\u001b[0m\u001b[1;33m[\u001b[0m\u001b[1;33m]\u001b[0m\u001b[1;33m\u001b[0m\u001b[1;33m\u001b[0m\u001b[0m\n\u001b[1;32m----> 5\u001b[1;33m     \u001b[0mconfl1\u001b[0m\u001b[1;33m,\u001b[0m \u001b[0mnogo\u001b[0m\u001b[1;33m,\u001b[0m \u001b[0mppoints\u001b[0m\u001b[1;33m=\u001b[0m\u001b[0mNextConfluence\u001b[0m\u001b[1;33m(\u001b[0m\u001b[0mdf\u001b[0m\u001b[1;33m,\u001b[0m\u001b[0mconfl\u001b[0m\u001b[1;33m[\u001b[0m\u001b[0mi\u001b[0m\u001b[1;33m]\u001b[0m\u001b[1;33m,\u001b[0m\u001b[0mnogo\u001b[0m\u001b[1;33m,\u001b[0m\u001b[0mppoints\u001b[0m\u001b[1;33m)\u001b[0m\u001b[1;33m\u001b[0m\u001b[1;33m\u001b[0m\u001b[0m\n\u001b[0m\u001b[0;32m      6\u001b[0m     \u001b[1;32mif\u001b[0m \u001b[0mlen\u001b[0m\u001b[1;33m(\u001b[0m\u001b[0mconfl1\u001b[0m\u001b[1;33m)\u001b[0m\u001b[1;33m==\u001b[0m\u001b[1;36m0\u001b[0m\u001b[1;33m:\u001b[0m\u001b[1;33m\u001b[0m\u001b[1;33m\u001b[0m\u001b[0m\n\u001b[0;32m      7\u001b[0m         \u001b[0mi\u001b[0m\u001b[1;33m+=\u001b[0m\u001b[1;36m1\u001b[0m\u001b[1;33m\u001b[0m\u001b[1;33m\u001b[0m\u001b[0m\n",
      "\u001b[1;32m<ipython-input-10-275459b7037a>\u001b[0m in \u001b[0;36mNextConfluence\u001b[1;34m(df, confl, nogo, ppoints)\u001b[0m\n\u001b[0;32m      3\u001b[0m     \u001b[0mconfl1\u001b[0m\u001b[1;33m=\u001b[0m\u001b[1;33m[\u001b[0m\u001b[1;33m]\u001b[0m\u001b[1;33m\u001b[0m\u001b[1;33m\u001b[0m\u001b[0m\n\u001b[0;32m      4\u001b[0m     \u001b[0mstream_cell\u001b[0m\u001b[1;33m,\u001b[0m \u001b[0mnogo\u001b[0m\u001b[1;33m=\u001b[0m\u001b[0mMoveUpstream\u001b[0m\u001b[1;33m(\u001b[0m\u001b[0mdf\u001b[0m\u001b[1;33m,\u001b[0m \u001b[1;33m[\u001b[0m\u001b[0mconfl\u001b[0m\u001b[1;33m]\u001b[0m\u001b[1;33m,\u001b[0m \u001b[0mnogo\u001b[0m\u001b[1;33m)\u001b[0m \u001b[1;31m#Move up one cell from the confluence\u001b[0m\u001b[1;33m\u001b[0m\u001b[1;33m\u001b[0m\u001b[0m\n\u001b[1;32m----> 5\u001b[1;33m     \u001b[0mstream_cell\u001b[0m\u001b[1;33m,\u001b[0m \u001b[0mnogo\u001b[0m\u001b[1;33m=\u001b[0m\u001b[0mMoveUpstream\u001b[0m\u001b[1;33m(\u001b[0m\u001b[0mdf\u001b[0m\u001b[1;33m,\u001b[0m \u001b[0mstream_cell\u001b[0m\u001b[1;33m,\u001b[0m\u001b[0mnogo\u001b[0m\u001b[1;33m)\u001b[0m \u001b[1;31m#And move up one more time\u001b[0m\u001b[1;33m\u001b[0m\u001b[1;33m\u001b[0m\u001b[0m\n\u001b[0m\u001b[0;32m      6\u001b[0m     \u001b[0mppoints\u001b[0m\u001b[1;33m=\u001b[0m\u001b[0mppoints\u001b[0m\u001b[1;33m+\u001b[0m\u001b[0mstream_cell\u001b[0m \u001b[1;31m#Add the stream_cell that is located three up from the intial split point.\u001b[0m\u001b[1;33m\u001b[0m\u001b[1;33m\u001b[0m\u001b[0m\n\u001b[0;32m      7\u001b[0m     \u001b[0mconfl1\u001b[0m\u001b[1;33m,\u001b[0m \u001b[0mnogo\u001b[0m\u001b[1;33m=\u001b[0m\u001b[0mFindConfluence\u001b[0m\u001b[1;33m(\u001b[0m\u001b[0mdf\u001b[0m\u001b[1;33m,\u001b[0m\u001b[0mstream_cell\u001b[0m\u001b[1;33m,\u001b[0m\u001b[0mnogo\u001b[0m\u001b[1;33m)\u001b[0m\u001b[1;33m\u001b[0m\u001b[1;33m\u001b[0m\u001b[0m\n",
      "\u001b[1;32m<ipython-input-8-9bbd7cb3244d>\u001b[0m in \u001b[0;36mMoveUpstream\u001b[1;34m(df, stream_cell, nogo)\u001b[0m\n\u001b[0;32m      1\u001b[0m \u001b[1;32mdef\u001b[0m \u001b[0mMoveUpstream\u001b[0m\u001b[1;33m(\u001b[0m\u001b[0mdf\u001b[0m\u001b[1;33m,\u001b[0m \u001b[0mstream_cell\u001b[0m\u001b[1;33m,\u001b[0m \u001b[0mnogo\u001b[0m\u001b[1;33m)\u001b[0m\u001b[1;33m:\u001b[0m\u001b[1;33m\u001b[0m\u001b[1;33m\u001b[0m\u001b[0m\n\u001b[1;32m----> 2\u001b[1;33m     \u001b[0mrow\u001b[0m\u001b[1;33m=\u001b[0m\u001b[0mstream_cell\u001b[0m\u001b[1;33m[\u001b[0m\u001b[1;36m0\u001b[0m\u001b[1;33m]\u001b[0m\u001b[1;33m[\u001b[0m\u001b[1;36m0\u001b[0m\u001b[1;33m]\u001b[0m\u001b[1;33m\u001b[0m\u001b[1;33m\u001b[0m\u001b[0m\n\u001b[0m\u001b[0;32m      3\u001b[0m     \u001b[0mcol\u001b[0m\u001b[1;33m=\u001b[0m\u001b[0mstream_cell\u001b[0m\u001b[1;33m[\u001b[0m\u001b[1;36m0\u001b[0m\u001b[1;33m]\u001b[0m\u001b[1;33m[\u001b[0m\u001b[1;36m1\u001b[0m\u001b[1;33m]\u001b[0m\u001b[1;33m\u001b[0m\u001b[1;33m\u001b[0m\u001b[0m\n\u001b[0;32m      4\u001b[0m     \u001b[0mcell_value\u001b[0m\u001b[1;33m=\u001b[0m \u001b[0mdf\u001b[0m\u001b[1;33m[\u001b[0m\u001b[0mrow\u001b[0m\u001b[1;33m]\u001b[0m\u001b[1;33m[\u001b[0m\u001b[0mcol\u001b[0m\u001b[1;33m]\u001b[0m\u001b[1;33m\u001b[0m\u001b[1;33m\u001b[0m\u001b[0m\n\u001b[0;32m      5\u001b[0m     \u001b[1;32massert\u001b[0m \u001b[0mcell_value\u001b[0m \u001b[1;33m==\u001b[0m \u001b[1;36m1\u001b[0m\u001b[1;33m\u001b[0m\u001b[1;33m\u001b[0m\u001b[0m\n",
      "\u001b[1;31mIndexError\u001b[0m: list index out of range"
     ]
    }
   ],
   "source": [
    "l=len(confl)-1\n",
    "i=0\n",
    "while i<=l:\n",
    "    confl1=[]\n",
    "    confl1, nogo, ppoints=NextConfluence(df,confl[i],nogo,ppoints)\n",
    "    if len(confl1)==0:\n",
    "        i+=1\n",
    "    else:\n",
    "        confl=confl+confl1\n",
    "        l=len(confl)-1\n",
    "        i+=1"
   ]
  },
  {
   "cell_type": "markdown",
   "metadata": {},
   "source": [
    "### Save the conflunces as a shapefile:"
   ]
  },
  {
   "cell_type": "code",
   "execution_count": 49,
   "metadata": {},
   "outputs": [],
   "source": [
    "def index2coord(sg, confl):\n",
    "    transform=sg.data.GetGeoTransform()\n",
    "    longitude=[]\n",
    "    latitude=[]\n",
    "\n",
    "    for i in range(len(confl)):\n",
    "        longitude.append(((transform[1]*confl[i][0])+transform[0])+transform[1]/2.)\n",
    "        latitude.append((transform[3]-(confl[i][1]*-transform[5]))+transform[5]/2.)\n",
    "    return longitude, latitude\n",
    "\n",
    "def geodataframe(longitude, latitude, epsg):\n",
    "    coord_df=pd.DataFrame(data={'Lon':longitude,'Lat':latitude})\n",
    "    coord_df['Coordinates'] = list(zip(coord_df.Lon, coord_df.Lat))\n",
    "    coord_df['Coordinates'] = coord_df['Coordinates'].apply(Point)\n",
    "    gdf = gpd.GeoDataFrame(coord_df, crs={'init': 'epsg:%s' %epsg}, geometry='Coordinates')\n",
    "    return gdf"
   ]
  },
  {
   "cell_type": "code",
   "execution_count": 50,
   "metadata": {},
   "outputs": [],
   "source": [
    "longitude, latitude=index2coord(sg,confl)"
   ]
  },
  {
   "cell_type": "code",
   "execution_count": 51,
   "metadata": {},
   "outputs": [
    {
     "data": {
      "text/html": [
       "<div>\n",
       "<style scoped>\n",
       "    .dataframe tbody tr th:only-of-type {\n",
       "        vertical-align: middle;\n",
       "    }\n",
       "\n",
       "    .dataframe tbody tr th {\n",
       "        vertical-align: top;\n",
       "    }\n",
       "\n",
       "    .dataframe thead th {\n",
       "        text-align: right;\n",
       "    }\n",
       "</style>\n",
       "<table border=\"1\" class=\"dataframe\">\n",
       "  <thead>\n",
       "    <tr style=\"text-align: right;\">\n",
       "      <th></th>\n",
       "      <th>Lon</th>\n",
       "      <th>Lat</th>\n",
       "      <th>Coordinates</th>\n",
       "    </tr>\n",
       "  </thead>\n",
       "  <tbody>\n",
       "    <tr>\n",
       "      <th>0</th>\n",
       "      <td>1616745.0</td>\n",
       "      <td>1925775.0</td>\n",
       "      <td>POINT (1616745 1925775)</td>\n",
       "    </tr>\n",
       "    <tr>\n",
       "      <th>1</th>\n",
       "      <td>1616755.0</td>\n",
       "      <td>1925775.0</td>\n",
       "      <td>POINT (1616755 1925775)</td>\n",
       "    </tr>\n",
       "  </tbody>\n",
       "</table>\n",
       "</div>"
      ],
      "text/plain": [
       "         Lon        Lat              Coordinates\n",
       "0  1616745.0  1925775.0  POINT (1616745 1925775)\n",
       "1  1616755.0  1925775.0  POINT (1616755 1925775)"
      ]
     },
     "execution_count": 51,
     "metadata": {},
     "output_type": "execute_result"
    }
   ],
   "source": [
    "gdf=geodataframe(longitude, latitude, crs)\n",
    "\n",
    "gdf.to_file(filename = r'C:\\Users\\sputnam\\Documents\\GitHub\\usgs-tools\\results\\allconfluences.shp')\n",
    "\n",
    "gdf.head(2)"
   ]
  }
 ],
 "metadata": {
  "kernelspec": {
   "display_name": "Python 3",
   "language": "python",
   "name": "python3"
  },
  "language_info": {
   "codemirror_mode": {
    "name": "ipython",
    "version": 3
   },
   "file_extension": ".py",
   "mimetype": "text/x-python",
   "name": "python",
   "nbconvert_exporter": "python",
   "pygments_lexer": "ipython3",
   "version": "3.7.1"
  }
 },
 "nbformat": 4,
 "nbformat_minor": 2
}
